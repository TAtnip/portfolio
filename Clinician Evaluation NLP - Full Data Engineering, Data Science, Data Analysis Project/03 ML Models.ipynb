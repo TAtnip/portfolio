{
 "cells": [
  {
   "cell_type": "markdown",
   "id": "3021ddfa-a99f-41f6-925c-e6176aad242a",
   "metadata": {},
   "source": [
    "## Part 3: Creating a Machine Learning Model\n",
    "The following code seeks to utilize pyspark to both navigate the data with SQL as well as build several machine learning models which will be tuned accordingly. For this part, I will be using the randomly generated evaluation data."
   ]
  },
  {
   "cell_type": "code",
   "execution_count": 2,
   "id": "43f3f7f5-c947-4c14-9b17-2e334243db32",
   "metadata": {},
   "outputs": [
    {
     "name": "stdout",
     "output_type": "stream",
     "text": [
      "+---+------+--------+--------+-----+--------+---------+---+---+---+---------+-------+---------+----------+------------+-------------+----------+----+------+----------+\n",
      "|age|   sex|  fusion|provider|brace|    pain|prior_loc|ste| hr| ad|num_falls|sup_sit|sit_stand|amb_assist|amb_distance|stairs_assist|num_stairs| los|dc_loc|need_rehab|\n",
      "+---+------+--------+--------+-----+--------+---------+---+---+---+---------+-------+---------+----------+------------+-------------+----------+----+------+----------+\n",
      "| 97|  male|cervical|   Nolan| none|  severe|        3|  0|  0|  2|        3|      1|        1|         0|          96|            4|         0| 4.8|     6|         1|\n",
      "| 67|  male|cervical|   Smith|aspen|moderate|        0|  0|  0|  2|        0|      2|        2|         2|          89|            4|         0| 4.1|     0|         0|\n",
      "| 51|female|cervical|     Woo| none|moderate|        1|  1|  1|  1|        0|      1|        2|         0|         153|            4|         0| 2.2|     1|         0|\n",
      "| 64|  male|  lumbar|   Kuzak| none|  severe|        4|  0|  0|  0|        0|      2|        3|         2|          28|            4|         0| 7.5|     6|         1|\n",
      "| 62|female|cervical|   Kuzak| none|    mild|        3|  0|  0|  2|        3|      0|        1|         1|          25|            4|         0| 6.6|     6|         1|\n",
      "| 56|female|  lumbar|     Woo| none|moderate|        0|  5|  2|  1|        0|      3|        2|         2|          34|            4|         0| 9.6|     6|         1|\n",
      "| 69|  male|  lumbar|     Woo| tlso|moderate|        5|  0|  1|  1|        8|      4|        4|         4|           0|            4|         0| 9.9|     5|         1|\n",
      "| 66|female|  lumbar|   Kuzak| none|    mild|        7|  0|  1|  0|        3|      2|        3|         1|          15|            4|         0|10.1|     7|         0|\n",
      "| 62|female|cervical|   Myers|aspen|    mild|        1|  0|  1|  0|        2|      2|        3|         1|          43|            1|         0| 9.1|     5|         1|\n",
      "| 70|  male|cervical|   Nolan|aspen|    mild|        0|  0|  1|  0|        2|      1|        3|         0|          42|            3|         0| 5.8|     5|         1|\n",
      "| 59|female|  lumbar|   Kuzak|  lso|moderate|        0|  2|  2|  2|        0|      3|        3|         2|          45|            4|         0|10.8|     6|         1|\n",
      "| 63|  male|cervical|   Smith|aspen|  severe|        6|  0|  1|  2|        1|      3|        2|         1|          13|            4|         0| 6.5|     6|         1|\n",
      "| 56|  male|  lumbar|   Nolan|  lso|  severe|        0|  1|  2|  1|        2|      4|        1|         4|           0|            4|         0|13.3|     0|         0|\n",
      "| 46|female|  lumbar|   Smith|  lso|  severe|        0|  0|  0|  2|        0|      1|        4|         4|           0|            4|         0| 6.2|     6|         1|\n",
      "| 66|female|cervical|   Myers| none|moderate|        1|  0|  1|  2|        0|      4|        2|         0|          66|            4|         0| 1.6|     1|         0|\n",
      "| 70|  male|cervical|   Nolan|aspen|moderate|        0|  0|  1|  2|        2|      0|        0|         0|          82|            3|         0| 2.7|     0|         0|\n",
      "| 65|  male|  lumbar|   Myers| tlso|moderate|        6|  0|  0|  0|        9|      4|        4|         4|           0|            4|         0| 8.2|     6|         1|\n",
      "| 72|female|  lumbar|   Smith|  lso|moderate|        6|  0|  0|  2|        3|      3|        3|         2|           3|            4|         0|13.1|     6|         1|\n",
      "| 74|  male|  lumbar|   Smith|  lso|    mild|        1|  1|  0|  2|        0|      0|        1|         1|          32|            4|         0|10.0|     5|         1|\n",
      "| 56|  male|cervical|   Nolan| none|    mild|        0|  0|  1|  0|        0|      4|        2|         1|         132|            0|         0| 1.8|     0|         0|\n",
      "+---+------+--------+--------+-----+--------+---------+---+---+---+---------+-------+---------+----------+------------+-------------+----------+----+------+----------+\n",
      "only showing top 20 rows\n",
      "\n"
     ]
    }
   ],
   "source": [
    "import pandas as pd\n",
    "import numpy as np\n",
    "import matplotlib.pyplot as plt\n",
    "\n",
    "from pyspark.sql import SparkSession\n",
    "from pyspark.sql.functions import col, expr\n",
    "from pyspark.ml.feature import VectorAssembler, OneHotEncoder, StringIndexer\n",
    "from pyspark.ml.evaluation import MulticlassClassificationEvaluator\n",
    "from pyspark.ml.classification import RandomForestClassifier, DecisionTreeClassifier\n",
    "from pyspark.ml import Pipeline\n",
    "from pyspark.ml.tuning import CrossValidator, ParamGridBuilder\n",
    "from pyspark.sql.types import StructType, StructField, IntegerType, StringType, DoubleType\n",
    "from pyspark.mllib.evaluation import MulticlassMetrics\n",
    "\n",
    "from sklearn.preprocessing import RobustScaler\n",
    "from sklearn.model_selection import train_test_split, GridSearchCV\n",
    "from sklearn.metrics import accuracy_score, confusion_matrix, mean_absolute_error, r2_score, precision_recall_fscore_support\n",
    "from sklearn.linear_model import LinearRegression, LogisticRegression, RANSACRegressor\n",
    "from sklearn.ensemble import RandomForestRegressor\n",
    "\n",
    "\n",
    "spark = SparkSession.builder.getOrCreate()\n",
    "sc = spark.sparkContext\n",
    "sc.setLogLevel(\"ERROR\")\n",
    "\n",
    "schema = StructType([\n",
    "    StructField(\"age\", IntegerType(), True),\n",
    "    StructField(\"sex\", StringType(), True),\n",
    "    StructField(\"fusion\", StringType(), True),\n",
    "    StructField(\"provider\", StringType(), True),\n",
    "    StructField(\"brace\", StringType(), True),\n",
    "    StructField(\"pain\", StringType(), True),\n",
    "    StructField(\"prior_loc\", IntegerType(), True),\n",
    "    StructField(\"ste\", IntegerType(), True),\n",
    "    StructField(\"hr\", IntegerType(), True),\n",
    "    StructField(\"ad\", IntegerType(), True),\n",
    "    StructField(\"num_falls\", IntegerType(), True),\n",
    "    StructField(\"sup_sit\", IntegerType(), True),\n",
    "    StructField(\"sit_stand\", IntegerType(), True),\n",
    "    StructField(\"amb_assist\", IntegerType(), True),\n",
    "    StructField(\"amb_distance\", IntegerType(), True),\n",
    "    StructField(\"stairs_assist\", IntegerType(), True),\n",
    "    StructField(\"num_stairs\", IntegerType(), True),\n",
    "    StructField(\"los\", DoubleType(), True),\n",
    "    StructField(\"dc_loc\", IntegerType(), True),\n",
    "    StructField(\"need_rehab\", IntegerType(), True)\n",
    "])\n",
    "\n",
    "spark_df = (\n",
    "    spark.read\n",
    "    .option('delimiter', ',')\n",
    "    .option('header', True)\n",
    "    .schema(schema)\n",
    "    .csv('PTDataForML.csv')\n",
    ")\n",
    "\n",
    "spark_df.show()\n"
   ]
  },
  {
   "cell_type": "markdown",
   "id": "9081d9e5-7907-48b3-a5c3-448981191606",
   "metadata": {},
   "source": [
    "## Pipeline\n",
    "\n",
    "We'll create a preprocessing pipeline and fit and tranform our Spark Dataframe. As we are using a Random Forest, we will not need to encode all features to integers at this time."
   ]
  },
  {
   "cell_type": "code",
   "execution_count": 3,
   "id": "eba81304-dd04-42fa-a6fa-fb48d1705bb9",
   "metadata": {},
   "outputs": [],
   "source": [
    "cat_features = ['sex', 'fusion', 'brace', 'provider', 'ad', 'prior_loc', 'pain', 'sup_sit', 'sit_stand', 'amb_assist', 'stairs_assist']\n",
    "num_features = [col for col in spark_df.columns[:-3] if col not in cat_features]\n",
    "\n",
    "ix_features = [c + '_ix' for c in cat_features]\n",
    "label_indexer = StringIndexer(inputCol='need_rehab', outputCol='label')\n",
    "feature_indexer = StringIndexer(inputCols=cat_features, outputCols=ix_features)\n",
    "assembler = VectorAssembler(inputCols=num_features + ix_features, outputCol='features')\n",
    "\n",
    "# Pipeline creation\n",
    "pipeline = Pipeline(stages=[label_indexer, feature_indexer, assembler]).fit(spark_df)\n",
    "\n",
    "spark_df_pipelined = pipeline.transform(spark_df)\n",
    "\n",
    "train, test = spark_df_pipelined.randomSplit([0.8, 0.2], seed=1)\n",
    "\n",
    "# We will use accuracy to score this model based on the predictions of the model and the true label.\n",
    "accuracy_eval = MulticlassClassificationEvaluator(\n",
    "    predictionCol='prediction', labelCol='label', metricName='accuracy')"
   ]
  },
  {
   "cell_type": "markdown",
   "id": "3699c5af-59e6-4ccf-b1fc-b611d9861b3f",
   "metadata": {},
   "source": [
    "We will confirm our sparse indexes."
   ]
  },
  {
   "cell_type": "code",
   "execution_count": 5,
   "id": "b36169db-4f0e-45bd-915f-ea90d9d880fe",
   "metadata": {},
   "outputs": [
    {
     "name": "stdout",
     "output_type": "stream",
     "text": [
      "+--------------------------------------------------------------------------+\n",
      "|features                                                                  |\n",
      "+--------------------------------------------------------------------------+\n",
      "|(17,[0,1,2,4,9,10,13,14],[36.0,3.0,1.0,14.0,4.0,1.0,2.0,1.0])             |\n",
      "|[38.0,0.0,1.0,4.0,2.0,0.0,1.0,1.0,0.0,3.0,2.0,6.0,2.0,3.0,0.0,1.0,0.0]    |\n",
      "|(17,[0,1,2,4,6,9,10,12,14,15],[38.0,2.0,1.0,61.0,1.0,3.0,1.0,2.0,2.0,1.0])|\n",
      "|(17,[0,4,9,11,13,14,15],[41.0,103.0,2.0,1.0,1.0,1.0,4.0])                 |\n",
      "|[45.0,1.0,2.0,0.0,184.0,1.0,0.0,1.0,1.0,0.0,1.0,0.0,0.0,1.0,1.0,0.0,1.0]  |\n",
      "|[45.0,3.0,2.0,0.0,132.0,2.0,0.0,1.0,1.0,0.0,0.0,0.0,1.0,1.0,1.0,2.0,3.0]  |\n",
      "|(17,[0,2,3,4,8,9,10,11,13,15],[45.0,1.0,1.0,36.0,3.0,4.0,1.0,2.0,1.0,1.0])|\n",
      "|[45.0,2.0,1.0,0.0,100.0,0.0,1.0,1.0,1.0,1.0,0.0,1.0,1.0,4.0,1.0,1.0,0.0]  |\n",
      "|(17,[0,2,3,4,6,8,11,13,14],[45.0,1.0,1.0,77.0,1.0,2.0,2.0,1.0,2.0])       |\n",
      "|[45.0,1.0,2.0,0.0,30.0,0.0,1.0,0.0,0.0,1.0,0.0,1.0,1.0,2.0,2.0,1.0,0.0]   |\n",
      "+--------------------------------------------------------------------------+\n",
      "only showing top 10 rows\n",
      "\n"
     ]
    }
   ],
   "source": [
    "train.select(['features']).show(10, truncate = False)"
   ]
  },
  {
   "cell_type": "markdown",
   "id": "cb51d74e-a886-4b9a-8ff0-b1afea1eb94a",
   "metadata": {},
   "source": [
    "### Random Forest Classifier"
   ]
  },
  {
   "cell_type": "code",
   "execution_count": 5,
   "id": "7a0657cb-3232-42c5-83db-c41faf9d41d8",
   "metadata": {
    "scrolled": true
   },
   "outputs": [
    {
     "name": "stderr",
     "output_type": "stream",
     "text": [
      "24/08/08 15:18:58 WARN GarbageCollectionMetrics: To enable non-built-in garbage collector(s) List(G1 Concurrent GC), users should configure it(them) to spark.eventLog.gcMetrics.youngGenerationGarbageCollectors or spark.eventLog.gcMetrics.oldGenerationGarbageCollectors\n"
     ]
    },
    {
     "name": "stdout",
     "output_type": "stream",
     "text": [
      "Max CV Score:   0.8668\n",
      "Optimal Depth:   6\n",
      "Optimal MinInst: 8\n"
     ]
    }
   ],
   "source": [
    "rforest = RandomForestClassifier(featuresCol='features', labelCol='label', numTrees=20, seed=1)\n",
    "\n",
    "# Param grid for tuning of our model.\n",
    "param_grid = (ParamGridBuilder()\n",
    "              .addGrid(rforest.maxDepth, range(2, 18, 2) )\n",
    "              .addGrid(rforest.minInstancesPerNode, [4, 8, 16, 32])\n",
    "              ).build()\n",
    "\n",
    "# Cross validation with 10 folds to reduce overfitting\n",
    "cv = CrossValidator(estimator=rforest, estimatorParamMaps=param_grid, numFolds=10, \n",
    "                    evaluator=accuracy_eval, seed=1, parallelism=6)\n",
    " \n",
    "cv_model = cv.fit(train)\n",
    " \n",
    "opt_rf_model = cv_model.bestModel\n",
    "opt_maxDepth = opt_rf_model.getMaxDepth()\n",
    "opt_minInstancesPerNode = opt_rf_model.getMinInstancesPerNode()\n",
    " \n",
    "print('Max CV Score:  ', round(max(cv_model.avgMetrics),4))\n",
    "print('Optimal Max Depth:  ', opt_maxDepth)\n",
    "print('Optimal MinInst:', opt_minInstancesPerNode)"
   ]
  },
  {
   "cell_type": "markdown",
   "id": "fa640545-6611-403f-a211-74e1bded6496",
   "metadata": {},
   "source": [
    "We will graph our parameters to ensure there is not a set of parameters we might be missing which could produce a stronger cross-validation score."
   ]
  },
  {
   "cell_type": "code",
   "execution_count": 6,
   "id": "febedd6e-ecdd-46cd-bd9b-01ee10c5dabb",
   "metadata": {
    "scrolled": true
   },
   "outputs": [
    {
     "data": {
      "image/png": "[encoded data removed]",
      "text/plain": [
       "<Figure size 640x480 with 1 Axes>"
      ]
     },
     "metadata": {},
     "output_type": "display_data"
    }
   ],
   "source": [
    "def graph_params(model): \n",
    "    model_params = model.getEstimatorParamMaps()\n",
    "    dt_cv_summary_list = []\n",
    "    for param_set, acc in zip(model_params, model.avgMetrics):\n",
    "        new_set = list(param_set.values()) + [acc]\n",
    "        dt_cv_summary_list.append(new_set)\n",
    "    cv_summary = pd.DataFrame(dt_cv_summary_list,\n",
    "                                columns=['maxDepth', 'minInst', 'acc'])\n",
    "    for mi in cv_summary.minInst.unique():\n",
    "        sel = cv_summary.minInst == mi\n",
    "        plt.plot(cv_summary.maxDepth[sel], cv_summary.acc[sel], label=mi)\n",
    "        plt.scatter(cv_summary.maxDepth[sel], cv_summary.acc[sel])\n",
    "    plt.legend()\n",
    "    plt.grid()\n",
    "    plt.xticks(range(4,26,2))\n",
    "    plt.xlabel('Max Depth')\n",
    "    plt.ylabel('Cross-Validation Score')\n",
    "    plt.show()\n",
    "\n",
    "\n",
    "graph_params(cv_model)"
   ]
  },
  {
   "cell_type": "markdown",
   "id": "c87d0acc-3245-4a32-ae09-015da8ba0698",
   "metadata": {},
   "source": [
    "We will calculate the proportions of need_rehab for our data to confirm our model has learned something and performs better than if we had predicted all outcomes to be the same."
   ]
  },
  {
   "cell_type": "code",
   "execution_count": 7,
   "id": "48fa6988-e244-48b5-bf80-cf2e110ac9dc",
   "metadata": {
    "scrolled": true
   },
   "outputs": [
    {
     "name": "stdout",
     "output_type": "stream",
     "text": [
      "+----------+-----+----+\n",
      "|need_rehab|count|prop|\n",
      "+----------+-----+----+\n",
      "|         1|  102|0.57|\n",
      "|         0|   77|0.43|\n",
      "+----------+-----+----+\n",
      "\n",
      "None\n"
     ]
    },
    {
     "name": "stderr",
     "output_type": "stream",
     "text": [
      "/Users/trevoratnip/anaconda3/lib/python3.11/site-packages/pyspark/sql/context.py:158: FutureWarning: Deprecated in 3.0.0. Use SparkSession.builder.getOrCreate() instead.\n",
      "  warnings.warn(\n",
      "                                                                                \r"
     ]
    },
    {
     "name": "stdout",
     "output_type": "stream",
     "text": [
      "Model Accuracy: 0.8659217877094972\n",
      "    0   1\n",
      "0  96   6\n",
      "1  18  59\n"
     ]
    }
   ],
   "source": [
    "def count_proportions(test_predictions):\n",
    "    N = test_predictions.count()\n",
    "    df = test_predictions.select('need_rehab').groupBy('need_rehab').agg(\n",
    "        expr('count(*) as count'), \n",
    "        expr(f'round(count(*)/{N},2) as prop')\n",
    "    ).show()\n",
    "    \n",
    "    return df\n",
    "def model_accuracy(model, test_set):\n",
    "    test_pred = model.transform(test_set)\n",
    "    pred_and_labels = test_pred.rdd.map(lambda x:(x['prediction'],float(x['label'])))\n",
    "    metrics = MulticlassMetrics(pred_and_labels)\n",
    "    \n",
    "    return metrics.accuracy\n",
    "\n",
    "def model_cm(model, test_set):\n",
    "    test_pred = model.transform(test_set)\n",
    "    pred_and_labels = test_pred.rdd.map(lambda x:(x['prediction'],float(x['label'])))\n",
    "    metrics = MulticlassMetrics(pred_and_labels)\n",
    "    cm = metrics.confusionMatrix().toArray().astype(int)\n",
    "    labels = range(0,2)\n",
    "    matrix = pd.DataFrame(\n",
    "        data=cm, \n",
    "        columns=labels,\n",
    "        index=labels\n",
    "    )\n",
    "    return matrix\n",
    "\n",
    "\n",
    "print(count_proportions(opt_rf_model.transform(test)))\n",
    "print(f'Model Accuracy: {model_accuracy(opt_rf_model, test)}')\n",
    "print(model_cm(opt_rf_model, test))"
   ]
  },
  {
   "cell_type": "markdown",
   "id": "09d0867c-b3f4-421f-85e0-0a766318fe9b",
   "metadata": {},
   "source": [
    "Now we will determine which variables appear most important in determining need_rehab."
   ]
  },
  {
   "cell_type": "code",
   "execution_count": 8,
   "id": "0239c414-e70c-4a5e-9d1e-d9bff30bb157",
   "metadata": {},
   "outputs": [
    {
     "data": {
      "text/html": [
       "<div>\n",
       "<style scoped>\n",
       "    .dataframe tbody tr th:only-of-type {\n",
       "        vertical-align: middle;\n",
       "    }\n",
       "\n",
       "    .dataframe tbody tr th {\n",
       "        vertical-align: top;\n",
       "    }\n",
       "\n",
       "    .dataframe thead th {\n",
       "        text-align: right;\n",
       "    }\n",
       "</style>\n",
       "<table border=\"1\" class=\"dataframe\">\n",
       "  <thead>\n",
       "    <tr style=\"text-align: right;\">\n",
       "      <th></th>\n",
       "      <th>features</th>\n",
       "      <th>importance</th>\n",
       "    </tr>\n",
       "  </thead>\n",
       "  <tbody>\n",
       "    <tr>\n",
       "      <th>4</th>\n",
       "      <td>amb_distance</td>\n",
       "      <td>0.553421</td>\n",
       "    </tr>\n",
       "    <tr>\n",
       "      <th>11</th>\n",
       "      <td>prior_loc</td>\n",
       "      <td>0.187503</td>\n",
       "    </tr>\n",
       "    <tr>\n",
       "      <th>7</th>\n",
       "      <td>fusion</td>\n",
       "      <td>0.056931</td>\n",
       "    </tr>\n",
       "    <tr>\n",
       "      <th>16</th>\n",
       "      <td>stairs_assist</td>\n",
       "      <td>0.038575</td>\n",
       "    </tr>\n",
       "    <tr>\n",
       "      <th>12</th>\n",
       "      <td>pain</td>\n",
       "      <td>0.021116</td>\n",
       "    </tr>\n",
       "    <tr>\n",
       "      <th>15</th>\n",
       "      <td>amb_assist</td>\n",
       "      <td>0.020842</td>\n",
       "    </tr>\n",
       "    <tr>\n",
       "      <th>9</th>\n",
       "      <td>provider</td>\n",
       "      <td>0.020457</td>\n",
       "    </tr>\n",
       "    <tr>\n",
       "      <th>3</th>\n",
       "      <td>num_falls</td>\n",
       "      <td>0.018737</td>\n",
       "    </tr>\n",
       "    <tr>\n",
       "      <th>8</th>\n",
       "      <td>brace</td>\n",
       "      <td>0.015906</td>\n",
       "    </tr>\n",
       "    <tr>\n",
       "      <th>14</th>\n",
       "      <td>sit_stand</td>\n",
       "      <td>0.013513</td>\n",
       "    </tr>\n",
       "    <tr>\n",
       "      <th>13</th>\n",
       "      <td>sup_sit</td>\n",
       "      <td>0.011873</td>\n",
       "    </tr>\n",
       "    <tr>\n",
       "      <th>0</th>\n",
       "      <td>age</td>\n",
       "      <td>0.011025</td>\n",
       "    </tr>\n",
       "    <tr>\n",
       "      <th>10</th>\n",
       "      <td>ad</td>\n",
       "      <td>0.010228</td>\n",
       "    </tr>\n",
       "    <tr>\n",
       "      <th>1</th>\n",
       "      <td>ste</td>\n",
       "      <td>0.007799</td>\n",
       "    </tr>\n",
       "    <tr>\n",
       "      <th>5</th>\n",
       "      <td>num_stairs</td>\n",
       "      <td>0.006162</td>\n",
       "    </tr>\n",
       "    <tr>\n",
       "      <th>2</th>\n",
       "      <td>hr</td>\n",
       "      <td>0.005197</td>\n",
       "    </tr>\n",
       "    <tr>\n",
       "      <th>6</th>\n",
       "      <td>sex</td>\n",
       "      <td>0.000713</td>\n",
       "    </tr>\n",
       "  </tbody>\n",
       "</table>\n",
       "</div>"
      ],
      "text/plain": [
       "         features  importance\n",
       "4    amb_distance    0.553421\n",
       "11      prior_loc    0.187503\n",
       "7          fusion    0.056931\n",
       "16  stairs_assist    0.038575\n",
       "12           pain    0.021116\n",
       "15     amb_assist    0.020842\n",
       "9        provider    0.020457\n",
       "3       num_falls    0.018737\n",
       "8           brace    0.015906\n",
       "14      sit_stand    0.013513\n",
       "13        sup_sit    0.011873\n",
       "0             age    0.011025\n",
       "10             ad    0.010228\n",
       "1             ste    0.007799\n",
       "5      num_stairs    0.006162\n",
       "2              hr    0.005197\n",
       "6             sex    0.000713"
      ]
     },
     "execution_count": 8,
     "metadata": {},
     "output_type": "execute_result"
    }
   ],
   "source": [
    "def importances(numerical_ft, categorical_ft, model):\n",
    "    ft = numerical_ft+categorical_ft\n",
    "    importance = pd.DataFrame({\n",
    "        'features' : ft\n",
    "    })\n",
    "    importance['importance'] = 0.0\n",
    "    lst = list(model.featureImportances)\n",
    "    \n",
    "    for index, value in enumerate(lst):\n",
    "        importance.loc[index,'importance'] = value\n",
    "    return importance\n",
    "\n",
    "importances(num_features, cat_features, opt_rf_model).sort_values('importance', ascending = False)"
   ]
  },
  {
   "cell_type": "markdown",
   "id": "9298c07d-507f-4950-b4d9-ac2b9057aab9",
   "metadata": {},
   "source": [
    "It is important to remember that much of the data is completely random and almost nonsensical currently. We can predict that this will reduce importances of items we did not include in our assumptions when producing the random data. We can, however, see that ambulation distance as well as prior level of function have significant importances greater than the other features.\n",
    "\n",
    "Let's reduce the number of features to see if we can create a stronger model."
   ]
  },
  {
   "cell_type": "code",
   "execution_count": 9,
   "id": "8fb1e28c-1fbd-478d-ad85-53636c1ed950",
   "metadata": {},
   "outputs": [],
   "source": [
    "spark_df_reduced = spark_df.select('num_falls', 'amb_distance', 'fusion', 'prior_loc', 'pain', 'need_rehab')\n",
    "\n",
    "cat_features_reduced = ['fusion', 'prior_loc', 'pain']\n",
    "num_features_reduced = ['num_falls', 'amb_distance']\n",
    "\n",
    "ix_features_reduced = [c + '_ix' for c in cat_features_reduced]\n",
    "label_indexer = StringIndexer(inputCol='need_rehab', outputCol='label')\n",
    "feature_indexer = StringIndexer(inputCols=cat_features_reduced, outputCols=ix_features_reduced)\n",
    "assembler = VectorAssembler(inputCols=num_features_reduced + ix_features_reduced, outputCol='features')\n",
    "\n",
    "\n",
    "pipeline = Pipeline(stages=[label_indexer, feature_indexer, assembler]).fit(spark_df_reduced)\n",
    "\n",
    "spark_df_pipeline_reduced = pipeline.transform(spark_df_reduced)\n",
    "\n",
    "train_reduced, test_reduced = spark_df_pipeline_reduced.randomSplit([0.8, 0.2], seed=1)\n",
    "\n",
    "accuracy_eval = MulticlassClassificationEvaluator(\n",
    "    predictionCol='prediction', labelCol='label', metricName='accuracy')"
   ]
  },
  {
   "cell_type": "code",
   "execution_count": 11,
   "id": "6d92b5e6-6065-4235-b255-f051f79f6661",
   "metadata": {},
   "outputs": [
    {
     "name": "stdout",
     "output_type": "stream",
     "text": [
      "Max CV Score:   0.8599\n",
      "Optimal Depth:   8\n",
      "Optimal MinInst: 4\n"
     ]
    }
   ],
   "source": [
    "rforest = RandomForestClassifier(featuresCol='features', labelCol='label', numTrees=20, seed=1)\n",
    " \n",
    "param_grid = (ParamGridBuilder()\n",
    "              .addGrid(rforest.maxDepth, range(2, 18, 2) )\n",
    "              .addGrid(rforest.minInstancesPerNode, [4, 8, 16, 32])\n",
    "              ).build()\n",
    " \n",
    "cv_reduced = CrossValidator(estimator=rforest, estimatorParamMaps=param_grid, numFolds=10, \n",
    "                    evaluator=accuracy_eval, seed=1, parallelism=6)\n",
    " \n",
    "cv_model_reduced = cv_reduced.fit(train_reduced)\n",
    " \n",
    "opt_rf_model_reduced = cv_model_reduced.bestModel\n",
    "opt_maxDepth_reduced = opt_rf_model_reduced.getMaxDepth()\n",
    "opt_minInstancesPerNode_reduced = opt_rf_model_reduced.getMinInstancesPerNode()\n",
    " \n",
    "print('Max CV Score:  ', round(max(cv_model_reduced.avgMetrics),4))\n",
    "print('Optimal Maximum Depth:  ', opt_maxDepth_reduced)\n",
    "print('Optimal MinInst:', opt_minInstancesPerNode_reduced)"
   ]
  },
  {
   "cell_type": "code",
   "execution_count": 12,
   "id": "3b1b1f5c-95d5-4993-814a-65e2b19787d9",
   "metadata": {},
   "outputs": [
    {
     "data": {
      "image/png": "[encoded data removed]",
      "text/plain": [
       "<Figure size 640x480 with 1 Axes>"
      ]
     },
     "metadata": {},
     "output_type": "display_data"
    },
    {
     "name": "stdout",
     "output_type": "stream",
     "text": [
      "+----------+-----+----+\n",
      "|need_rehab|count|prop|\n",
      "+----------+-----+----+\n",
      "|         1|   98|0.55|\n",
      "|         0|   81|0.45|\n",
      "+----------+-----+----+\n",
      "\n",
      "None\n"
     ]
    },
    {
     "name": "stderr",
     "output_type": "stream",
     "text": [
      "/Users/trevoratnip/anaconda3/lib/python3.11/site-packages/pyspark/sql/context.py:158: FutureWarning: Deprecated in 3.0.0. Use SparkSession.builder.getOrCreate() instead.\n",
      "  warnings.warn(\n"
     ]
    },
    {
     "name": "stdout",
     "output_type": "stream",
     "text": [
      "Model Accuracy: 0.8770949720670391\n",
      "    0   1\n",
      "0  93   5\n",
      "1  17  64\n"
     ]
    },
    {
     "data": {
      "text/html": [
       "<div>\n",
       "<style scoped>\n",
       "    .dataframe tbody tr th:only-of-type {\n",
       "        vertical-align: middle;\n",
       "    }\n",
       "\n",
       "    .dataframe tbody tr th {\n",
       "        vertical-align: top;\n",
       "    }\n",
       "\n",
       "    .dataframe thead th {\n",
       "        text-align: right;\n",
       "    }\n",
       "</style>\n",
       "<table border=\"1\" class=\"dataframe\">\n",
       "  <thead>\n",
       "    <tr style=\"text-align: right;\">\n",
       "      <th></th>\n",
       "      <th>features</th>\n",
       "      <th>importance</th>\n",
       "    </tr>\n",
       "  </thead>\n",
       "  <tbody>\n",
       "    <tr>\n",
       "      <th>1</th>\n",
       "      <td>amb_distance</td>\n",
       "      <td>0.607454</td>\n",
       "    </tr>\n",
       "    <tr>\n",
       "      <th>3</th>\n",
       "      <td>prior_loc</td>\n",
       "      <td>0.258125</td>\n",
       "    </tr>\n",
       "    <tr>\n",
       "      <th>0</th>\n",
       "      <td>num_falls</td>\n",
       "      <td>0.046749</td>\n",
       "    </tr>\n",
       "    <tr>\n",
       "      <th>4</th>\n",
       "      <td>pain</td>\n",
       "      <td>0.046718</td>\n",
       "    </tr>\n",
       "    <tr>\n",
       "      <th>2</th>\n",
       "      <td>fusion</td>\n",
       "      <td>0.040954</td>\n",
       "    </tr>\n",
       "  </tbody>\n",
       "</table>\n",
       "</div>"
      ],
      "text/plain": [
       "       features  importance\n",
       "1  amb_distance    0.607454\n",
       "3     prior_loc    0.258125\n",
       "0     num_falls    0.046749\n",
       "4          pain    0.046718\n",
       "2        fusion    0.040954"
      ]
     },
     "execution_count": 12,
     "metadata": {},
     "output_type": "execute_result"
    }
   ],
   "source": [
    "# We will perform the same metrics and tests as we had on the prior rf model.\n",
    "graph_params(cv_model_reduced)\n",
    "print(count_proportions(opt_rf_model_reduced.transform(test_reduced)))\n",
    "print(f'Model Accuracy: {model_accuracy(opt_rf_model_reduced, test_reduced)}')\n",
    "print(model_cm(opt_rf_model_reduced, test_reduced))\n",
    "importances(num_features_reduced, cat_features_reduced, opt_rf_model_reduced).sort_values('importance', ascending= False)"
   ]
  },
  {
   "cell_type": "markdown",
   "id": "fc47f1cc-2a93-4f95-af6b-dd98f2bb397e",
   "metadata": {},
   "source": [
    "When attempting to reduce the noise, we receive approximately the same results with some small shifts in precision and recall. "
   ]
  },
  {
   "cell_type": "markdown",
   "id": "4b93c42c-0886-42f0-8de6-88f16bbc1d4b",
   "metadata": {},
   "source": [
    "### Logistic Regression\n",
    "We will now compare Logistic Regression to our Random Forest model.\n",
    "\n",
    "I will also switch over to the sci-kit learn library to perform this analysis. "
   ]
  },
  {
   "cell_type": "markdown",
   "id": "0dffd926-0494-44c7-bf7c-80cbc5399952",
   "metadata": {},
   "source": [
    "In order to accomplish logistic regression, we will need to encode our:\n",
    "* nominal features(sex, fusion, provider, prior_loc, ad), \n",
    "* ordinal features (brace, pain, sup_sit, sit_stand, amb_assist, stairs_assist) \\\n",
    "\n",
    "\n",
    "and standardize the rest of the numerical features (age, ste, hr, num_falls, amb_distance, num_stairs)."
   ]
  },
  {
   "cell_type": "code",
   "execution_count": 17,
   "id": "5b8be2cc-1f29-4b80-80ff-96eba06e671b",
   "metadata": {},
   "outputs": [],
   "source": [
    "df = spark_df.toPandas()\n",
    "## Ordinal feature encoding of pain into two groups: mild+moderate and severe\n",
    "df['pain_severe'] = df['pain'].apply(lambda x: 1 if x == 'severe' else 0)\n",
    "df['pain_min_mod'] = df['pain_severe'].apply(lambda x: 0 if x == 1 else 1)\n",
    "del df['pain']\n",
    "\n",
    "## Ordinal brace encoding\n",
    "df['brace_none'] = df['brace'].apply(lambda x: 1 if x =='none' else 0)\n",
    "df['brace_lso'] = df['brace'].apply(lambda x: 1 if x =='lso' else 0)\n",
    "df['brace_tlso'] = df['brace'].apply(lambda x: 1 if x =='tlso' else 0)\n",
    "df['brace_aspen'] = df['brace'].apply(lambda x: 1 if x == 'aspen' else 0)\n",
    "del df['brace']"
   ]
  },
  {
   "cell_type": "markdown",
   "id": "12242c19-a4cc-41c6-b8aa-a7edd5341108",
   "metadata": {},
   "source": [
    "### Mobility\n",
    "\n",
    "As it stands, there is a significant amount of colinear data contained in sup_sit, sit_stand, amb_assist, and stairs_assist. An individual will not have ambulated if they did not stand. They will not stand if they have not performed supine to sit. It may be best to converge supine to sit and sit to stand into a single binary column which demonstrates whether the patient was able to stand at all. Amb_assist and stairs_assist may also be excluded as we might surmise that if the patient performed a long ambulation or performed several steps, they did not require as much assistance. "
   ]
  },
  {
   "cell_type": "code",
   "execution_count": 18,
   "id": "fb454d2d-3f37-4d14-b3fd-7f834cf4c42a",
   "metadata": {},
   "outputs": [],
   "source": [
    "df['stand'] = df['sit_stand'].apply(lambda x: 1 if x in (0,1,2,3) else 0)\n",
    "del df['sup_sit']\n",
    "del df['sit_stand']\n",
    "del df['stairs_assist']\n",
    "del df['amb_assist']"
   ]
  },
  {
   "cell_type": "code",
   "execution_count": 19,
   "id": "96653ea1-6adf-49d1-a04b-9393786a197e",
   "metadata": {},
   "outputs": [],
   "source": [
    "## Nominal encoding of sex, fusion, provider, prior_loc, ad\n",
    "prior_loc_dict = {\n",
    "    '1sh': 0,\n",
    "    '2sh': 1,\n",
    "    'apt': 2,\n",
    "    'ilf': 3,\n",
    "    'alf': 4,\n",
    "    'snf': 5,\n",
    "    'ipr': 6,\n",
    "    'ltc': 7\n",
    "}\n",
    "\n",
    "ad_dict = {\n",
    "    'none': 0,\n",
    "    'cane': 1,\n",
    "    'walker': 2\n",
    "}\n",
    "\n",
    "inverse_prior_loc_mapping = {v: k for k,v in prior_loc_dict.items()}\n",
    "inverse_ad_mapping = {v: k for k,v in ad_dict.items()}\n",
    "\n",
    "df['prior_loc'] = df['prior_loc'].map(inverse_prior_loc_mapping)\n",
    "df['ad'] = df['ad'].map(inverse_ad_mapping)\n",
    "\n",
    "\n",
    "col_encoded = pd.get_dummies(df[['sex', 'fusion', 'provider', 'prior_loc', 'ad']], dtype = 'int64')"
   ]
  },
  {
   "cell_type": "code",
   "execution_count": 20,
   "id": "039bef0c-6e53-4202-a38d-fe8df8c7e3ca",
   "metadata": {},
   "outputs": [],
   "source": [
    "df = pd.concat([df, col_encoded], ignore_index = False, axis = 1)\n",
    "\n",
    "del df['sex']\n",
    "del df['fusion']\n",
    "del df['provider']\n",
    "del df['prior_loc']\n",
    "del df['ad']\n",
    "\n",
    "## Reorganized columns so that labels are at the end for convenience\n",
    "df = (\n",
    "    df[\n",
    "    [col for col in df.columns if col not in ['los', 'dc_loc', 'need_rehab']]\n",
    "    + ['los'] + ['dc_loc'] + ['need_rehab']]\n",
    ")"
   ]
  },
  {
   "cell_type": "markdown",
   "id": "d895ff17-d9a4-4429-a53d-c8a0e9c8f5ec",
   "metadata": {},
   "source": [
    "### Standardization\n",
    "\n",
    "I will split the data into training and testing samples which are stratified on the need_rehab label. Considering the dataset is relatively small and may contain significant outliers, we will use the RobustScaler class from Scikit-Learn to standardize our data."
   ]
  },
  {
   "cell_type": "code",
   "execution_count": 21,
   "id": "7ec91008-f82a-4cc1-a14d-31a9e9d16bb0",
   "metadata": {},
   "outputs": [],
   "source": [
    "## Split and standardize data\n",
    "X, y = df.iloc[:,0:-3], df.iloc[:,-1]\n",
    "X_train, X_test, y_train, y_test = train_test_split(X, y, test_size = 0.2, random_state = 0, stratify = y)\n",
    "standardizer = RobustScaler()\n",
    "\n",
    "X_train_std = standardizer.fit_transform(X_train)\n",
    "X_test_std = standardizer.fit_transform(X_test)"
   ]
  },
  {
   "cell_type": "code",
   "execution_count": 22,
   "id": "759fa1a7-d7b2-4577-983e-fa5047b2d8cd",
   "metadata": {},
   "outputs": [
    {
     "name": "stdout",
     "output_type": "stream",
     "text": [
      "Best Parameters: {'C': 100, 'penalty': 'l2'}\n",
      "Training Accuracy: 0.85875\n",
      "Test Set Accuracy: 0.815\n"
     ]
    }
   ],
   "source": [
    "param_grid = {\n",
    "    'C': [0.1, 1, 10, 100, 1000],\n",
    "    'penalty': ['l2']\n",
    "}\n",
    "\n",
    "# Logistic Regression model for classification\n",
    "log_reg = LogisticRegression(solver='newton-cholesky', multi_class = 'ovr' )\n",
    "gridsearch_lr = GridSearchCV(estimator = log_reg, param_grid=param_grid, cv=5, scoring='accuracy')\n",
    "\n",
    "gridsearch_lr.fit(X_train_std, y_train)\n",
    "\n",
    "best_params = gridsearch_lr.best_params_\n",
    "print(\"Best Parameters:\", best_params)\n",
    "\n",
    "best_model = gridsearch_lr.best_estimator_\n",
    "y_pred = best_model.predict(X_test_std)\n",
    "\n",
    "\n",
    "accuracy = accuracy_score(y_test, y_pred)\n",
    "print('Training Accuracy:', gridsearch_lr.score(X_train_std, y_train))\n",
    "print(\"Test Set Accuracy:\", accuracy)"
   ]
  },
  {
   "cell_type": "code",
   "execution_count": 23,
   "id": "6f0c64ec-0ef9-4597-aad3-afd5dd072700",
   "metadata": {},
   "outputs": [
    {
     "name": "stdout",
     "output_type": "stream",
     "text": [
      "[[66 22]\n",
      " [15 97]]\n"
     ]
    }
   ],
   "source": [
    "cm_lr = confusion_matrix(y_true = y_test, y_pred = y_pred)\n",
    "\n",
    "print(cm_lr)"
   ]
  },
  {
   "cell_type": "markdown",
   "id": "70da675e-1320-431b-ad2b-3aa355e2655c",
   "metadata": {},
   "source": [
    "### Best model\n",
    "\n",
    "Based on the results, our random forest model returned a stronger accuracy over the entire test set compared to the logistic regression model. "
   ]
  },
  {
   "cell_type": "markdown",
   "id": "3dfe908c-eb71-4897-b47a-afda8acd9eb5",
   "metadata": {},
   "source": [
    "## Regression Models to predict Length-of-Stay\n",
    "\n",
    "We will now attempt to predict Length-of-Stay using two models: **Linear Regression** and **Random Forest Regression**"
   ]
  },
  {
   "cell_type": "markdown",
   "id": "f931cb56-7e71-4674-bb6c-2743a7306d45",
   "metadata": {},
   "source": [
    "There are likely significant outliers in our dataset. We will utilize the RANSAC algorithm to fit a regression model on the inliers. "
   ]
  },
  {
   "cell_type": "code",
   "execution_count": 28,
   "id": "a917e744-fc93-4942-8c09-b93d11c50b1e",
   "metadata": {},
   "outputs": [
    {
     "name": "stdout",
     "output_type": "stream",
     "text": [
      "Best Parameters: {'max_trials': 50, 'min_samples': 0.95, 'residual_threshold': 3.5582400000000005}\n",
      "Mean Absolute Error: 1.817263671875\n",
      "R^2 Score: 0.4402231234121694\n"
     ]
    }
   ],
   "source": [
    "# Split data\n",
    "X, y = df.iloc[:,0:-3], df.loc[:,'los']\n",
    "\n",
    "X = standardizer.fit_transform(X)\n",
    "X_train, X_test, y_train, y_test = train_test_split(X, y, test_size = 0.2, random_state = 0)\n",
    "\n",
    "# Determine study-based residual threshold to include in param_grid\n",
    "median_y = np.median(y_train)\n",
    "mad_y = np.median(np.abs(y_train - median_y))\n",
    "residual_threshold = 1.4826 * mad_y \n",
    "\n",
    "param_grid = {\n",
    "    'max_trials': [50, 100, 200],\n",
    "    'min_samples': [0.5, 0.75, 0.95],\n",
    "    'residual_threshold': [1.0, 1.4826, 2.0, residual_threshold]\n",
    "}\n",
    "ransac = RANSACRegressor()\n",
    "\n",
    "# Set up GridSearchCV for tuning\n",
    "grid_search = GridSearchCV(estimator=ransac, param_grid=param_grid, cv=5, scoring='r2')\n",
    "\n",
    "grid_search.fit(X_train, y_train)\n",
    "\n",
    "\n",
    "best_ransac = grid_search.best_estimator_\n",
    "\n",
    "# Make predictions with the best model\n",
    "y_pred = best_ransac.predict(X_test)\n",
    "\n",
    "# Evaluate the model\n",
    "mae = mean_absolute_error(y_test, y_pred)\n",
    "r2 = r2_score(y_test, y_pred)\n",
    "\n",
    "print(f'Best Parameters: {grid_search.best_params_}')\n",
    "print(f'Mean Absolute Error: {mae}')\n",
    "print(f'R^2 Score: {r2}')"
   ]
  },
  {
   "cell_type": "markdown",
   "id": "af14650c-e866-4a64-91e9-68b9ba8f683e",
   "metadata": {},
   "source": [
    "The RANSAC R^2 score is low. We will also perform Random Forest Regression to compare."
   ]
  },
  {
   "cell_type": "code",
   "execution_count": 29,
   "id": "3e067e35-cb93-4057-9e34-ffbca9f6bd70",
   "metadata": {},
   "outputs": [
    {
     "name": "stdout",
     "output_type": "stream",
     "text": [
      " MAE train: 0.48\n",
      " MAE test: 1.26\n",
      "R^2 train: 0.96\n",
      "R^2 test: 0.69\n"
     ]
    }
   ],
   "source": [
    "# Split the data\n",
    "X, y = df.iloc[:,0:-3], df.loc[:,'los']\n",
    "X_train, X_test, y_train, y_test = train_test_split(X, y, test_size = 0.2, random_state = 0)\n",
    "\n",
    "# Random Forest Regression model\n",
    "rfr = RandomForestRegressor(\n",
    "    n_estimators = 1000,\n",
    "    random_state = 1,\n",
    "    n_jobs = -1)\n",
    "rfr.fit(X_train, y_train)\n",
    "\n",
    "#Create predictions\n",
    "y_train_pred = rfr.predict(X_train)\n",
    "y_test_pred = rfr.predict(X_test)\n",
    "\n",
    "# Determine performance\n",
    "mae_train = mean_absolute_error(y_train, y_train_pred)\n",
    "mae_test = mean_absolute_error(y_test, y_test_pred)\n",
    "\n",
    "print(f' MAE train: {mae_train:.2f}')\n",
    "print(f' MAE test: {mae_test:.2f}')\n",
    "\n",
    "r2_train = r2_score(y_train, y_train_pred)\n",
    "r2_test = r2_score(y_test, y_test_pred)\n",
    "print(f'R^2 train: {r2_train:.2f}')\n",
    "print(f'R^2 test: {r2_test:.2f}')"
   ]
  },
  {
   "cell_type": "markdown",
   "id": "b264a96b-5340-46a2-ab41-c765a58b67b6",
   "metadata": {},
   "source": [
    "We can see from our R^2 results that there is a significant amount of overfitting occurring due to the 0.27 difference between training and testing R^2. We will attempt to tune hyperparameters to improve our performance on the test set."
   ]
  },
  {
   "cell_type": "code",
   "execution_count": 30,
   "id": "4c307164-dcb9-4ec8-bd2f-b2824489ad52",
   "metadata": {},
   "outputs": [
    {
     "name": "stdout",
     "output_type": "stream",
     "text": [
      "Best Parameters: {'max_depth': 3, 'max_features': None, 'min_samples_leaf': 8, 'min_samples_split': 30, 'n_estimators': 250}\n",
      " MAE train: 1.20\n",
      " MAE test: 1.24\n",
      "R^2 train: 0.73\n",
      "R^2 test: 0.70\n"
     ]
    }
   ],
   "source": [
    "param_grid = {\n",
    "    'n_estimators': [100, 250, 500, 750],\n",
    "    'max_depth': [None, 3, 4, 5, 8, 10],\n",
    "    'min_samples_split': [10, 15, 20, 30],\n",
    "    'min_samples_leaf': [2, 4, 6, 8],\n",
    "    'max_features' : ['sqrt', 'log2', None]\n",
    "}\n",
    "\n",
    "grid_search_rfr = GridSearchCV(estimator=RandomForestRegressor(random_state=1), \n",
    "                           param_grid=param_grid, \n",
    "                           cv=5, \n",
    "                           scoring='r2',\n",
    "                           n_jobs=-1)\n",
    "\n",
    "grid_search_rfr.fit(X_train, y_train)\n",
    "\n",
    "# Get the best estimator\n",
    "best_rfr = grid_search_rfr.best_estimator_\n",
    "\n",
    "# Create predictions with the best model\n",
    "y_train_pred = best_rfr.predict(X_train)\n",
    "y_test_pred = best_rfr.predict(X_test)\n",
    "\n",
    "# Evaluate the model\n",
    "mae_train = mean_absolute_error(y_train, y_train_pred)\n",
    "mae_test = mean_absolute_error(y_test, y_test_pred)\n",
    "\n",
    "best_params = grid_search_rfr.best_params_\n",
    "print(\"Best Parameters:\", best_params)\n",
    "print(f' MAE train: {mae_train:.2f}')\n",
    "print(f' MAE test: {mae_test:.2f}')\n",
    "\n",
    "r2_train = r2_score(y_train, y_train_pred)\n",
    "r2_test = r2_score(y_test, y_test_pred)\n",
    "print(f'R^2 train: {r2_train:.2f}')\n",
    "print(f'R^2 test: {r2_test:.2f}')"
   ]
  },
  {
   "cell_type": "markdown",
   "id": "52ed8e77-955a-458b-9541-e1eb62e0c8b3",
   "metadata": {},
   "source": [
    "## Models for prediction\n",
    "\n",
    "Based on the results of this study, our best model to predict length-of-stay is our Random Forest Regressor model with the parameters of {'max_depth': 3, 'max_features': None, 'min_samples_leaf': 8, 'min_samples_split': 30, 'n_estimators': 250}. For this model, we received an R^2 of 0.70. This tells us that our current data accounts for about **70%** of the variation in length-of-stay. \n",
    "\n",
    "Our best model **based on accuracy** to predict need for rehabilitation is the Random Forest Classifier model with the parameters of {'max_depth': 6, 'minInstancesperNode': 8}. Based on the accuracy score of 0.86, we are able to predict the outcome of need for rehabilitation based on the evaluation alone with this data roughly **86%** of the time. Precision was 92.75% for this model, while recall was 79.01%. Precision for the logistic regression model was 81.51% and recall was 86.61%. Based on precision and recall, it may be **more beneficial to utilize the logistic regression model** for need_rehab. This is because it likely is more beneficial to identify patients who are more likely to need rehab as there are a number of hospital processes that benefit from beginning earlier such as referrals for authorization and reduced plan of care to reduce length-of-stay for that patient in the acute care setting and improve frequency of those patients that are not expected to discharge to rehab to reduce length-of-stay for those patients as well."
   ]
  }
 ],
 "metadata": {
  "kernelspec": {
   "display_name": "Python 3 (ipykernel)",
   "language": "python",
   "name": "python3"
  },
  "language_info": {
   "codemirror_mode": {
    "name": "ipython",
    "version": 3
   },
   "file_extension": ".py",
   "mimetype": "text/x-python",
   "name": "python",
   "nbconvert_exporter": "python",
   "pygments_lexer": "ipython3",
   "version": "3.11.5"
  }
 },
 "nbformat": 4,
 "nbformat_minor": 5
}
