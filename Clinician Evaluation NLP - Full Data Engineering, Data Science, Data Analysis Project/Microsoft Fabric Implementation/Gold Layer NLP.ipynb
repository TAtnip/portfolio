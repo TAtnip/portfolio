{
 "cells": [
  {
   "cell_type": "markdown",
   "id": "99449266-a7ac-4f5c-8633-cfa67621c19b",
   "metadata": {
    "microsoft": {
     "language": "python",
     "language_group": "synapse_pyspark"
    },
    "nteract": {
     "transient": {
      "deleting": false
     }
    }
   },
   "source": [
    "# Gold Layer NLP - Addition of Business Logic"
   ]
  },
  {
   "cell_type": "code",
   "execution_count": 2,
   "id": "8f3c95b7-80d6-4a20-aa1e-e5cf782a3787",
   "metadata": {
    "microsoft": {
     "language": "python",
     "language_group": "synapse_pyspark"
    }
   },
   "outputs": [
    {
     "data": {
      "application/vnd.livy.statement-meta+json": {
       "execution_finish_time": "2024-08-09T15:32:52.0359875Z",
       "execution_start_time": "2024-08-09T15:32:51.1341415Z",
       "livy_statement_state": "available",
       "normalized_state": "finished",
       "parent_msg_id": "6f713450-1474-4394-926d-46ed686f64e8",
       "queued_time": "2024-08-09T15:32:50.3641332Z",
       "session_id": "29fdca0d-03f2-4032-a3f3-67929928e730",
       "session_start_time": null,
       "spark_pool": null,
       "state": "finished",
       "statement_id": 6,
       "statement_ids": [
        6
       ]
      },
      "text/plain": [
       "StatementMeta(, 29fdca0d-03f2-4032-a3f3-67929928e730, 6, Finished, Available, Finished)"
      ]
     },
     "metadata": {},
     "output_type": "display_data"
    }
   ],
   "source": [
    "from pyspark.sql.functions import expr, col, to_date\n",
    "\n",
    "df = spark.sql(\"SELECT * FROM PT_evals_lakehouse.silver_layer_nlp LIMIT 1000\")\n",
    "\n",
    "# Only act upon those rows which are new for the week\n",
    "df = df.withColumn('eval_date', to_date(col('eval_date'), 'yyyy-MM-dd'))\n",
    "df = df.filter(expr(f\"eval_date >= TO_DATE('{last_added_date}', 'yyyy-MM-dd')\"))"
   ]
  },
  {
   "cell_type": "code",
   "execution_count": 3,
   "id": "63ace32d-a919-40c3-8bc3-5c6b9e962346",
   "metadata": {
    "collapsed": false,
    "jupyter": {
     "outputs_hidden": false,
     "source_hidden": false
    },
    "microsoft": {
     "language": "python",
     "language_group": "synapse_pyspark"
    },
    "nteract": {
     "transient": {
      "deleting": false
     }
    }
   },
   "outputs": [
    {
     "data": {
      "application/vnd.livy.statement-meta+json": {
       "execution_finish_time": "2024-08-09T15:32:54.9456526Z",
       "execution_start_time": "2024-08-09T15:32:54.5352632Z",
       "livy_statement_state": "available",
       "normalized_state": "finished",
       "parent_msg_id": "5b5486ff-8057-4750-88c5-9c16a1cc73ea",
       "queued_time": "2024-08-09T15:32:53.8851851Z",
       "session_id": "29fdca0d-03f2-4032-a3f3-67929928e730",
       "session_start_time": null,
       "spark_pool": null,
       "state": "finished",
       "statement_id": 7,
       "statement_ids": [
        7
       ]
      },
      "text/plain": [
       "StatementMeta(, 29fdca0d-03f2-4032-a3f3-67929928e730, 7, Finished, Available, Finished)"
      ]
     },
     "metadata": {},
     "output_type": "display_data"
    }
   ],
   "source": [
    "# Pain, while 0-10, is not necessarily linear. It is likely better to categorize into three groups\n",
    "def categorize_pain(num):\n",
    "    if num < 4: return 'mild'\n",
    "    elif num < 8: return 'moderate'\n",
    "    else: return 'severe'\n",
    "    \n",
    "spark.udf.register('categorize_pain', categorize_pain)\n",
    "\n",
    "df = df.withColumn('pain', expr('categorize_pain(pain)'))"
   ]
  },
  {
   "cell_type": "code",
   "execution_count": 4,
   "id": "23082080-8e2a-4147-bb3f-684c50f6be69",
   "metadata": {
    "collapsed": false,
    "jupyter": {
     "outputs_hidden": false,
     "source_hidden": false
    },
    "microsoft": {
     "language": "python",
     "language_group": "synapse_pyspark"
    },
    "nteract": {
     "transient": {
      "deleting": false
     }
    }
   },
   "outputs": [
    {
     "data": {
      "application/vnd.livy.statement-meta+json": {
       "execution_finish_time": "2024-08-09T15:33:09.7042016Z",
       "execution_start_time": "2024-08-09T15:32:57.1583913Z",
       "livy_statement_state": "available",
       "normalized_state": "finished",
       "parent_msg_id": "7ea11378-c329-40bc-8467-716bde80f45d",
       "queued_time": "2024-08-09T15:32:56.5947878Z",
       "session_id": "29fdca0d-03f2-4032-a3f3-67929928e730",
       "session_start_time": null,
       "spark_pool": null,
       "state": "finished",
       "statement_id": 8,
       "statement_ids": [
        8
       ]
      },
      "text/plain": [
       "StatementMeta(, 29fdca0d-03f2-4032-a3f3-67929928e730, 8, Finished, Available, Finished)"
      ]
     },
     "metadata": {},
     "output_type": "display_data"
    }
   ],
   "source": [
    "df.write.mode('append').saveAsTable('gold_layer_nlp')"
   ]
  },
  {
   "cell_type": "code",
   "execution_count": 5,
   "id": "11975671-4374-4a0c-87b5-8782dc50a8e1",
   "metadata": {
    "collapsed": false,
    "jupyter": {
     "outputs_hidden": false,
     "source_hidden": false
    },
    "microsoft": {
     "language": "sparksql",
     "language_group": "synapse_pyspark"
    },
    "nteract": {
     "transient": {
      "deleting": false
     }
    }
   },
   "outputs": [
    {
     "data": {
      "application/vnd.livy.statement-meta+json": {
       "execution_finish_time": "2024-08-09T15:33:19.8892555Z",
       "execution_start_time": "2024-08-09T15:33:10.6333092Z",
       "livy_statement_state": "available",
       "normalized_state": "finished",
       "parent_msg_id": "d35d14bc-fcbf-4f76-9ae0-e9e7da237f25",
       "queued_time": "2024-08-09T15:33:10.2130745Z",
       "session_id": "29fdca0d-03f2-4032-a3f3-67929928e730",
       "session_start_time": null,
       "spark_pool": null,
       "state": "finished",
       "statement_id": 10,
       "statement_ids": [
        9,
        10
       ]
      },
      "text/plain": [
       "StatementMeta(, 29fdca0d-03f2-4032-a3f3-67929928e730, 10, Finished, Available, Finished)"
      ]
     },
     "metadata": {},
     "output_type": "display_data"
    },
    {
     "data": {
      "application/vnd.synapse.sparksql-result+json": {
       "data": [],
       "schema": {
        "fields": [],
        "type": "struct"
       }
      },
      "text/plain": [
       "<Spark SQL result set with 0 rows and 0 fields>"
      ]
     },
     "execution_count": 5,
     "metadata": {},
     "output_type": "execute_result"
    },
    {
     "data": {
      "application/vnd.synapse.sparksql-result+json": {
       "data": [
        [
         "10"
        ]
       ],
       "schema": {
        "fields": [
         {
          "metadata": {},
          "name": "num_affected_rows",
          "nullable": true,
          "type": "long"
         }
        ],
        "type": "struct"
       }
      },
      "text/plain": [
       "<Spark SQL result set with 1 rows and 1 fields>"
      ]
     },
     "execution_count": 5,
     "metadata": {},
     "output_type": "execute_result"
    }
   ],
   "source": [
    "%%sql\n",
    "\n",
    "ALTER TABLE gold_layer_nlp\n",
    "ADD COLUMN tx_prior_loc STRING;\n",
    "\n",
    "UPDATE gold_layer_nlp\n",
    "SET tx_prior_loc = CASE \n",
    "    WHEN prior_loc = 0 THEN 'Ranch home'\n",
    "    WHEN prior_loc = 1 THEN 'Two story home'\n",
    "    WHEN prior_loc = 2 THEN 'Apartment'\n",
    "    WHEN prior_loc = 3 THEN 'Independent Living Facility'\n",
    "    WHEN prior_loc = 4 THEN 'Assisted Living Facility'\n",
    "    WHEN prior_loc = 5 THEN 'Skilled Nursing Facility'\n",
    "    WHEN prior_loc = 6 THEN 'Inpatient Rehabilitation Hospital'\n",
    "    WHEN prior_loc = 7 THEN 'Long-term Care Facility'\n",
    "    ELSE 'Unknown'\n",
    "END;"
   ]
  }
 ],
 "metadata": {
  "dependencies": {
   "environment": {
    "environmentId": "bca2ff44-1629-4724-860f-6a970a7e3659",
    "workspaceId": "8ee4903a-6e90-4510-b3c2-424d07933817"
   },
   "lakehouse": {
    "default_lakehouse": "e88fef1f-d55a-4f2c-bad7-9ecc1cafd638",
    "default_lakehouse_name": "PT_evals_lakehouse",
    "default_lakehouse_workspace_id": "8ee4903a-6e90-4510-b3c2-424d07933817"
   }
  },
  "kernel_info": {
   "name": "synapse_pyspark"
  },
  "kernelspec": {
   "display_name": "Python 3 (ipykernel)",
   "language": "python",
   "name": "python3"
  },
  "language_info": {
   "codemirror_mode": {
    "name": "ipython",
    "version": 3
   },
   "file_extension": ".py",
   "mimetype": "text/x-python",
   "name": "python",
   "nbconvert_exporter": "python",
   "pygments_lexer": "ipython3",
   "version": "3.11.5"
  },
  "microsoft": {
   "language": "python",
   "language_group": "synapse_pyspark",
   "ms_spell_check": {
    "ms_spell_check_language": "en"
   }
  },
  "nteract": {
   "version": "nteract-front-end@1.0.0"
  },
  "spark_compute": {
   "compute_id": "/trident/default"
  },
  "synapse_widget": {
   "state": {},
   "version": "0.1"
  },
  "widgets": {}
 },
 "nbformat": 4,
 "nbformat_minor": 5
}
