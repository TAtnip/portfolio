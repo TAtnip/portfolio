{
 "cells": [
  {
   "cell_type": "markdown",
   "id": "13cb4605-bd25-40c8-8c98-80e87189831d",
   "metadata": {
    "microsoft": {
     "language": "python",
     "language_group": "synapse_pyspark"
    },
    "nteract": {
     "transient": {
      "deleting": false
     }
    }
   },
   "source": [
    "# Random Forest Model to Predict Need for Rehabilitation"
   ]
  },
  {
   "cell_type": "code",
   "execution_count": 7,
   "id": "e30aff7c-65d1-442e-ad46-c1d4c4899818",
   "metadata": {
    "collapsed": false,
    "jupyter": {
     "outputs_hidden": false,
     "source_hidden": false
    },
    "microsoft": {
     "language": "python",
     "language_group": "synapse_pyspark"
    },
    "nteract": {
     "transient": {
      "deleting": false
     }
    }
   },
   "outputs": [
    {
     "data": {
      "application/vnd.livy.statement-meta+json": {
       "execution_finish_time": "2024-08-08T16:49:28.1667221Z",
       "execution_start_time": "2024-08-08T16:49:02.8346403Z",
       "livy_statement_state": "available",
       "normalized_state": "finished",
       "parent_msg_id": "c05a6d40-3735-486c-ba8a-9e4439f035cb",
       "queued_time": "2024-08-08T16:49:01.5671445Z",
       "session_id": "f8972434-73df-4ded-b1a2-609fbbc233f6",
       "session_start_time": null,
       "spark_pool": null,
       "state": "finished",
       "statement_id": 9,
       "statement_ids": [
        9
       ]
      },
      "text/plain": [
       "StatementMeta(, f8972434-73df-4ded-b1a2-609fbbc233f6, 9, Finished, Available, Finished)"
      ]
     },
     "metadata": {},
     "output_type": "display_data"
    },
    {
     "data": {
      "text/plain": [
       "<Experiment: artifact_location='', creation_time=1723134646679, experiment_id='c75cf239-8e7d-4523-abcb-9b0e7ded18d0', last_update_time=None, lifecycle_stage='active', name='experiment-pt-need-for-rehab', tags={}>"
      ]
     },
     "execution_count": 26,
     "metadata": {},
     "output_type": "execute_result"
    }
   ],
   "source": [
    "import pandas as pd\n",
    "import mlflow\n",
    "from mlflow.models.signature import ModelSignature\n",
    "from mlflow.types.schema import Schema, ColSpec\n",
    "\n",
    "df = spark.sql(\"SELECT * FROM PT_evals_lakehouse.pt_eval_generated LIMIT 1000\")\n",
    "df = df.toPandas()\n",
    "\n",
    "del df['tx_need_rehab']\n",
    "del df['tx_prior_loc']\n",
    "del df['Prior_location']\n",
    "\n",
    "experiment_name = \"experiment-pt-need-for-rehab\"\n",
    "mlflow.set_experiment(experiment_name)"
   ]
  },
  {
   "cell_type": "code",
   "execution_count": 8,
   "id": "2379da4a-06c6-4f22-b985-78a0343101f0",
   "metadata": {
    "microsoft": {
     "language": "python",
     "language_group": "synapse_pyspark"
    }
   },
   "outputs": [
    {
     "data": {
      "application/vnd.livy.statement-meta+json": {
       "execution_finish_time": "2024-08-08T16:49:28.9438605Z",
       "execution_start_time": "2024-08-08T16:49:28.6915057Z",
       "livy_statement_state": "available",
       "normalized_state": "finished",
       "parent_msg_id": "e9d497c6-94c5-46a1-ba75-c8c9cc598241",
       "queued_time": "2024-08-08T16:49:01.6191138Z",
       "session_id": "f8972434-73df-4ded-b1a2-609fbbc233f6",
       "session_start_time": null,
       "spark_pool": null,
       "state": "finished",
       "statement_id": 10,
       "statement_ids": [
        10
       ]
      },
      "text/plain": [
       "StatementMeta(, f8972434-73df-4ded-b1a2-609fbbc233f6, 10, Finished, Available, Finished)"
      ]
     },
     "metadata": {},
     "output_type": "display_data"
    }
   ],
   "source": [
    "from pyspark.sql import SparkSession, Row\n",
    "from pyspark.sql.functions import col, expr\n",
    " \n",
    "from pyspark.ml.feature import VectorAssembler, OneHotEncoder, StringIndexer\n",
    "from pyspark.ml.evaluation import MulticlassClassificationEvaluator\n",
    "from pyspark.ml.classification import RandomForestClassifier, DecisionTreeClassifier\n",
    "from pyspark.ml import Pipeline\n",
    " \n",
    "from pyspark.ml.tuning import CrossValidator, ParamGridBuilder\n",
    "\n",
    "from pyspark.sql.types import StructType, StructField, IntegerType, StringType, DoubleType\n",
    "\n",
    "schema = StructType([\n",
    "    StructField(\"age\", IntegerType(), True),\n",
    "    StructField(\"sex\", StringType(), True),\n",
    "    StructField(\"fusion\", StringType(), True),\n",
    "    StructField(\"provider\", StringType(), True),\n",
    "    StructField(\"brace\", StringType(), True),\n",
    "    StructField(\"pain\", StringType(), True),\n",
    "    StructField(\"prior_loc\", IntegerType(), True),\n",
    "    StructField(\"ste\", IntegerType(), True),\n",
    "    StructField(\"hr\", IntegerType(), True),\n",
    "    StructField(\"ad\", IntegerType(), True),\n",
    "    StructField(\"num_falls\", IntegerType(), True),\n",
    "    StructField(\"sup_sit\", IntegerType(), True),\n",
    "    StructField(\"sit_stand\", IntegerType(), True),\n",
    "    StructField(\"amb_assist\", IntegerType(), True),\n",
    "    StructField(\"amb_distance\", IntegerType(), True),\n",
    "    StructField(\"stairs_assist\", IntegerType(), True),\n",
    "    StructField(\"num_stairs\", IntegerType(), True),\n",
    "    StructField(\"los\", DoubleType(), True),\n",
    "    StructField(\"dc_loc\", IntegerType(), True),\n",
    "    StructField(\"need_rehab\", IntegerType(), True)\n",
    "])\n",
    "\n",
    "rows = [Row(**row) for row in df.to_dict(orient='records')]\n",
    "\n",
    "# Create the Spark DataFrame\n",
    "spark_df = spark.createDataFrame(rows, schema=schema)"
   ]
  },
  {
   "cell_type": "code",
   "execution_count": 9,
   "id": "dc6faf13-1844-4bd9-a13c-629cf892f0f7",
   "metadata": {
    "collapsed": false,
    "jupyter": {
     "outputs_hidden": false,
     "source_hidden": false
    },
    "microsoft": {
     "language": "python",
     "language_group": "synapse_pyspark"
    },
    "nteract": {
     "transient": {
      "deleting": false
     }
    }
   },
   "outputs": [
    {
     "data": {
      "application/vnd.livy.statement-meta+json": {
       "execution_finish_time": "2024-08-08T16:49:29.8057271Z",
       "execution_start_time": "2024-08-08T16:49:29.5388223Z",
       "livy_statement_state": "available",
       "normalized_state": "finished",
       "parent_msg_id": "8fec3196-8c99-4bb4-841c-7c3ba4f21c63",
       "queued_time": "2024-08-08T16:49:01.7136732Z",
       "session_id": "f8972434-73df-4ded-b1a2-609fbbc233f6",
       "session_start_time": null,
       "spark_pool": null,
       "state": "finished",
       "statement_id": 11,
       "statement_ids": [
        11
       ]
      },
      "text/plain": [
       "StatementMeta(, f8972434-73df-4ded-b1a2-609fbbc233f6, 11, Finished, Available, Finished)"
      ]
     },
     "metadata": {},
     "output_type": "display_data"
    }
   ],
   "source": [
    "cat_features = ['sex', 'fusion', 'brace', 'provider', 'ad', 'prior_loc', 'pain', 'sup_sit', 'sit_stand', 'amb_assist', 'stairs_assist']\n",
    "num_features = [col for col in spark_df.columns[:-3] if col not in cat_features]\n",
    "\n",
    "ix_features = [c + '_ix' for c in cat_features]\n",
    " \n",
    "label_indexer = StringIndexer(inputCol='need_rehab', outputCol='label')\n",
    " \n",
    "feature_indexer = StringIndexer(inputCols=cat_features, outputCols=ix_features)\n",
    " \n",
    "assembler = VectorAssembler(inputCols=num_features + ix_features, outputCol='features')"
   ]
  },
  {
   "cell_type": "code",
   "execution_count": 10,
   "id": "95aa98e6-8fcc-46e7-94e5-6f4306a15550",
   "metadata": {
    "collapsed": false,
    "jupyter": {
     "outputs_hidden": false,
     "source_hidden": false
    },
    "microsoft": {
     "language": "python",
     "language_group": "synapse_pyspark"
    },
    "nteract": {
     "transient": {
      "deleting": false
     }
    }
   },
   "outputs": [
    {
     "data": {
      "application/vnd.livy.statement-meta+json": {
       "execution_finish_time": "2024-08-08T16:49:58.2807699Z",
       "execution_start_time": "2024-08-08T16:49:30.3331995Z",
       "livy_statement_state": "available",
       "normalized_state": "finished",
       "parent_msg_id": "29298943-f998-4d5b-ab6a-a6ea371e19ae",
       "queued_time": "2024-08-08T16:49:01.743326Z",
       "session_id": "f8972434-73df-4ded-b1a2-609fbbc233f6",
       "session_start_time": null,
       "spark_pool": null,
       "state": "finished",
       "statement_id": 12,
       "statement_ids": [
        12
       ]
      },
      "text/plain": [
       "StatementMeta(, f8972434-73df-4ded-b1a2-609fbbc233f6, 12, Finished, Available, Finished)"
      ]
     },
     "metadata": {},
     "output_type": "display_data"
    },
    {
     "name": "stderr",
     "output_type": "stream",
     "text": [
      "2024-08-08:16:49:36,520 WARNING  [tracking_store.py:153] log_inputs not supported\n"
     ]
    },
    {
     "data": {
      "application/vnd.mlflow.run-widget+json": {
       "data": {
        "metrics": {},
        "params": {
         "StringIndexer_1.handleInvalid": "error",
         "StringIndexer_1.inputCol": "need_rehab",
         "StringIndexer_1.outputCol": "label",
         "StringIndexer_1.stringOrderType": "frequencyDesc",
         "StringIndexer_2.handleInvalid": "error",
         "StringIndexer_2.inputCols": "['sex', 'fusion', 'brace', 'provider', 'ad', 'prior_loc', 'pain', 'sup_sit', 'sit_stand', 'amb_assist', 'stairs_assist']",
         "StringIndexer_2.outputCol": "StringIndexer_03f19259a5b8__output",
         "StringIndexer_2.outputCols": "['sex_ix', 'fusion_ix', 'brace_ix', 'provider_ix', 'ad_ix', 'prior_loc_ix', 'pain_ix', 'sup_sit_ix', 'sit_stand_ix', 'amb_assist_ix', 'stairs_assist_ix']",
         "StringIndexer_2.stringOrderType": "frequencyDesc",
         "VectorAssembler.handleInvalid": "error",
         "VectorAssembler.inputCols": "['age', 'ste', 'hr', 'num_falls', 'amb_distance', 'num_stairs', 'sex_ix', 'fusion_ix', 'brace_ix', 'provider_ix', 'ad_ix', 'prior_loc_ix', 'pain_ix', 'sup_sit_ix', 'sit_stand_ix', 'amb_assist_ix', 'stairs_assist_ix']",
         "VectorAssembler.outputCol": "features",
         "stages": "['StringIndexer_1', 'StringIndexer_2', 'VectorAssembler']"
        },
        "tags": {
         "estimator_class": "pyspark.ml.pipeline.Pipeline",
         "estimator_name": "Pipeline",
         "mlflow.autologging": "pyspark.ml",
         "mlflow.rootRunId": "92fc0c00-9a7b-4663-849a-08d8ac4378b2",
         "mlflow.runName": "bright_school_lbs20p3g",
         "mlflow.user": "4b3a56ea-6f42-450e-b7c3-fb2932c7ac32",
         "synapseml.experiment.artifactId": "def0e41b-bf2a-4c5c-8970-7f8f29d2e61c",
         "synapseml.experimentName": "experiment-pt-need-for-rehab",
         "synapseml.livy.id": "f8972434-73df-4ded-b1a2-609fbbc233f6",
         "synapseml.notebook.artifactId": "1f319080-0c8b-41ec-bd3a-1ac600f02c7b",
         "synapseml.user.id": "5ceefbea-2f12-43ef-82e1-44dd8fc7ee0b",
         "synapseml.user.name": "atnip1"
        }
       },
       "info": {
        "artifact_uri": "sds://onelakewestus.pbidedicated.windows.net/8ee4903a-6e90-4510-b3c2-424d07933817/def0e41b-bf2a-4c5c-8970-7f8f29d2e61c/92fc0c00-9a7b-4663-849a-08d8ac4378b2/artifacts",
        "end_time": 1723135797,
        "experiment_id": "c75cf239-8e7d-4523-abcb-9b0e7ded18d0",
        "lifecycle_stage": "active",
        "run_id": "92fc0c00-9a7b-4663-849a-08d8ac4378b2",
        "run_name": "",
        "run_uuid": "92fc0c00-9a7b-4663-849a-08d8ac4378b2",
        "start_time": 1723135770,
        "status": "FINISHED",
        "user_id": "7ebfac85-3ebb-440f-a743-e52052051f6a"
       },
       "inputs": {
        "dataset_inputs": []
       }
      }
     },
     "metadata": {},
     "output_type": "display_data"
    }
   ],
   "source": [
    "pipeline = Pipeline(stages=[label_indexer, feature_indexer, assembler]).fit(spark_df)\n",
    "spark_df_pipelined = pipeline.transform(spark_df)\n",
    "\n",
    "train, test = spark_df_pipelined.randomSplit([0.8, 0.2], seed=1)\n",
    "\n",
    "accuracy_eval = MulticlassClassificationEvaluator(\n",
    "    predictionCol='prediction', labelCol='label', metricName='accuracy')"
   ]
  },
  {
   "cell_type": "code",
   "execution_count": 11,
   "id": "5a2304fc-2063-4e57-addf-23d79ed3ddbc",
   "metadata": {
    "microsoft": {
     "language": "python",
     "language_group": "synapse_pyspark"
    }
   },
   "outputs": [
    {
     "data": {
      "application/vnd.livy.statement-meta+json": {
       "execution_finish_time": "2024-08-08T16:54:23.5719409Z",
       "execution_start_time": "2024-08-08T16:49:58.9039128Z",
       "livy_statement_state": "available",
       "normalized_state": "finished",
       "parent_msg_id": "1c570f80-22ab-421a-ad23-192ead1182ea",
       "queued_time": "2024-08-08T16:49:01.796111Z",
       "session_id": "f8972434-73df-4ded-b1a2-609fbbc233f6",
       "session_start_time": null,
       "spark_pool": null,
       "state": "finished",
       "statement_id": 13,
       "statement_ids": [
        13
       ]
      },
      "text/plain": [
       "StatementMeta(, f8972434-73df-4ded-b1a2-609fbbc233f6, 13, Finished, Available, Finished)"
      ]
     },
     "metadata": {},
     "output_type": "display_data"
    },
    {
     "name": "stderr",
     "output_type": "stream",
     "text": [
      "2024-08-08:16:50:03,482 WARNING  [tracking_store.py:153] log_inputs not supported\n"
     ]
    },
    {
     "data": {
      "application/vnd.mlflow.run-widget+json": {
       "data": {
        "metrics": {
         "avg_accuracy": 0.8041540415341786,
         "std_accuracy": 0.05010347393746273
        },
        "params": {
         "bootstrap": "True",
         "cacheNodeIds": "False",
         "checkpointInterval": "10",
         "featureSubsetStrategy": "auto",
         "featuresCol": "features",
         "impurity": "gini",
         "labelCol": "label",
         "leafCol": "",
         "maxBins": "32",
         "maxDepth": "2",
         "maxMemoryInMB": "256",
         "minInfoGain": "0.0",
         "minInstancesPerNode": "4",
         "minWeightFractionPerNode": "0.0",
         "numTrees": "20",
         "predictionCol": "prediction",
         "probabilityCol": "probability",
         "rawPredictionCol": "rawPrediction",
         "seed": "1",
         "subsamplingRate": "1.0"
        },
        "tags": {
         "estimator_class": "pyspark.ml.classification.RandomForestClassifier",
         "estimator_name": "RandomForestClassifier",
         "mlflow.autologging": "pyspark.ml",
         "mlflow.parentRunId": "017f721c-2ad3-4940-bed5-a6aba8d9d713",
         "mlflow.rootRunId": "017f721c-2ad3-4940-bed5-a6aba8d9d713",
         "mlflow.runName": "brave_milk_l2z8zzzk",
         "mlflow.user": "4b3a56ea-6f42-450e-b7c3-fb2932c7ac32",
         "synapseml.experiment.artifactId": "def0e41b-bf2a-4c5c-8970-7f8f29d2e61c",
         "synapseml.experimentName": "experiment-pt-need-for-rehab",
         "synapseml.livy.id": "f8972434-73df-4ded-b1a2-609fbbc233f6",
         "synapseml.notebook.artifactId": "1f319080-0c8b-41ec-bd3a-1ac600f02c7b",
         "synapseml.user.id": "5ceefbea-2f12-43ef-82e1-44dd8fc7ee0b",
         "synapseml.user.name": "atnip1"
        }
       },
       "info": {
        "artifact_uri": "sds://onelakewestus.pbidedicated.windows.net/8ee4903a-6e90-4510-b3c2-424d07933817/def0e41b-bf2a-4c5c-8970-7f8f29d2e61c/112adc98-8fe9-4aca-af10-000789af6201/artifacts",
        "end_time": 1723135951,
        "experiment_id": "c75cf239-8e7d-4523-abcb-9b0e7ded18d0",
        "lifecycle_stage": "active",
        "run_id": "112adc98-8fe9-4aca-af10-000789af6201",
        "run_name": "",
        "run_uuid": "112adc98-8fe9-4aca-af10-000789af6201",
        "start_time": 1723135799,
        "status": "FINISHED",
        "user_id": "7ebfac85-3ebb-440f-a743-e52052051f6a"
       },
       "inputs": {
        "dataset_inputs": []
       }
      }
     },
     "metadata": {},
     "output_type": "display_data"
    },
    {
     "data": {
      "application/vnd.mlflow.run-widget+json": {
       "data": {
        "metrics": {
         "avg_accuracy": 0.8041540415341786,
         "std_accuracy": 0.05010347393746273
        },
        "params": {
         "bootstrap": "True",
         "cacheNodeIds": "False",
         "checkpointInterval": "10",
         "featureSubsetStrategy": "auto",
         "featuresCol": "features",
         "impurity": "gini",
         "labelCol": "label",
         "leafCol": "",
         "maxBins": "32",
         "maxDepth": "2",
         "maxMemoryInMB": "256",
         "minInfoGain": "0.0",
         "minInstancesPerNode": "8",
         "minWeightFractionPerNode": "0.0",
         "numTrees": "20",
         "predictionCol": "prediction",
         "probabilityCol": "probability",
         "rawPredictionCol": "rawPrediction",
         "seed": "1",
         "subsamplingRate": "1.0"
        },
        "tags": {
         "estimator_class": "pyspark.ml.classification.RandomForestClassifier",
         "estimator_name": "RandomForestClassifier",
         "mlflow.autologging": "pyspark.ml",
         "mlflow.parentRunId": "017f721c-2ad3-4940-bed5-a6aba8d9d713",
         "mlflow.rootRunId": "017f721c-2ad3-4940-bed5-a6aba8d9d713",
         "mlflow.runName": "gray_knee_hx7gsbwj",
         "mlflow.user": "4b3a56ea-6f42-450e-b7c3-fb2932c7ac32",
         "synapseml.experiment.artifactId": "def0e41b-bf2a-4c5c-8970-7f8f29d2e61c",
         "synapseml.experimentName": "experiment-pt-need-for-rehab",
         "synapseml.livy.id": "f8972434-73df-4ded-b1a2-609fbbc233f6",
         "synapseml.notebook.artifactId": "1f319080-0c8b-41ec-bd3a-1ac600f02c7b",
         "synapseml.user.id": "5ceefbea-2f12-43ef-82e1-44dd8fc7ee0b",
         "synapseml.user.name": "atnip1"
        }
       },
       "info": {
        "artifact_uri": "sds://onelakewestus.pbidedicated.windows.net/8ee4903a-6e90-4510-b3c2-424d07933817/def0e41b-bf2a-4c5c-8970-7f8f29d2e61c/3db6c1ad-5e3c-48e4-9950-3165576f4bc9/artifacts",
        "end_time": 1723135953,
        "experiment_id": "c75cf239-8e7d-4523-abcb-9b0e7ded18d0",
        "lifecycle_stage": "active",
        "run_id": "3db6c1ad-5e3c-48e4-9950-3165576f4bc9",
        "run_name": "",
        "run_uuid": "3db6c1ad-5e3c-48e4-9950-3165576f4bc9",
        "start_time": 1723135799,
        "status": "FINISHED",
        "user_id": "7ebfac85-3ebb-440f-a743-e52052051f6a"
       },
       "inputs": {
        "dataset_inputs": []
       }
      }
     },
     "metadata": {},
     "output_type": "display_data"
    },
    {
     "data": {
      "application/vnd.mlflow.run-widget+json": {
       "data": {
        "metrics": {
         "avg_accuracy": 0.8030176778978149,
         "std_accuracy": 0.05015899856602629
        },
        "params": {
         "bootstrap": "True",
         "cacheNodeIds": "False",
         "checkpointInterval": "10",
         "featureSubsetStrategy": "auto",
         "featuresCol": "features",
         "impurity": "gini",
         "labelCol": "label",
         "leafCol": "",
         "maxBins": "32",
         "maxDepth": "2",
         "maxMemoryInMB": "256",
         "minInfoGain": "0.0",
         "minInstancesPerNode": "16",
         "minWeightFractionPerNode": "0.0",
         "numTrees": "20",
         "predictionCol": "prediction",
         "probabilityCol": "probability",
         "rawPredictionCol": "rawPrediction",
         "seed": "1",
         "subsamplingRate": "1.0"
        },
        "tags": {
         "estimator_class": "pyspark.ml.classification.RandomForestClassifier",
         "estimator_name": "RandomForestClassifier",
         "mlflow.autologging": "pyspark.ml",
         "mlflow.parentRunId": "017f721c-2ad3-4940-bed5-a6aba8d9d713",
         "mlflow.rootRunId": "017f721c-2ad3-4940-bed5-a6aba8d9d713",
         "mlflow.runName": "mango_cake_ry6x61h4",
         "mlflow.user": "4b3a56ea-6f42-450e-b7c3-fb2932c7ac32",
         "synapseml.experiment.artifactId": "def0e41b-bf2a-4c5c-8970-7f8f29d2e61c",
         "synapseml.experimentName": "experiment-pt-need-for-rehab",
         "synapseml.livy.id": "f8972434-73df-4ded-b1a2-609fbbc233f6",
         "synapseml.notebook.artifactId": "1f319080-0c8b-41ec-bd3a-1ac600f02c7b",
         "synapseml.user.id": "5ceefbea-2f12-43ef-82e1-44dd8fc7ee0b",
         "synapseml.user.name": "atnip1"
        }
       },
       "info": {
        "artifact_uri": "sds://onelakewestus.pbidedicated.windows.net/8ee4903a-6e90-4510-b3c2-424d07933817/def0e41b-bf2a-4c5c-8970-7f8f29d2e61c/beeffac6-ef6f-4b6d-9ee9-6f22e4e5a122/artifacts",
        "end_time": 1723135955,
        "experiment_id": "c75cf239-8e7d-4523-abcb-9b0e7ded18d0",
        "lifecycle_stage": "active",
        "run_id": "beeffac6-ef6f-4b6d-9ee9-6f22e4e5a122",
        "run_name": "",
        "run_uuid": "beeffac6-ef6f-4b6d-9ee9-6f22e4e5a122",
        "start_time": 1723135799,
        "status": "FINISHED",
        "user_id": "7ebfac85-3ebb-440f-a743-e52052051f6a"
       },
       "inputs": {
        "dataset_inputs": []
       }
      }
     },
     "metadata": {},
     "output_type": "display_data"
    },
    {
     "data": {
      "application/vnd.mlflow.run-widget+json": {
       "data": {
        "metrics": {
         "avg_accuracy": 0.8030176778978149,
         "std_accuracy": 0.05015899856602629
        },
        "params": {
         "bootstrap": "True",
         "cacheNodeIds": "False",
         "checkpointInterval": "10",
         "featureSubsetStrategy": "auto",
         "featuresCol": "features",
         "impurity": "gini",
         "labelCol": "label",
         "leafCol": "",
         "maxBins": "32",
         "maxDepth": "2",
         "maxMemoryInMB": "256",
         "minInfoGain": "0.0",
         "minInstancesPerNode": "32",
         "minWeightFractionPerNode": "0.0",
         "numTrees": "20",
         "predictionCol": "prediction",
         "probabilityCol": "probability",
         "rawPredictionCol": "rawPrediction",
         "seed": "1",
         "subsamplingRate": "1.0"
        },
        "tags": {
         "estimator_class": "pyspark.ml.classification.RandomForestClassifier",
         "estimator_name": "RandomForestClassifier",
         "mlflow.autologging": "pyspark.ml",
         "mlflow.parentRunId": "017f721c-2ad3-4940-bed5-a6aba8d9d713",
         "mlflow.rootRunId": "017f721c-2ad3-4940-bed5-a6aba8d9d713",
         "mlflow.runName": "lucid_squash_4zrb2ptx",
         "mlflow.user": "4b3a56ea-6f42-450e-b7c3-fb2932c7ac32",
         "synapseml.experiment.artifactId": "def0e41b-bf2a-4c5c-8970-7f8f29d2e61c",
         "synapseml.experimentName": "experiment-pt-need-for-rehab",
         "synapseml.livy.id": "f8972434-73df-4ded-b1a2-609fbbc233f6",
         "synapseml.notebook.artifactId": "1f319080-0c8b-41ec-bd3a-1ac600f02c7b",
         "synapseml.user.id": "5ceefbea-2f12-43ef-82e1-44dd8fc7ee0b",
         "synapseml.user.name": "atnip1"
        }
       },
       "info": {
        "artifact_uri": "sds://onelakewestus.pbidedicated.windows.net/8ee4903a-6e90-4510-b3c2-424d07933817/def0e41b-bf2a-4c5c-8970-7f8f29d2e61c/1040da56-3d44-4804-9580-1fef7b71884c/artifacts",
        "end_time": 1723135956,
        "experiment_id": "c75cf239-8e7d-4523-abcb-9b0e7ded18d0",
        "lifecycle_stage": "active",
        "run_id": "1040da56-3d44-4804-9580-1fef7b71884c",
        "run_name": "",
        "run_uuid": "1040da56-3d44-4804-9580-1fef7b71884c",
        "start_time": 1723135799,
        "status": "FINISHED",
        "user_id": "7ebfac85-3ebb-440f-a743-e52052051f6a"
       },
       "inputs": {
        "dataset_inputs": []
       }
      }
     },
     "metadata": {},
     "output_type": "display_data"
    },
    {
     "data": {
      "application/vnd.mlflow.run-widget+json": {
       "data": {
        "metrics": {
         "avg_accuracy": 0.8040201729182389,
         "std_accuracy": 0.05532567225458997
        },
        "params": {
         "bootstrap": "True",
         "cacheNodeIds": "False",
         "checkpointInterval": "10",
         "featureSubsetStrategy": "auto",
         "featuresCol": "features",
         "impurity": "gini",
         "labelCol": "label",
         "leafCol": "",
         "maxBins": "32",
         "maxDepth": "4",
         "maxMemoryInMB": "256",
         "minInfoGain": "0.0",
         "minInstancesPerNode": "4",
         "minWeightFractionPerNode": "0.0",
         "numTrees": "20",
         "predictionCol": "prediction",
         "probabilityCol": "probability",
         "rawPredictionCol": "rawPrediction",
         "seed": "1",
         "subsamplingRate": "1.0"
        },
        "tags": {
         "estimator_class": "pyspark.ml.classification.RandomForestClassifier",
         "estimator_name": "RandomForestClassifier",
         "mlflow.autologging": "pyspark.ml",
         "mlflow.parentRunId": "017f721c-2ad3-4940-bed5-a6aba8d9d713",
         "mlflow.rootRunId": "017f721c-2ad3-4940-bed5-a6aba8d9d713",
         "mlflow.runName": "teal_kitten_392kd458",
         "mlflow.user": "4b3a56ea-6f42-450e-b7c3-fb2932c7ac32",
         "synapseml.experiment.artifactId": "def0e41b-bf2a-4c5c-8970-7f8f29d2e61c",
         "synapseml.experimentName": "experiment-pt-need-for-rehab",
         "synapseml.livy.id": "f8972434-73df-4ded-b1a2-609fbbc233f6",
         "synapseml.notebook.artifactId": "1f319080-0c8b-41ec-bd3a-1ac600f02c7b",
         "synapseml.user.id": "5ceefbea-2f12-43ef-82e1-44dd8fc7ee0b",
         "synapseml.user.name": "atnip1"
        }
       },
       "info": {
        "artifact_uri": "sds://onelakewestus.pbidedicated.windows.net/8ee4903a-6e90-4510-b3c2-424d07933817/def0e41b-bf2a-4c5c-8970-7f8f29d2e61c/8389751e-5f53-48f3-a17b-3638384e6229/artifacts",
        "end_time": 1723135958,
        "experiment_id": "c75cf239-8e7d-4523-abcb-9b0e7ded18d0",
        "lifecycle_stage": "active",
        "run_id": "8389751e-5f53-48f3-a17b-3638384e6229",
        "run_name": "",
        "run_uuid": "8389751e-5f53-48f3-a17b-3638384e6229",
        "start_time": 1723135799,
        "status": "FINISHED",
        "user_id": "7ebfac85-3ebb-440f-a743-e52052051f6a"
       },
       "inputs": {
        "dataset_inputs": []
       }
      }
     },
     "metadata": {},
     "output_type": "display_data"
    },
    {
     "data": {
      "application/vnd.mlflow.run-widget+json": {
       "data": {
        "metrics": {
         "avg_accuracy": 0.8103512029992691,
         "std_accuracy": 0.05275408768988517
        },
        "params": {
         "bootstrap": "True",
         "cacheNodeIds": "False",
         "checkpointInterval": "10",
         "featureSubsetStrategy": "auto",
         "featuresCol": "features",
         "impurity": "gini",
         "labelCol": "label",
         "leafCol": "",
         "maxBins": "32",
         "maxDepth": "4",
         "maxMemoryInMB": "256",
         "minInfoGain": "0.0",
         "minInstancesPerNode": "8",
         "minWeightFractionPerNode": "0.0",
         "numTrees": "20",
         "predictionCol": "prediction",
         "probabilityCol": "probability",
         "rawPredictionCol": "rawPrediction",
         "seed": "1",
         "subsamplingRate": "1.0"
        },
        "tags": {
         "estimator_class": "pyspark.ml.classification.RandomForestClassifier",
         "estimator_name": "RandomForestClassifier",
         "mlflow.autologging": "pyspark.ml",
         "mlflow.parentRunId": "017f721c-2ad3-4940-bed5-a6aba8d9d713",
         "mlflow.rootRunId": "017f721c-2ad3-4940-bed5-a6aba8d9d713",
         "mlflow.runName": "goofy_tent_cqw1fdq5",
         "mlflow.user": "4b3a56ea-6f42-450e-b7c3-fb2932c7ac32",
         "synapseml.experiment.artifactId": "def0e41b-bf2a-4c5c-8970-7f8f29d2e61c",
         "synapseml.experimentName": "experiment-pt-need-for-rehab",
         "synapseml.livy.id": "f8972434-73df-4ded-b1a2-609fbbc233f6",
         "synapseml.notebook.artifactId": "1f319080-0c8b-41ec-bd3a-1ac600f02c7b",
         "synapseml.user.id": "5ceefbea-2f12-43ef-82e1-44dd8fc7ee0b",
         "synapseml.user.name": "atnip1"
        }
       },
       "info": {
        "artifact_uri": "sds://onelakewestus.pbidedicated.windows.net/8ee4903a-6e90-4510-b3c2-424d07933817/def0e41b-bf2a-4c5c-8970-7f8f29d2e61c/fdd2edd7-817b-45a5-ba68-a4d7779db362/artifacts",
        "end_time": 1723135961,
        "experiment_id": "c75cf239-8e7d-4523-abcb-9b0e7ded18d0",
        "lifecycle_stage": "active",
        "run_id": "fdd2edd7-817b-45a5-ba68-a4d7779db362",
        "run_name": "",
        "run_uuid": "fdd2edd7-817b-45a5-ba68-a4d7779db362",
        "start_time": 1723135799,
        "status": "FINISHED",
        "user_id": "7ebfac85-3ebb-440f-a743-e52052051f6a"
       },
       "inputs": {
        "dataset_inputs": []
       }
      }
     },
     "metadata": {},
     "output_type": "display_data"
    },
    {
     "data": {
      "application/vnd.mlflow.run-widget+json": {
       "data": {
        "metrics": {
         "avg_accuracy": 0.8075916014896676,
         "std_accuracy": 0.05146012237444798
        },
        "params": {
         "bootstrap": "True",
         "cacheNodeIds": "False",
         "checkpointInterval": "10",
         "featureSubsetStrategy": "auto",
         "featuresCol": "features",
         "impurity": "gini",
         "labelCol": "label",
         "leafCol": "",
         "maxBins": "32",
         "maxDepth": "4",
         "maxMemoryInMB": "256",
         "minInfoGain": "0.0",
         "minInstancesPerNode": "16",
         "minWeightFractionPerNode": "0.0",
         "numTrees": "20",
         "predictionCol": "prediction",
         "probabilityCol": "probability",
         "rawPredictionCol": "rawPrediction",
         "seed": "1",
         "subsamplingRate": "1.0"
        },
        "tags": {
         "estimator_class": "pyspark.ml.classification.RandomForestClassifier",
         "estimator_name": "RandomForestClassifier",
         "mlflow.autologging": "pyspark.ml",
         "mlflow.parentRunId": "017f721c-2ad3-4940-bed5-a6aba8d9d713",
         "mlflow.rootRunId": "017f721c-2ad3-4940-bed5-a6aba8d9d713",
         "mlflow.runName": "jolly_giraffe_f0j46p89",
         "mlflow.user": "4b3a56ea-6f42-450e-b7c3-fb2932c7ac32",
         "synapseml.experiment.artifactId": "def0e41b-bf2a-4c5c-8970-7f8f29d2e61c",
         "synapseml.experimentName": "experiment-pt-need-for-rehab",
         "synapseml.livy.id": "f8972434-73df-4ded-b1a2-609fbbc233f6",
         "synapseml.notebook.artifactId": "1f319080-0c8b-41ec-bd3a-1ac600f02c7b",
         "synapseml.user.id": "5ceefbea-2f12-43ef-82e1-44dd8fc7ee0b",
         "synapseml.user.name": "atnip1"
        }
       },
       "info": {
        "artifact_uri": "sds://onelakewestus.pbidedicated.windows.net/8ee4903a-6e90-4510-b3c2-424d07933817/def0e41b-bf2a-4c5c-8970-7f8f29d2e61c/a5891866-c029-4d74-bd7b-54a8eefb2ba1/artifacts",
        "end_time": 1723135962,
        "experiment_id": "c75cf239-8e7d-4523-abcb-9b0e7ded18d0",
        "lifecycle_stage": "active",
        "run_id": "a5891866-c029-4d74-bd7b-54a8eefb2ba1",
        "run_name": "",
        "run_uuid": "a5891866-c029-4d74-bd7b-54a8eefb2ba1",
        "start_time": 1723135799,
        "status": "FINISHED",
        "user_id": "7ebfac85-3ebb-440f-a743-e52052051f6a"
       },
       "inputs": {
        "dataset_inputs": []
       }
      }
     },
     "metadata": {},
     "output_type": "display_data"
    },
    {
     "data": {
      "application/vnd.mlflow.run-widget+json": {
       "data": {
        "metrics": {
         "avg_accuracy": 0.8029635653437023,
         "std_accuracy": 0.0492472743119587
        },
        "params": {
         "bootstrap": "True",
         "cacheNodeIds": "False",
         "checkpointInterval": "10",
         "featureSubsetStrategy": "auto",
         "featuresCol": "features",
         "impurity": "gini",
         "labelCol": "label",
         "leafCol": "",
         "maxBins": "32",
         "maxDepth": "4",
         "maxMemoryInMB": "256",
         "minInfoGain": "0.0",
         "minInstancesPerNode": "32",
         "minWeightFractionPerNode": "0.0",
         "numTrees": "20",
         "predictionCol": "prediction",
         "probabilityCol": "probability",
         "rawPredictionCol": "rawPrediction",
         "seed": "1",
         "subsamplingRate": "1.0"
        },
        "tags": {
         "estimator_class": "pyspark.ml.classification.RandomForestClassifier",
         "estimator_name": "RandomForestClassifier",
         "mlflow.autologging": "pyspark.ml",
         "mlflow.parentRunId": "017f721c-2ad3-4940-bed5-a6aba8d9d713",
         "mlflow.rootRunId": "017f721c-2ad3-4940-bed5-a6aba8d9d713",
         "mlflow.runName": "affable_reggae_r3hm5wjq",
         "mlflow.user": "4b3a56ea-6f42-450e-b7c3-fb2932c7ac32",
         "synapseml.experiment.artifactId": "def0e41b-bf2a-4c5c-8970-7f8f29d2e61c",
         "synapseml.experimentName": "experiment-pt-need-for-rehab",
         "synapseml.livy.id": "f8972434-73df-4ded-b1a2-609fbbc233f6",
         "synapseml.notebook.artifactId": "1f319080-0c8b-41ec-bd3a-1ac600f02c7b",
         "synapseml.user.id": "5ceefbea-2f12-43ef-82e1-44dd8fc7ee0b",
         "synapseml.user.name": "atnip1"
        }
       },
       "info": {
        "artifact_uri": "sds://onelakewestus.pbidedicated.windows.net/8ee4903a-6e90-4510-b3c2-424d07933817/def0e41b-bf2a-4c5c-8970-7f8f29d2e61c/aa19c0c9-c863-46b5-8e2e-d422c0549d54/artifacts",
        "end_time": 1723135964,
        "experiment_id": "c75cf239-8e7d-4523-abcb-9b0e7ded18d0",
        "lifecycle_stage": "active",
        "run_id": "aa19c0c9-c863-46b5-8e2e-d422c0549d54",
        "run_name": "",
        "run_uuid": "aa19c0c9-c863-46b5-8e2e-d422c0549d54",
        "start_time": 1723135799,
        "status": "FINISHED",
        "user_id": "7ebfac85-3ebb-440f-a743-e52052051f6a"
       },
       "inputs": {
        "dataset_inputs": []
       }
      }
     },
     "metadata": {},
     "output_type": "display_data"
    },
    {
     "data": {
      "application/vnd.mlflow.run-widget+json": {
       "data": {
        "metrics": {
         "avg_accuracy": 0.8246029471825201,
         "std_accuracy": 0.046420307832038224
        },
        "params": {
         "bootstrap": "True",
         "cacheNodeIds": "False",
         "checkpointInterval": "10",
         "featureSubsetStrategy": "auto",
         "featuresCol": "features",
         "impurity": "gini",
         "labelCol": "label",
         "leafCol": "",
         "maxBins": "32",
         "maxDepth": "6",
         "maxMemoryInMB": "256",
         "minInfoGain": "0.0",
         "minInstancesPerNode": "4",
         "minWeightFractionPerNode": "0.0",
         "numTrees": "20",
         "predictionCol": "prediction",
         "probabilityCol": "probability",
         "rawPredictionCol": "rawPrediction",
         "seed": "1",
         "subsamplingRate": "1.0"
        },
        "tags": {
         "estimator_class": "pyspark.ml.classification.RandomForestClassifier",
         "estimator_name": "RandomForestClassifier",
         "mlflow.autologging": "pyspark.ml",
         "mlflow.parentRunId": "017f721c-2ad3-4940-bed5-a6aba8d9d713",
         "mlflow.rootRunId": "017f721c-2ad3-4940-bed5-a6aba8d9d713",
         "mlflow.runName": "strong_fly_yb4mf910",
         "mlflow.user": "4b3a56ea-6f42-450e-b7c3-fb2932c7ac32",
         "synapseml.experiment.artifactId": "def0e41b-bf2a-4c5c-8970-7f8f29d2e61c",
         "synapseml.experimentName": "experiment-pt-need-for-rehab",
         "synapseml.livy.id": "f8972434-73df-4ded-b1a2-609fbbc233f6",
         "synapseml.notebook.artifactId": "1f319080-0c8b-41ec-bd3a-1ac600f02c7b",
         "synapseml.user.id": "5ceefbea-2f12-43ef-82e1-44dd8fc7ee0b",
         "synapseml.user.name": "atnip1"
        }
       },
       "info": {
        "artifact_uri": "sds://onelakewestus.pbidedicated.windows.net/8ee4903a-6e90-4510-b3c2-424d07933817/def0e41b-bf2a-4c5c-8970-7f8f29d2e61c/f7059e51-8da4-4d85-93de-29bd0c9bc552/artifacts",
        "end_time": 1723135966,
        "experiment_id": "c75cf239-8e7d-4523-abcb-9b0e7ded18d0",
        "lifecycle_stage": "active",
        "run_id": "f7059e51-8da4-4d85-93de-29bd0c9bc552",
        "run_name": "",
        "run_uuid": "f7059e51-8da4-4d85-93de-29bd0c9bc552",
        "start_time": 1723135799,
        "status": "FINISHED",
        "user_id": "7ebfac85-3ebb-440f-a743-e52052051f6a"
       },
       "inputs": {
        "dataset_inputs": []
       }
      }
     },
     "metadata": {},
     "output_type": "display_data"
    },
    {
     "data": {
      "application/vnd.mlflow.run-widget+json": {
       "data": {
        "metrics": {
         "avg_accuracy": 0.8287626013421743,
         "std_accuracy": 0.047070958131817484
        },
        "params": {
         "bootstrap": "True",
         "cacheNodeIds": "False",
         "checkpointInterval": "10",
         "featureSubsetStrategy": "auto",
         "featuresCol": "features",
         "impurity": "gini",
         "labelCol": "label",
         "leafCol": "",
         "maxBins": "32",
         "maxDepth": "6",
         "maxMemoryInMB": "256",
         "minInfoGain": "0.0",
         "minInstancesPerNode": "8",
         "minWeightFractionPerNode": "0.0",
         "numTrees": "20",
         "predictionCol": "prediction",
         "probabilityCol": "probability",
         "rawPredictionCol": "rawPrediction",
         "seed": "1",
         "subsamplingRate": "1.0"
        },
        "tags": {
         "estimator_class": "pyspark.ml.classification.RandomForestClassifier",
         "estimator_name": "RandomForestClassifier",
         "mlflow.autologging": "pyspark.ml",
         "mlflow.parentRunId": "017f721c-2ad3-4940-bed5-a6aba8d9d713",
         "mlflow.rootRunId": "017f721c-2ad3-4940-bed5-a6aba8d9d713",
         "mlflow.runName": "gray_melon_6xdbx1vj",
         "mlflow.user": "4b3a56ea-6f42-450e-b7c3-fb2932c7ac32",
         "synapseml.experiment.artifactId": "def0e41b-bf2a-4c5c-8970-7f8f29d2e61c",
         "synapseml.experimentName": "experiment-pt-need-for-rehab",
         "synapseml.livy.id": "f8972434-73df-4ded-b1a2-609fbbc233f6",
         "synapseml.notebook.artifactId": "1f319080-0c8b-41ec-bd3a-1ac600f02c7b",
         "synapseml.user.id": "5ceefbea-2f12-43ef-82e1-44dd8fc7ee0b",
         "synapseml.user.name": "atnip1"
        }
       },
       "info": {
        "artifact_uri": "sds://onelakewestus.pbidedicated.windows.net/8ee4903a-6e90-4510-b3c2-424d07933817/def0e41b-bf2a-4c5c-8970-7f8f29d2e61c/7a51ed75-cc36-4192-84c0-28efd5808c4d/artifacts",
        "end_time": 1723135968,
        "experiment_id": "c75cf239-8e7d-4523-abcb-9b0e7ded18d0",
        "lifecycle_stage": "active",
        "run_id": "7a51ed75-cc36-4192-84c0-28efd5808c4d",
        "run_name": "",
        "run_uuid": "7a51ed75-cc36-4192-84c0-28efd5808c4d",
        "start_time": 1723135799,
        "status": "FINISHED",
        "user_id": "7ebfac85-3ebb-440f-a743-e52052051f6a"
       },
       "inputs": {
        "dataset_inputs": []
       }
      }
     },
     "metadata": {},
     "output_type": "display_data"
    },
    {
     "data": {
      "application/vnd.mlflow.run-widget+json": {
       "data": {
        "metrics": {
         "avg_accuracy": 0.814033555095199,
         "std_accuracy": 0.060106763425676585
        },
        "params": {
         "bootstrap": "True",
         "cacheNodeIds": "False",
         "checkpointInterval": "10",
         "featureSubsetStrategy": "auto",
         "featuresCol": "features",
         "impurity": "gini",
         "labelCol": "label",
         "leafCol": "",
         "maxBins": "32",
         "maxDepth": "6",
         "maxMemoryInMB": "256",
         "minInfoGain": "0.0",
         "minInstancesPerNode": "16",
         "minWeightFractionPerNode": "0.0",
         "numTrees": "20",
         "predictionCol": "prediction",
         "probabilityCol": "probability",
         "rawPredictionCol": "rawPrediction",
         "seed": "1",
         "subsamplingRate": "1.0"
        },
        "tags": {
         "estimator_class": "pyspark.ml.classification.RandomForestClassifier",
         "estimator_name": "RandomForestClassifier",
         "mlflow.autologging": "pyspark.ml",
         "mlflow.parentRunId": "017f721c-2ad3-4940-bed5-a6aba8d9d713",
         "mlflow.rootRunId": "017f721c-2ad3-4940-bed5-a6aba8d9d713",
         "mlflow.runName": "coral_cow_74gc1j50",
         "mlflow.user": "4b3a56ea-6f42-450e-b7c3-fb2932c7ac32",
         "synapseml.experiment.artifactId": "def0e41b-bf2a-4c5c-8970-7f8f29d2e61c",
         "synapseml.experimentName": "experiment-pt-need-for-rehab",
         "synapseml.livy.id": "f8972434-73df-4ded-b1a2-609fbbc233f6",
         "synapseml.notebook.artifactId": "1f319080-0c8b-41ec-bd3a-1ac600f02c7b",
         "synapseml.user.id": "5ceefbea-2f12-43ef-82e1-44dd8fc7ee0b",
         "synapseml.user.name": "atnip1"
        }
       },
       "info": {
        "artifact_uri": "sds://onelakewestus.pbidedicated.windows.net/8ee4903a-6e90-4510-b3c2-424d07933817/def0e41b-bf2a-4c5c-8970-7f8f29d2e61c/7eb6fd59-c3d6-4e90-963f-fdf29415ba43/artifacts",
        "end_time": 1723135969,
        "experiment_id": "c75cf239-8e7d-4523-abcb-9b0e7ded18d0",
        "lifecycle_stage": "active",
        "run_id": "7eb6fd59-c3d6-4e90-963f-fdf29415ba43",
        "run_name": "",
        "run_uuid": "7eb6fd59-c3d6-4e90-963f-fdf29415ba43",
        "start_time": 1723135799,
        "status": "FINISHED",
        "user_id": "7ebfac85-3ebb-440f-a743-e52052051f6a"
       },
       "inputs": {
        "dataset_inputs": []
       }
      }
     },
     "metadata": {},
     "output_type": "display_data"
    },
    {
     "data": {
      "application/vnd.mlflow.run-widget+json": {
       "data": {
        "metrics": {
         "avg_accuracy": 0.801787094755467,
         "std_accuracy": 0.04944414899144802
        },
        "params": {
         "bootstrap": "True",
         "cacheNodeIds": "False",
         "checkpointInterval": "10",
         "featureSubsetStrategy": "auto",
         "featuresCol": "features",
         "impurity": "gini",
         "labelCol": "label",
         "leafCol": "",
         "maxBins": "32",
         "maxDepth": "6",
         "maxMemoryInMB": "256",
         "minInfoGain": "0.0",
         "minInstancesPerNode": "32",
         "minWeightFractionPerNode": "0.0",
         "numTrees": "20",
         "predictionCol": "prediction",
         "probabilityCol": "probability",
         "rawPredictionCol": "rawPrediction",
         "seed": "1",
         "subsamplingRate": "1.0"
        },
        "tags": {
         "estimator_class": "pyspark.ml.classification.RandomForestClassifier",
         "estimator_name": "RandomForestClassifier",
         "mlflow.autologging": "pyspark.ml",
         "mlflow.parentRunId": "017f721c-2ad3-4940-bed5-a6aba8d9d713",
         "mlflow.rootRunId": "017f721c-2ad3-4940-bed5-a6aba8d9d713",
         "mlflow.runName": "maroon_papaya_p8744snw",
         "mlflow.user": "4b3a56ea-6f42-450e-b7c3-fb2932c7ac32",
         "synapseml.experiment.artifactId": "def0e41b-bf2a-4c5c-8970-7f8f29d2e61c",
         "synapseml.experimentName": "experiment-pt-need-for-rehab",
         "synapseml.livy.id": "f8972434-73df-4ded-b1a2-609fbbc233f6",
         "synapseml.notebook.artifactId": "1f319080-0c8b-41ec-bd3a-1ac600f02c7b",
         "synapseml.user.id": "5ceefbea-2f12-43ef-82e1-44dd8fc7ee0b",
         "synapseml.user.name": "atnip1"
        }
       },
       "info": {
        "artifact_uri": "sds://onelakewestus.pbidedicated.windows.net/8ee4903a-6e90-4510-b3c2-424d07933817/def0e41b-bf2a-4c5c-8970-7f8f29d2e61c/f962e35b-245f-4d60-b5cd-045717453943/artifacts",
        "end_time": 1723135971,
        "experiment_id": "c75cf239-8e7d-4523-abcb-9b0e7ded18d0",
        "lifecycle_stage": "active",
        "run_id": "f962e35b-245f-4d60-b5cd-045717453943",
        "run_name": "",
        "run_uuid": "f962e35b-245f-4d60-b5cd-045717453943",
        "start_time": 1723135799,
        "status": "FINISHED",
        "user_id": "7ebfac85-3ebb-440f-a743-e52052051f6a"
       },
       "inputs": {
        "dataset_inputs": []
       }
      }
     },
     "metadata": {},
     "output_type": "display_data"
    },
    {
     "data": {
      "application/vnd.mlflow.run-widget+json": {
       "data": {
        "metrics": {
         "avg_accuracy": 0.8233389415802792,
         "std_accuracy": 0.03852603170258266
        },
        "params": {
         "bootstrap": "True",
         "cacheNodeIds": "False",
         "checkpointInterval": "10",
         "featureSubsetStrategy": "auto",
         "featuresCol": "features",
         "impurity": "gini",
         "labelCol": "label",
         "leafCol": "",
         "maxBins": "32",
         "maxDepth": "8",
         "maxMemoryInMB": "256",
         "minInfoGain": "0.0",
         "minInstancesPerNode": "4",
         "minWeightFractionPerNode": "0.0",
         "numTrees": "20",
         "predictionCol": "prediction",
         "probabilityCol": "probability",
         "rawPredictionCol": "rawPrediction",
         "seed": "1",
         "subsamplingRate": "1.0"
        },
        "tags": {
         "estimator_class": "pyspark.ml.classification.RandomForestClassifier",
         "estimator_name": "RandomForestClassifier",
         "mlflow.autologging": "pyspark.ml",
         "mlflow.parentRunId": "017f721c-2ad3-4940-bed5-a6aba8d9d713",
         "mlflow.rootRunId": "017f721c-2ad3-4940-bed5-a6aba8d9d713",
         "mlflow.runName": "mighty_cartoon_ts66t30c",
         "mlflow.user": "4b3a56ea-6f42-450e-b7c3-fb2932c7ac32",
         "synapseml.experiment.artifactId": "def0e41b-bf2a-4c5c-8970-7f8f29d2e61c",
         "synapseml.experimentName": "experiment-pt-need-for-rehab",
         "synapseml.livy.id": "f8972434-73df-4ded-b1a2-609fbbc233f6",
         "synapseml.notebook.artifactId": "1f319080-0c8b-41ec-bd3a-1ac600f02c7b",
         "synapseml.user.id": "5ceefbea-2f12-43ef-82e1-44dd8fc7ee0b",
         "synapseml.user.name": "atnip1"
        }
       },
       "info": {
        "artifact_uri": "sds://onelakewestus.pbidedicated.windows.net/8ee4903a-6e90-4510-b3c2-424d07933817/def0e41b-bf2a-4c5c-8970-7f8f29d2e61c/d21f2d9e-dd9d-420f-b345-7df4be428b3b/artifacts",
        "end_time": 1723135973,
        "experiment_id": "c75cf239-8e7d-4523-abcb-9b0e7ded18d0",
        "lifecycle_stage": "active",
        "run_id": "d21f2d9e-dd9d-420f-b345-7df4be428b3b",
        "run_name": "",
        "run_uuid": "d21f2d9e-dd9d-420f-b345-7df4be428b3b",
        "start_time": 1723135799,
        "status": "FINISHED",
        "user_id": "7ebfac85-3ebb-440f-a743-e52052051f6a"
       },
       "inputs": {
        "dataset_inputs": []
       }
      }
     },
     "metadata": {},
     "output_type": "display_data"
    },
    {
     "data": {
      "application/vnd.mlflow.run-widget+json": {
       "data": {
        "metrics": {
         "avg_accuracy": 0.8244463620259349,
         "std_accuracy": 0.049324813751137606
        },
        "params": {
         "bootstrap": "True",
         "cacheNodeIds": "False",
         "checkpointInterval": "10",
         "featureSubsetStrategy": "auto",
         "featuresCol": "features",
         "impurity": "gini",
         "labelCol": "label",
         "leafCol": "",
         "maxBins": "32",
         "maxDepth": "8",
         "maxMemoryInMB": "256",
         "minInfoGain": "0.0",
         "minInstancesPerNode": "8",
         "minWeightFractionPerNode": "0.0",
         "numTrees": "20",
         "predictionCol": "prediction",
         "probabilityCol": "probability",
         "rawPredictionCol": "rawPrediction",
         "seed": "1",
         "subsamplingRate": "1.0"
        },
        "tags": {
         "estimator_class": "pyspark.ml.classification.RandomForestClassifier",
         "estimator_name": "RandomForestClassifier",
         "mlflow.autologging": "pyspark.ml",
         "mlflow.parentRunId": "017f721c-2ad3-4940-bed5-a6aba8d9d713",
         "mlflow.rootRunId": "017f721c-2ad3-4940-bed5-a6aba8d9d713",
         "mlflow.runName": "funny_puppy_6nzvzv41",
         "mlflow.user": "4b3a56ea-6f42-450e-b7c3-fb2932c7ac32",
         "synapseml.experiment.artifactId": "def0e41b-bf2a-4c5c-8970-7f8f29d2e61c",
         "synapseml.experimentName": "experiment-pt-need-for-rehab",
         "synapseml.livy.id": "f8972434-73df-4ded-b1a2-609fbbc233f6",
         "synapseml.notebook.artifactId": "1f319080-0c8b-41ec-bd3a-1ac600f02c7b",
         "synapseml.user.id": "5ceefbea-2f12-43ef-82e1-44dd8fc7ee0b",
         "synapseml.user.name": "atnip1"
        }
       },
       "info": {
        "artifact_uri": "sds://onelakewestus.pbidedicated.windows.net/8ee4903a-6e90-4510-b3c2-424d07933817/def0e41b-bf2a-4c5c-8970-7f8f29d2e61c/03aefba6-cb49-44c2-91be-d0a3f094629c/artifacts",
        "end_time": 1723135974,
        "experiment_id": "c75cf239-8e7d-4523-abcb-9b0e7ded18d0",
        "lifecycle_stage": "active",
        "run_id": "03aefba6-cb49-44c2-91be-d0a3f094629c",
        "run_name": "",
        "run_uuid": "03aefba6-cb49-44c2-91be-d0a3f094629c",
        "start_time": 1723135799,
        "status": "FINISHED",
        "user_id": "7ebfac85-3ebb-440f-a743-e52052051f6a"
       },
       "inputs": {
        "dataset_inputs": []
       }
      }
     },
     "metadata": {},
     "output_type": "display_data"
    },
    {
     "data": {
      "application/vnd.mlflow.run-widget+json": {
       "data": {
        "metrics": {
         "avg_accuracy": 0.8190393907627993,
         "std_accuracy": 0.052495115532920626
        },
        "params": {
         "bootstrap": "True",
         "cacheNodeIds": "False",
         "checkpointInterval": "10",
         "featureSubsetStrategy": "auto",
         "featuresCol": "features",
         "impurity": "gini",
         "labelCol": "label",
         "leafCol": "",
         "maxBins": "32",
         "maxDepth": "8",
         "maxMemoryInMB": "256",
         "minInfoGain": "0.0",
         "minInstancesPerNode": "16",
         "minWeightFractionPerNode": "0.0",
         "numTrees": "20",
         "predictionCol": "prediction",
         "probabilityCol": "probability",
         "rawPredictionCol": "rawPrediction",
         "seed": "1",
         "subsamplingRate": "1.0"
        },
        "tags": {
         "estimator_class": "pyspark.ml.classification.RandomForestClassifier",
         "estimator_name": "RandomForestClassifier",
         "mlflow.autologging": "pyspark.ml",
         "mlflow.parentRunId": "017f721c-2ad3-4940-bed5-a6aba8d9d713",
         "mlflow.rootRunId": "017f721c-2ad3-4940-bed5-a6aba8d9d713",
         "mlflow.runName": "epic_soca_n21p66zd",
         "mlflow.user": "4b3a56ea-6f42-450e-b7c3-fb2932c7ac32",
         "synapseml.experiment.artifactId": "def0e41b-bf2a-4c5c-8970-7f8f29d2e61c",
         "synapseml.experimentName": "experiment-pt-need-for-rehab",
         "synapseml.livy.id": "f8972434-73df-4ded-b1a2-609fbbc233f6",
         "synapseml.notebook.artifactId": "1f319080-0c8b-41ec-bd3a-1ac600f02c7b",
         "synapseml.user.id": "5ceefbea-2f12-43ef-82e1-44dd8fc7ee0b",
         "synapseml.user.name": "atnip1"
        }
       },
       "info": {
        "artifact_uri": "sds://onelakewestus.pbidedicated.windows.net/8ee4903a-6e90-4510-b3c2-424d07933817/def0e41b-bf2a-4c5c-8970-7f8f29d2e61c/7855fc44-0165-4b07-b11f-5fec17095b61/artifacts",
        "end_time": 1723135976,
        "experiment_id": "c75cf239-8e7d-4523-abcb-9b0e7ded18d0",
        "lifecycle_stage": "active",
        "run_id": "7855fc44-0165-4b07-b11f-5fec17095b61",
        "run_name": "",
        "run_uuid": "7855fc44-0165-4b07-b11f-5fec17095b61",
        "start_time": 1723135799,
        "status": "FINISHED",
        "user_id": "7ebfac85-3ebb-440f-a743-e52052051f6a"
       },
       "inputs": {
        "dataset_inputs": []
       }
      }
     },
     "metadata": {},
     "output_type": "display_data"
    },
    {
     "data": {
      "application/vnd.mlflow.run-widget+json": {
       "data": {
        "metrics": {
         "avg_accuracy": 0.8041540415341786,
         "std_accuracy": 0.049819809608229064
        },
        "params": {
         "bootstrap": "True",
         "cacheNodeIds": "False",
         "checkpointInterval": "10",
         "featureSubsetStrategy": "auto",
         "featuresCol": "features",
         "impurity": "gini",
         "labelCol": "label",
         "leafCol": "",
         "maxBins": "32",
         "maxDepth": "8",
         "maxMemoryInMB": "256",
         "minInfoGain": "0.0",
         "minInstancesPerNode": "32",
         "minWeightFractionPerNode": "0.0",
         "numTrees": "20",
         "predictionCol": "prediction",
         "probabilityCol": "probability",
         "rawPredictionCol": "rawPrediction",
         "seed": "1",
         "subsamplingRate": "1.0"
        },
        "tags": {
         "estimator_class": "pyspark.ml.classification.RandomForestClassifier",
         "estimator_name": "RandomForestClassifier",
         "mlflow.autologging": "pyspark.ml",
         "mlflow.parentRunId": "017f721c-2ad3-4940-bed5-a6aba8d9d713",
         "mlflow.rootRunId": "017f721c-2ad3-4940-bed5-a6aba8d9d713",
         "mlflow.runName": "sharp_lime_2qcq4c2v",
         "mlflow.user": "4b3a56ea-6f42-450e-b7c3-fb2932c7ac32",
         "synapseml.experiment.artifactId": "def0e41b-bf2a-4c5c-8970-7f8f29d2e61c",
         "synapseml.experimentName": "experiment-pt-need-for-rehab",
         "synapseml.livy.id": "f8972434-73df-4ded-b1a2-609fbbc233f6",
         "synapseml.notebook.artifactId": "1f319080-0c8b-41ec-bd3a-1ac600f02c7b",
         "synapseml.user.id": "5ceefbea-2f12-43ef-82e1-44dd8fc7ee0b",
         "synapseml.user.name": "atnip1"
        }
       },
       "info": {
        "artifact_uri": "sds://onelakewestus.pbidedicated.windows.net/8ee4903a-6e90-4510-b3c2-424d07933817/def0e41b-bf2a-4c5c-8970-7f8f29d2e61c/ff4780d2-b9aa-4ef3-aa54-eadde8635320/artifacts",
        "end_time": 1723135978,
        "experiment_id": "c75cf239-8e7d-4523-abcb-9b0e7ded18d0",
        "lifecycle_stage": "active",
        "run_id": "ff4780d2-b9aa-4ef3-aa54-eadde8635320",
        "run_name": "",
        "run_uuid": "ff4780d2-b9aa-4ef3-aa54-eadde8635320",
        "start_time": 1723135799,
        "status": "FINISHED",
        "user_id": "7ebfac85-3ebb-440f-a743-e52052051f6a"
       },
       "inputs": {
        "dataset_inputs": []
       }
      }
     },
     "metadata": {},
     "output_type": "display_data"
    },
    {
     "data": {
      "application/vnd.mlflow.run-widget+json": {
       "data": {
        "metrics": {
         "avg_accuracy": 0.8258421246716976,
         "std_accuracy": 0.035040589322678534
        },
        "params": {
         "bootstrap": "True",
         "cacheNodeIds": "False",
         "checkpointInterval": "10",
         "featureSubsetStrategy": "auto",
         "featuresCol": "features",
         "impurity": "gini",
         "labelCol": "label",
         "leafCol": "",
         "maxBins": "32",
         "maxDepth": "10",
         "maxMemoryInMB": "256",
         "minInfoGain": "0.0",
         "minInstancesPerNode": "4",
         "minWeightFractionPerNode": "0.0",
         "numTrees": "20",
         "predictionCol": "prediction",
         "probabilityCol": "probability",
         "rawPredictionCol": "rawPrediction",
         "seed": "1",
         "subsamplingRate": "1.0"
        },
        "tags": {
         "estimator_class": "pyspark.ml.classification.RandomForestClassifier",
         "estimator_name": "RandomForestClassifier",
         "mlflow.autologging": "pyspark.ml",
         "mlflow.parentRunId": "017f721c-2ad3-4940-bed5-a6aba8d9d713",
         "mlflow.rootRunId": "017f721c-2ad3-4940-bed5-a6aba8d9d713",
         "mlflow.runName": "silly_drain_qm0x5xbz",
         "mlflow.user": "4b3a56ea-6f42-450e-b7c3-fb2932c7ac32",
         "synapseml.experiment.artifactId": "def0e41b-bf2a-4c5c-8970-7f8f29d2e61c",
         "synapseml.experimentName": "experiment-pt-need-for-rehab",
         "synapseml.livy.id": "f8972434-73df-4ded-b1a2-609fbbc233f6",
         "synapseml.notebook.artifactId": "1f319080-0c8b-41ec-bd3a-1ac600f02c7b",
         "synapseml.user.id": "5ceefbea-2f12-43ef-82e1-44dd8fc7ee0b",
         "synapseml.user.name": "atnip1"
        }
       },
       "info": {
        "artifact_uri": "sds://onelakewestus.pbidedicated.windows.net/8ee4903a-6e90-4510-b3c2-424d07933817/def0e41b-bf2a-4c5c-8970-7f8f29d2e61c/1033a2a7-a7b6-43cd-9a28-f37981d487f3/artifacts",
        "end_time": 1723135979,
        "experiment_id": "c75cf239-8e7d-4523-abcb-9b0e7ded18d0",
        "lifecycle_stage": "active",
        "run_id": "1033a2a7-a7b6-43cd-9a28-f37981d487f3",
        "run_name": "",
        "run_uuid": "1033a2a7-a7b6-43cd-9a28-f37981d487f3",
        "start_time": 1723135799,
        "status": "FINISHED",
        "user_id": "7ebfac85-3ebb-440f-a743-e52052051f6a"
       },
       "inputs": {
        "dataset_inputs": []
       }
      }
     },
     "metadata": {},
     "output_type": "display_data"
    },
    {
     "data": {
      "application/vnd.mlflow.run-widget+json": {
       "data": {
        "metrics": {
         "avg_accuracy": 0.8256368382164112,
         "std_accuracy": 0.046726920475255965
        },
        "params": {
         "bootstrap": "True",
         "cacheNodeIds": "False",
         "checkpointInterval": "10",
         "featureSubsetStrategy": "auto",
         "featuresCol": "features",
         "impurity": "gini",
         "labelCol": "label",
         "leafCol": "",
         "maxBins": "32",
         "maxDepth": "10",
         "maxMemoryInMB": "256",
         "minInfoGain": "0.0",
         "minInstancesPerNode": "8",
         "minWeightFractionPerNode": "0.0",
         "numTrees": "20",
         "predictionCol": "prediction",
         "probabilityCol": "probability",
         "rawPredictionCol": "rawPrediction",
         "seed": "1",
         "subsamplingRate": "1.0"
        },
        "tags": {
         "estimator_class": "pyspark.ml.classification.RandomForestClassifier",
         "estimator_name": "RandomForestClassifier",
         "mlflow.autologging": "pyspark.ml",
         "mlflow.parentRunId": "017f721c-2ad3-4940-bed5-a6aba8d9d713",
         "mlflow.rootRunId": "017f721c-2ad3-4940-bed5-a6aba8d9d713",
         "mlflow.runName": "jolly_fork_qk05p9qk",
         "mlflow.user": "4b3a56ea-6f42-450e-b7c3-fb2932c7ac32",
         "synapseml.experiment.artifactId": "def0e41b-bf2a-4c5c-8970-7f8f29d2e61c",
         "synapseml.experimentName": "experiment-pt-need-for-rehab",
         "synapseml.livy.id": "f8972434-73df-4ded-b1a2-609fbbc233f6",
         "synapseml.notebook.artifactId": "1f319080-0c8b-41ec-bd3a-1ac600f02c7b",
         "synapseml.user.id": "5ceefbea-2f12-43ef-82e1-44dd8fc7ee0b",
         "synapseml.user.name": "atnip1"
        }
       },
       "info": {
        "artifact_uri": "sds://onelakewestus.pbidedicated.windows.net/8ee4903a-6e90-4510-b3c2-424d07933817/def0e41b-bf2a-4c5c-8970-7f8f29d2e61c/2334014a-1f93-40a9-bc8c-f902a61af8b5/artifacts",
        "end_time": 1723135981,
        "experiment_id": "c75cf239-8e7d-4523-abcb-9b0e7ded18d0",
        "lifecycle_stage": "active",
        "run_id": "2334014a-1f93-40a9-bc8c-f902a61af8b5",
        "run_name": "",
        "run_uuid": "2334014a-1f93-40a9-bc8c-f902a61af8b5",
        "start_time": 1723135799,
        "status": "FINISHED",
        "user_id": "7ebfac85-3ebb-440f-a743-e52052051f6a"
       },
       "inputs": {
        "dataset_inputs": []
       }
      }
     },
     "metadata": {},
     "output_type": "display_data"
    },
    {
     "data": {
      "application/vnd.mlflow.run-widget+json": {
       "data": {
        "metrics": {
         "avg_accuracy": 0.8178489145723231,
         "std_accuracy": 0.05202032669118079
        },
        "params": {
         "bootstrap": "True",
         "cacheNodeIds": "False",
         "checkpointInterval": "10",
         "featureSubsetStrategy": "auto",
         "featuresCol": "features",
         "impurity": "gini",
         "labelCol": "label",
         "leafCol": "",
         "maxBins": "32",
         "maxDepth": "10",
         "maxMemoryInMB": "256",
         "minInfoGain": "0.0",
         "minInstancesPerNode": "16",
         "minWeightFractionPerNode": "0.0",
         "numTrees": "20",
         "predictionCol": "prediction",
         "probabilityCol": "probability",
         "rawPredictionCol": "rawPrediction",
         "seed": "1",
         "subsamplingRate": "1.0"
        },
        "tags": {
         "estimator_class": "pyspark.ml.classification.RandomForestClassifier",
         "estimator_name": "RandomForestClassifier",
         "mlflow.autologging": "pyspark.ml",
         "mlflow.parentRunId": "017f721c-2ad3-4940-bed5-a6aba8d9d713",
         "mlflow.rootRunId": "017f721c-2ad3-4940-bed5-a6aba8d9d713",
         "mlflow.runName": "mango_market_vgq2d8qb",
         "mlflow.user": "4b3a56ea-6f42-450e-b7c3-fb2932c7ac32",
         "synapseml.experiment.artifactId": "def0e41b-bf2a-4c5c-8970-7f8f29d2e61c",
         "synapseml.experimentName": "experiment-pt-need-for-rehab",
         "synapseml.livy.id": "f8972434-73df-4ded-b1a2-609fbbc233f6",
         "synapseml.notebook.artifactId": "1f319080-0c8b-41ec-bd3a-1ac600f02c7b",
         "synapseml.user.id": "5ceefbea-2f12-43ef-82e1-44dd8fc7ee0b",
         "synapseml.user.name": "atnip1"
        }
       },
       "info": {
        "artifact_uri": "sds://onelakewestus.pbidedicated.windows.net/8ee4903a-6e90-4510-b3c2-424d07933817/def0e41b-bf2a-4c5c-8970-7f8f29d2e61c/d38307b8-4a8c-4aa5-8553-ef11c56122fe/artifacts",
        "end_time": 1723135983,
        "experiment_id": "c75cf239-8e7d-4523-abcb-9b0e7ded18d0",
        "lifecycle_stage": "active",
        "run_id": "d38307b8-4a8c-4aa5-8553-ef11c56122fe",
        "run_name": "",
        "run_uuid": "d38307b8-4a8c-4aa5-8553-ef11c56122fe",
        "start_time": 1723135799,
        "status": "FINISHED",
        "user_id": "7ebfac85-3ebb-440f-a743-e52052051f6a"
       },
       "inputs": {
        "dataset_inputs": []
       }
      }
     },
     "metadata": {},
     "output_type": "display_data"
    },
    {
     "data": {
      "application/vnd.mlflow.run-widget+json": {
       "data": {
        "metrics": {
         "avg_accuracy": 0.8041540415341786,
         "std_accuracy": 0.049819809608229064
        },
        "params": {
         "bootstrap": "True",
         "cacheNodeIds": "False",
         "checkpointInterval": "10",
         "featureSubsetStrategy": "auto",
         "featuresCol": "features",
         "impurity": "gini",
         "labelCol": "label",
         "leafCol": "",
         "maxBins": "32",
         "maxDepth": "10",
         "maxMemoryInMB": "256",
         "minInfoGain": "0.0",
         "minInstancesPerNode": "32",
         "minWeightFractionPerNode": "0.0",
         "numTrees": "20",
         "predictionCol": "prediction",
         "probabilityCol": "probability",
         "rawPredictionCol": "rawPrediction",
         "seed": "1",
         "subsamplingRate": "1.0"
        },
        "tags": {
         "estimator_class": "pyspark.ml.classification.RandomForestClassifier",
         "estimator_name": "RandomForestClassifier",
         "mlflow.autologging": "pyspark.ml",
         "mlflow.parentRunId": "017f721c-2ad3-4940-bed5-a6aba8d9d713",
         "mlflow.rootRunId": "017f721c-2ad3-4940-bed5-a6aba8d9d713",
         "mlflow.runName": "magenta_holiday_k7cr4fqf",
         "mlflow.user": "4b3a56ea-6f42-450e-b7c3-fb2932c7ac32",
         "synapseml.experiment.artifactId": "def0e41b-bf2a-4c5c-8970-7f8f29d2e61c",
         "synapseml.experimentName": "experiment-pt-need-for-rehab",
         "synapseml.livy.id": "f8972434-73df-4ded-b1a2-609fbbc233f6",
         "synapseml.notebook.artifactId": "1f319080-0c8b-41ec-bd3a-1ac600f02c7b",
         "synapseml.user.id": "5ceefbea-2f12-43ef-82e1-44dd8fc7ee0b",
         "synapseml.user.name": "atnip1"
        }
       },
       "info": {
        "artifact_uri": "sds://onelakewestus.pbidedicated.windows.net/8ee4903a-6e90-4510-b3c2-424d07933817/def0e41b-bf2a-4c5c-8970-7f8f29d2e61c/3f8248d2-3c24-4d9c-ac9b-4293bab07f11/artifacts",
        "end_time": 1723135984,
        "experiment_id": "c75cf239-8e7d-4523-abcb-9b0e7ded18d0",
        "lifecycle_stage": "active",
        "run_id": "3f8248d2-3c24-4d9c-ac9b-4293bab07f11",
        "run_name": "",
        "run_uuid": "3f8248d2-3c24-4d9c-ac9b-4293bab07f11",
        "start_time": 1723135799,
        "status": "FINISHED",
        "user_id": "7ebfac85-3ebb-440f-a743-e52052051f6a"
       },
       "inputs": {
        "dataset_inputs": []
       }
      }
     },
     "metadata": {},
     "output_type": "display_data"
    },
    {
     "data": {
      "application/vnd.mlflow.run-widget+json": {
       "data": {
        "metrics": {
         "avg_accuracy": 0.8247015903693985,
         "std_accuracy": 0.03935893754285363
        },
        "params": {
         "bootstrap": "True",
         "cacheNodeIds": "False",
         "checkpointInterval": "10",
         "featureSubsetStrategy": "auto",
         "featuresCol": "features",
         "impurity": "gini",
         "labelCol": "label",
         "leafCol": "",
         "maxBins": "32",
         "maxDepth": "12",
         "maxMemoryInMB": "256",
         "minInfoGain": "0.0",
         "minInstancesPerNode": "4",
         "minWeightFractionPerNode": "0.0",
         "numTrees": "20",
         "predictionCol": "prediction",
         "probabilityCol": "probability",
         "rawPredictionCol": "rawPrediction",
         "seed": "1",
         "subsamplingRate": "1.0"
        },
        "tags": {
         "estimator_class": "pyspark.ml.classification.RandomForestClassifier",
         "estimator_name": "RandomForestClassifier",
         "mlflow.autologging": "pyspark.ml",
         "mlflow.parentRunId": "017f721c-2ad3-4940-bed5-a6aba8d9d713",
         "mlflow.rootRunId": "017f721c-2ad3-4940-bed5-a6aba8d9d713",
         "mlflow.runName": "coral_spider_yyr9j6xs",
         "mlflow.user": "4b3a56ea-6f42-450e-b7c3-fb2932c7ac32",
         "synapseml.experiment.artifactId": "def0e41b-bf2a-4c5c-8970-7f8f29d2e61c",
         "synapseml.experimentName": "experiment-pt-need-for-rehab",
         "synapseml.livy.id": "f8972434-73df-4ded-b1a2-609fbbc233f6",
         "synapseml.notebook.artifactId": "1f319080-0c8b-41ec-bd3a-1ac600f02c7b",
         "synapseml.user.id": "5ceefbea-2f12-43ef-82e1-44dd8fc7ee0b",
         "synapseml.user.name": "atnip1"
        }
       },
       "info": {
        "artifact_uri": "sds://onelakewestus.pbidedicated.windows.net/8ee4903a-6e90-4510-b3c2-424d07933817/def0e41b-bf2a-4c5c-8970-7f8f29d2e61c/15140b57-dbe2-4db1-b5f3-656e5edd3aab/artifacts",
        "end_time": 1723135986,
        "experiment_id": "c75cf239-8e7d-4523-abcb-9b0e7ded18d0",
        "lifecycle_stage": "active",
        "run_id": "15140b57-dbe2-4db1-b5f3-656e5edd3aab",
        "run_name": "",
        "run_uuid": "15140b57-dbe2-4db1-b5f3-656e5edd3aab",
        "start_time": 1723135799,
        "status": "FINISHED",
        "user_id": "7ebfac85-3ebb-440f-a743-e52052051f6a"
       },
       "inputs": {
        "dataset_inputs": []
       }
      }
     },
     "metadata": {},
     "output_type": "display_data"
    },
    {
     "data": {
      "application/vnd.mlflow.run-widget+json": {
       "data": {
        "metrics": {
         "avg_accuracy": 0.8256368382164112,
         "std_accuracy": 0.046726920475255965
        },
        "params": {
         "bootstrap": "True",
         "cacheNodeIds": "False",
         "checkpointInterval": "10",
         "featureSubsetStrategy": "auto",
         "featuresCol": "features",
         "impurity": "gini",
         "labelCol": "label",
         "leafCol": "",
         "maxBins": "32",
         "maxDepth": "12",
         "maxMemoryInMB": "256",
         "minInfoGain": "0.0",
         "minInstancesPerNode": "8",
         "minWeightFractionPerNode": "0.0",
         "numTrees": "20",
         "predictionCol": "prediction",
         "probabilityCol": "probability",
         "rawPredictionCol": "rawPrediction",
         "seed": "1",
         "subsamplingRate": "1.0"
        },
        "tags": {
         "estimator_class": "pyspark.ml.classification.RandomForestClassifier",
         "estimator_name": "RandomForestClassifier",
         "mlflow.autologging": "pyspark.ml",
         "mlflow.parentRunId": "017f721c-2ad3-4940-bed5-a6aba8d9d713",
         "mlflow.rootRunId": "017f721c-2ad3-4940-bed5-a6aba8d9d713",
         "mlflow.runName": "tender_guava_x0tgjxww",
         "mlflow.user": "4b3a56ea-6f42-450e-b7c3-fb2932c7ac32",
         "synapseml.experiment.artifactId": "def0e41b-bf2a-4c5c-8970-7f8f29d2e61c",
         "synapseml.experimentName": "experiment-pt-need-for-rehab",
         "synapseml.livy.id": "f8972434-73df-4ded-b1a2-609fbbc233f6",
         "synapseml.notebook.artifactId": "1f319080-0c8b-41ec-bd3a-1ac600f02c7b",
         "synapseml.user.id": "5ceefbea-2f12-43ef-82e1-44dd8fc7ee0b",
         "synapseml.user.name": "atnip1"
        }
       },
       "info": {
        "artifact_uri": "sds://onelakewestus.pbidedicated.windows.net/8ee4903a-6e90-4510-b3c2-424d07933817/def0e41b-bf2a-4c5c-8970-7f8f29d2e61c/031663bd-5619-4b31-b88a-114faff04994/artifacts",
        "end_time": 1723135988,
        "experiment_id": "c75cf239-8e7d-4523-abcb-9b0e7ded18d0",
        "lifecycle_stage": "active",
        "run_id": "031663bd-5619-4b31-b88a-114faff04994",
        "run_name": "",
        "run_uuid": "031663bd-5619-4b31-b88a-114faff04994",
        "start_time": 1723135799,
        "status": "FINISHED",
        "user_id": "7ebfac85-3ebb-440f-a743-e52052051f6a"
       },
       "inputs": {
        "dataset_inputs": []
       }
      }
     },
     "metadata": {},
     "output_type": "display_data"
    },
    {
     "data": {
      "application/vnd.mlflow.run-widget+json": {
       "data": {
        "metrics": {
         "avg_accuracy": 0.8178489145723231,
         "std_accuracy": 0.05202032669118079
        },
        "params": {
         "bootstrap": "True",
         "cacheNodeIds": "False",
         "checkpointInterval": "10",
         "featureSubsetStrategy": "auto",
         "featuresCol": "features",
         "impurity": "gini",
         "labelCol": "label",
         "leafCol": "",
         "maxBins": "32",
         "maxDepth": "12",
         "maxMemoryInMB": "256",
         "minInfoGain": "0.0",
         "minInstancesPerNode": "16",
         "minWeightFractionPerNode": "0.0",
         "numTrees": "20",
         "predictionCol": "prediction",
         "probabilityCol": "probability",
         "rawPredictionCol": "rawPrediction",
         "seed": "1",
         "subsamplingRate": "1.0"
        },
        "tags": {
         "estimator_class": "pyspark.ml.classification.RandomForestClassifier",
         "estimator_name": "RandomForestClassifier",
         "mlflow.autologging": "pyspark.ml",
         "mlflow.parentRunId": "017f721c-2ad3-4940-bed5-a6aba8d9d713",
         "mlflow.rootRunId": "017f721c-2ad3-4940-bed5-a6aba8d9d713",
         "mlflow.runName": "joyful_hand_t4kqywdm",
         "mlflow.user": "4b3a56ea-6f42-450e-b7c3-fb2932c7ac32",
         "synapseml.experiment.artifactId": "def0e41b-bf2a-4c5c-8970-7f8f29d2e61c",
         "synapseml.experimentName": "experiment-pt-need-for-rehab",
         "synapseml.livy.id": "f8972434-73df-4ded-b1a2-609fbbc233f6",
         "synapseml.notebook.artifactId": "1f319080-0c8b-41ec-bd3a-1ac600f02c7b",
         "synapseml.user.id": "5ceefbea-2f12-43ef-82e1-44dd8fc7ee0b",
         "synapseml.user.name": "atnip1"
        }
       },
       "info": {
        "artifact_uri": "sds://onelakewestus.pbidedicated.windows.net/8ee4903a-6e90-4510-b3c2-424d07933817/def0e41b-bf2a-4c5c-8970-7f8f29d2e61c/8b53a902-b7c7-44a1-8b37-00b592c9f190/artifacts",
        "end_time": 1723135990,
        "experiment_id": "c75cf239-8e7d-4523-abcb-9b0e7ded18d0",
        "lifecycle_stage": "active",
        "run_id": "8b53a902-b7c7-44a1-8b37-00b592c9f190",
        "run_name": "",
        "run_uuid": "8b53a902-b7c7-44a1-8b37-00b592c9f190",
        "start_time": 1723135799,
        "status": "FINISHED",
        "user_id": "7ebfac85-3ebb-440f-a743-e52052051f6a"
       },
       "inputs": {
        "dataset_inputs": []
       }
      }
     },
     "metadata": {},
     "output_type": "display_data"
    },
    {
     "data": {
      "application/vnd.mlflow.run-widget+json": {
       "data": {
        "metrics": {
         "avg_accuracy": 0.8041540415341786,
         "std_accuracy": 0.049819809608229064
        },
        "params": {
         "bootstrap": "True",
         "cacheNodeIds": "False",
         "checkpointInterval": "10",
         "featureSubsetStrategy": "auto",
         "featuresCol": "features",
         "impurity": "gini",
         "labelCol": "label",
         "leafCol": "",
         "maxBins": "32",
         "maxDepth": "12",
         "maxMemoryInMB": "256",
         "minInfoGain": "0.0",
         "minInstancesPerNode": "32",
         "minWeightFractionPerNode": "0.0",
         "numTrees": "20",
         "predictionCol": "prediction",
         "probabilityCol": "probability",
         "rawPredictionCol": "rawPrediction",
         "seed": "1",
         "subsamplingRate": "1.0"
        },
        "tags": {
         "estimator_class": "pyspark.ml.classification.RandomForestClassifier",
         "estimator_name": "RandomForestClassifier",
         "mlflow.autologging": "pyspark.ml",
         "mlflow.parentRunId": "017f721c-2ad3-4940-bed5-a6aba8d9d713",
         "mlflow.rootRunId": "017f721c-2ad3-4940-bed5-a6aba8d9d713",
         "mlflow.runName": "plum_ocean_5hxqc8n5",
         "mlflow.user": "4b3a56ea-6f42-450e-b7c3-fb2932c7ac32",
         "synapseml.experiment.artifactId": "def0e41b-bf2a-4c5c-8970-7f8f29d2e61c",
         "synapseml.experimentName": "experiment-pt-need-for-rehab",
         "synapseml.livy.id": "f8972434-73df-4ded-b1a2-609fbbc233f6",
         "synapseml.notebook.artifactId": "1f319080-0c8b-41ec-bd3a-1ac600f02c7b",
         "synapseml.user.id": "5ceefbea-2f12-43ef-82e1-44dd8fc7ee0b",
         "synapseml.user.name": "atnip1"
        }
       },
       "info": {
        "artifact_uri": "sds://onelakewestus.pbidedicated.windows.net/8ee4903a-6e90-4510-b3c2-424d07933817/def0e41b-bf2a-4c5c-8970-7f8f29d2e61c/2a8bb45a-81ca-47be-8b1c-ef9f70944d92/artifacts",
        "end_time": 1723135992,
        "experiment_id": "c75cf239-8e7d-4523-abcb-9b0e7ded18d0",
        "lifecycle_stage": "active",
        "run_id": "2a8bb45a-81ca-47be-8b1c-ef9f70944d92",
        "run_name": "",
        "run_uuid": "2a8bb45a-81ca-47be-8b1c-ef9f70944d92",
        "start_time": 1723135799,
        "status": "FINISHED",
        "user_id": "7ebfac85-3ebb-440f-a743-e52052051f6a"
       },
       "inputs": {
        "dataset_inputs": []
       }
      }
     },
     "metadata": {},
     "output_type": "display_data"
    },
    {
     "data": {
      "application/vnd.mlflow.run-widget+json": {
       "data": {
        "metrics": {
         "avg_accuracy": 0.8231631288309371,
         "std_accuracy": 0.03866238813326698
        },
        "params": {
         "bootstrap": "True",
         "cacheNodeIds": "False",
         "checkpointInterval": "10",
         "featureSubsetStrategy": "auto",
         "featuresCol": "features",
         "impurity": "gini",
         "labelCol": "label",
         "leafCol": "",
         "maxBins": "32",
         "maxDepth": "14",
         "maxMemoryInMB": "256",
         "minInfoGain": "0.0",
         "minInstancesPerNode": "4",
         "minWeightFractionPerNode": "0.0",
         "numTrees": "20",
         "predictionCol": "prediction",
         "probabilityCol": "probability",
         "rawPredictionCol": "rawPrediction",
         "seed": "1",
         "subsamplingRate": "1.0"
        },
        "tags": {
         "estimator_class": "pyspark.ml.classification.RandomForestClassifier",
         "estimator_name": "RandomForestClassifier",
         "mlflow.autologging": "pyspark.ml",
         "mlflow.parentRunId": "017f721c-2ad3-4940-bed5-a6aba8d9d713",
         "mlflow.rootRunId": "017f721c-2ad3-4940-bed5-a6aba8d9d713",
         "mlflow.runName": "loyal_station_g5wc7m8k",
         "mlflow.user": "4b3a56ea-6f42-450e-b7c3-fb2932c7ac32",
         "synapseml.experiment.artifactId": "def0e41b-bf2a-4c5c-8970-7f8f29d2e61c",
         "synapseml.experimentName": "experiment-pt-need-for-rehab",
         "synapseml.livy.id": "f8972434-73df-4ded-b1a2-609fbbc233f6",
         "synapseml.notebook.artifactId": "1f319080-0c8b-41ec-bd3a-1ac600f02c7b",
         "synapseml.user.id": "5ceefbea-2f12-43ef-82e1-44dd8fc7ee0b",
         "synapseml.user.name": "atnip1"
        }
       },
       "info": {
        "artifact_uri": "sds://onelakewestus.pbidedicated.windows.net/8ee4903a-6e90-4510-b3c2-424d07933817/def0e41b-bf2a-4c5c-8970-7f8f29d2e61c/7660e48d-b5f0-43c6-bfe2-99d806df4fb5/artifacts",
        "end_time": 1723135993,
        "experiment_id": "c75cf239-8e7d-4523-abcb-9b0e7ded18d0",
        "lifecycle_stage": "active",
        "run_id": "7660e48d-b5f0-43c6-bfe2-99d806df4fb5",
        "run_name": "",
        "run_uuid": "7660e48d-b5f0-43c6-bfe2-99d806df4fb5",
        "start_time": 1723135799,
        "status": "FINISHED",
        "user_id": "7ebfac85-3ebb-440f-a743-e52052051f6a"
       },
       "inputs": {
        "dataset_inputs": []
       }
      }
     },
     "metadata": {},
     "output_type": "display_data"
    },
    {
     "data": {
      "application/vnd.mlflow.run-widget+json": {
       "data": {
        "metrics": {
         "avg_accuracy": 0.8256368382164112,
         "std_accuracy": 0.046726920475255965
        },
        "params": {
         "bootstrap": "True",
         "cacheNodeIds": "False",
         "checkpointInterval": "10",
         "featureSubsetStrategy": "auto",
         "featuresCol": "features",
         "impurity": "gini",
         "labelCol": "label",
         "leafCol": "",
         "maxBins": "32",
         "maxDepth": "14",
         "maxMemoryInMB": "256",
         "minInfoGain": "0.0",
         "minInstancesPerNode": "8",
         "minWeightFractionPerNode": "0.0",
         "numTrees": "20",
         "predictionCol": "prediction",
         "probabilityCol": "probability",
         "rawPredictionCol": "rawPrediction",
         "seed": "1",
         "subsamplingRate": "1.0"
        },
        "tags": {
         "estimator_class": "pyspark.ml.classification.RandomForestClassifier",
         "estimator_name": "RandomForestClassifier",
         "mlflow.autologging": "pyspark.ml",
         "mlflow.parentRunId": "017f721c-2ad3-4940-bed5-a6aba8d9d713",
         "mlflow.rootRunId": "017f721c-2ad3-4940-bed5-a6aba8d9d713",
         "mlflow.runName": "keen_energy_mcsg6j1v",
         "mlflow.user": "4b3a56ea-6f42-450e-b7c3-fb2932c7ac32",
         "synapseml.experiment.artifactId": "def0e41b-bf2a-4c5c-8970-7f8f29d2e61c",
         "synapseml.experimentName": "experiment-pt-need-for-rehab",
         "synapseml.livy.id": "f8972434-73df-4ded-b1a2-609fbbc233f6",
         "synapseml.notebook.artifactId": "1f319080-0c8b-41ec-bd3a-1ac600f02c7b",
         "synapseml.user.id": "5ceefbea-2f12-43ef-82e1-44dd8fc7ee0b",
         "synapseml.user.name": "atnip1"
        }
       },
       "info": {
        "artifact_uri": "sds://onelakewestus.pbidedicated.windows.net/8ee4903a-6e90-4510-b3c2-424d07933817/def0e41b-bf2a-4c5c-8970-7f8f29d2e61c/27b503f9-cc18-46c6-97f2-27a072622541/artifacts",
        "end_time": 1723135995,
        "experiment_id": "c75cf239-8e7d-4523-abcb-9b0e7ded18d0",
        "lifecycle_stage": "active",
        "run_id": "27b503f9-cc18-46c6-97f2-27a072622541",
        "run_name": "",
        "run_uuid": "27b503f9-cc18-46c6-97f2-27a072622541",
        "start_time": 1723135799,
        "status": "FINISHED",
        "user_id": "7ebfac85-3ebb-440f-a743-e52052051f6a"
       },
       "inputs": {
        "dataset_inputs": []
       }
      }
     },
     "metadata": {},
     "output_type": "display_data"
    },
    {
     "data": {
      "application/vnd.mlflow.run-widget+json": {
       "data": {
        "metrics": {
         "avg_accuracy": 0.8178489145723231,
         "std_accuracy": 0.05202032669118079
        },
        "params": {
         "bootstrap": "True",
         "cacheNodeIds": "False",
         "checkpointInterval": "10",
         "featureSubsetStrategy": "auto",
         "featuresCol": "features",
         "impurity": "gini",
         "labelCol": "label",
         "leafCol": "",
         "maxBins": "32",
         "maxDepth": "14",
         "maxMemoryInMB": "256",
         "minInfoGain": "0.0",
         "minInstancesPerNode": "16",
         "minWeightFractionPerNode": "0.0",
         "numTrees": "20",
         "predictionCol": "prediction",
         "probabilityCol": "probability",
         "rawPredictionCol": "rawPrediction",
         "seed": "1",
         "subsamplingRate": "1.0"
        },
        "tags": {
         "estimator_class": "pyspark.ml.classification.RandomForestClassifier",
         "estimator_name": "RandomForestClassifier",
         "mlflow.autologging": "pyspark.ml",
         "mlflow.parentRunId": "017f721c-2ad3-4940-bed5-a6aba8d9d713",
         "mlflow.rootRunId": "017f721c-2ad3-4940-bed5-a6aba8d9d713",
         "mlflow.runName": "stoic_cabbage_twrdcgx2",
         "mlflow.user": "4b3a56ea-6f42-450e-b7c3-fb2932c7ac32",
         "synapseml.experiment.artifactId": "def0e41b-bf2a-4c5c-8970-7f8f29d2e61c",
         "synapseml.experimentName": "experiment-pt-need-for-rehab",
         "synapseml.livy.id": "f8972434-73df-4ded-b1a2-609fbbc233f6",
         "synapseml.notebook.artifactId": "1f319080-0c8b-41ec-bd3a-1ac600f02c7b",
         "synapseml.user.id": "5ceefbea-2f12-43ef-82e1-44dd8fc7ee0b",
         "synapseml.user.name": "atnip1"
        }
       },
       "info": {
        "artifact_uri": "sds://onelakewestus.pbidedicated.windows.net/8ee4903a-6e90-4510-b3c2-424d07933817/def0e41b-bf2a-4c5c-8970-7f8f29d2e61c/e51592af-e3f3-493d-b8dd-11153ffc400c/artifacts",
        "end_time": 1723135997,
        "experiment_id": "c75cf239-8e7d-4523-abcb-9b0e7ded18d0",
        "lifecycle_stage": "active",
        "run_id": "e51592af-e3f3-493d-b8dd-11153ffc400c",
        "run_name": "",
        "run_uuid": "e51592af-e3f3-493d-b8dd-11153ffc400c",
        "start_time": 1723135799,
        "status": "FINISHED",
        "user_id": "7ebfac85-3ebb-440f-a743-e52052051f6a"
       },
       "inputs": {
        "dataset_inputs": []
       }
      }
     },
     "metadata": {},
     "output_type": "display_data"
    },
    {
     "data": {
      "application/vnd.mlflow.run-widget+json": {
       "data": {
        "metrics": {
         "avg_accuracy": 0.8041540415341786,
         "std_accuracy": 0.049819809608229064
        },
        "params": {
         "bootstrap": "True",
         "cacheNodeIds": "False",
         "checkpointInterval": "10",
         "featureSubsetStrategy": "auto",
         "featuresCol": "features",
         "impurity": "gini",
         "labelCol": "label",
         "leafCol": "",
         "maxBins": "32",
         "maxDepth": "14",
         "maxMemoryInMB": "256",
         "minInfoGain": "0.0",
         "minInstancesPerNode": "32",
         "minWeightFractionPerNode": "0.0",
         "numTrees": "20",
         "predictionCol": "prediction",
         "probabilityCol": "probability",
         "rawPredictionCol": "rawPrediction",
         "seed": "1",
         "subsamplingRate": "1.0"
        },
        "tags": {
         "estimator_class": "pyspark.ml.classification.RandomForestClassifier",
         "estimator_name": "RandomForestClassifier",
         "mlflow.autologging": "pyspark.ml",
         "mlflow.parentRunId": "017f721c-2ad3-4940-bed5-a6aba8d9d713",
         "mlflow.rootRunId": "017f721c-2ad3-4940-bed5-a6aba8d9d713",
         "mlflow.runName": "zen_fish_x1dr5wg1",
         "mlflow.user": "4b3a56ea-6f42-450e-b7c3-fb2932c7ac32",
         "synapseml.experiment.artifactId": "def0e41b-bf2a-4c5c-8970-7f8f29d2e61c",
         "synapseml.experimentName": "experiment-pt-need-for-rehab",
         "synapseml.livy.id": "f8972434-73df-4ded-b1a2-609fbbc233f6",
         "synapseml.notebook.artifactId": "1f319080-0c8b-41ec-bd3a-1ac600f02c7b",
         "synapseml.user.id": "5ceefbea-2f12-43ef-82e1-44dd8fc7ee0b",
         "synapseml.user.name": "atnip1"
        }
       },
       "info": {
        "artifact_uri": "sds://onelakewestus.pbidedicated.windows.net/8ee4903a-6e90-4510-b3c2-424d07933817/def0e41b-bf2a-4c5c-8970-7f8f29d2e61c/3c1279cb-ffc6-4f6b-99a2-1b88cabf0d4d/artifacts",
        "end_time": 1723135999,
        "experiment_id": "c75cf239-8e7d-4523-abcb-9b0e7ded18d0",
        "lifecycle_stage": "active",
        "run_id": "3c1279cb-ffc6-4f6b-99a2-1b88cabf0d4d",
        "run_name": "",
        "run_uuid": "3c1279cb-ffc6-4f6b-99a2-1b88cabf0d4d",
        "start_time": 1723135799,
        "status": "FINISHED",
        "user_id": "7ebfac85-3ebb-440f-a743-e52052051f6a"
       },
       "inputs": {
        "dataset_inputs": []
       }
      }
     },
     "metadata": {},
     "output_type": "display_data"
    },
    {
     "data": {
      "application/vnd.mlflow.run-widget+json": {
       "data": {
        "metrics": {
         "avg_accuracy": 0.8244131288309371,
         "std_accuracy": 0.03930247999923212
        },
        "params": {
         "bootstrap": "True",
         "cacheNodeIds": "False",
         "checkpointInterval": "10",
         "featureSubsetStrategy": "auto",
         "featuresCol": "features",
         "impurity": "gini",
         "labelCol": "label",
         "leafCol": "",
         "maxBins": "32",
         "maxDepth": "16",
         "maxMemoryInMB": "256",
         "minInfoGain": "0.0",
         "minInstancesPerNode": "4",
         "minWeightFractionPerNode": "0.0",
         "numTrees": "20",
         "predictionCol": "prediction",
         "probabilityCol": "probability",
         "rawPredictionCol": "rawPrediction",
         "seed": "1",
         "subsamplingRate": "1.0"
        },
        "tags": {
         "estimator_class": "pyspark.ml.classification.RandomForestClassifier",
         "estimator_name": "RandomForestClassifier",
         "mlflow.autologging": "pyspark.ml",
         "mlflow.parentRunId": "017f721c-2ad3-4940-bed5-a6aba8d9d713",
         "mlflow.rootRunId": "017f721c-2ad3-4940-bed5-a6aba8d9d713",
         "mlflow.runName": "hungry_oregano_jkq794f0",
         "mlflow.user": "4b3a56ea-6f42-450e-b7c3-fb2932c7ac32",
         "synapseml.experiment.artifactId": "def0e41b-bf2a-4c5c-8970-7f8f29d2e61c",
         "synapseml.experimentName": "experiment-pt-need-for-rehab",
         "synapseml.livy.id": "f8972434-73df-4ded-b1a2-609fbbc233f6",
         "synapseml.notebook.artifactId": "1f319080-0c8b-41ec-bd3a-1ac600f02c7b",
         "synapseml.user.id": "5ceefbea-2f12-43ef-82e1-44dd8fc7ee0b",
         "synapseml.user.name": "atnip1"
        }
       },
       "info": {
        "artifact_uri": "sds://onelakewestus.pbidedicated.windows.net/8ee4903a-6e90-4510-b3c2-424d07933817/def0e41b-bf2a-4c5c-8970-7f8f29d2e61c/1fb0b23d-dca4-4ed5-b5a8-c7be775990ff/artifacts",
        "end_time": 1723136001,
        "experiment_id": "c75cf239-8e7d-4523-abcb-9b0e7ded18d0",
        "lifecycle_stage": "active",
        "run_id": "1fb0b23d-dca4-4ed5-b5a8-c7be775990ff",
        "run_name": "",
        "run_uuid": "1fb0b23d-dca4-4ed5-b5a8-c7be775990ff",
        "start_time": 1723135799,
        "status": "FINISHED",
        "user_id": "7ebfac85-3ebb-440f-a743-e52052051f6a"
       },
       "inputs": {
        "dataset_inputs": []
       }
      }
     },
     "metadata": {},
     "output_type": "display_data"
    },
    {
     "data": {
      "application/vnd.mlflow.run-widget+json": {
       "data": {
        "metrics": {
         "avg_accuracy": 0.8256368382164112,
         "std_accuracy": 0.046726920475255965
        },
        "params": {
         "bootstrap": "True",
         "cacheNodeIds": "False",
         "checkpointInterval": "10",
         "featureSubsetStrategy": "auto",
         "featuresCol": "features",
         "impurity": "gini",
         "labelCol": "label",
         "leafCol": "",
         "maxBins": "32",
         "maxDepth": "16",
         "maxMemoryInMB": "256",
         "minInfoGain": "0.0",
         "minInstancesPerNode": "8",
         "minWeightFractionPerNode": "0.0",
         "numTrees": "20",
         "predictionCol": "prediction",
         "probabilityCol": "probability",
         "rawPredictionCol": "rawPrediction",
         "seed": "1",
         "subsamplingRate": "1.0"
        },
        "tags": {
         "estimator_class": "pyspark.ml.classification.RandomForestClassifier",
         "estimator_name": "RandomForestClassifier",
         "mlflow.autologging": "pyspark.ml",
         "mlflow.parentRunId": "017f721c-2ad3-4940-bed5-a6aba8d9d713",
         "mlflow.rootRunId": "017f721c-2ad3-4940-bed5-a6aba8d9d713",
         "mlflow.runName": "magenta_cup_gl6kdc6j",
         "mlflow.user": "4b3a56ea-6f42-450e-b7c3-fb2932c7ac32",
         "synapseml.experiment.artifactId": "def0e41b-bf2a-4c5c-8970-7f8f29d2e61c",
         "synapseml.experimentName": "experiment-pt-need-for-rehab",
         "synapseml.livy.id": "f8972434-73df-4ded-b1a2-609fbbc233f6",
         "synapseml.notebook.artifactId": "1f319080-0c8b-41ec-bd3a-1ac600f02c7b",
         "synapseml.user.id": "5ceefbea-2f12-43ef-82e1-44dd8fc7ee0b",
         "synapseml.user.name": "atnip1"
        }
       },
       "info": {
        "artifact_uri": "sds://onelakewestus.pbidedicated.windows.net/8ee4903a-6e90-4510-b3c2-424d07933817/def0e41b-bf2a-4c5c-8970-7f8f29d2e61c/1e619705-f6b3-41e0-9f86-ae4bf5392e8d/artifacts",
        "end_time": 1723136002,
        "experiment_id": "c75cf239-8e7d-4523-abcb-9b0e7ded18d0",
        "lifecycle_stage": "active",
        "run_id": "1e619705-f6b3-41e0-9f86-ae4bf5392e8d",
        "run_name": "",
        "run_uuid": "1e619705-f6b3-41e0-9f86-ae4bf5392e8d",
        "start_time": 1723135799,
        "status": "FINISHED",
        "user_id": "7ebfac85-3ebb-440f-a743-e52052051f6a"
       },
       "inputs": {
        "dataset_inputs": []
       }
      }
     },
     "metadata": {},
     "output_type": "display_data"
    },
    {
     "data": {
      "application/vnd.mlflow.run-widget+json": {
       "data": {
        "metrics": {
         "avg_accuracy": 0.8178489145723231,
         "std_accuracy": 0.05202032669118079
        },
        "params": {
         "bootstrap": "True",
         "cacheNodeIds": "False",
         "checkpointInterval": "10",
         "featureSubsetStrategy": "auto",
         "featuresCol": "features",
         "impurity": "gini",
         "labelCol": "label",
         "leafCol": "",
         "maxBins": "32",
         "maxDepth": "16",
         "maxMemoryInMB": "256",
         "minInfoGain": "0.0",
         "minInstancesPerNode": "16",
         "minWeightFractionPerNode": "0.0",
         "numTrees": "20",
         "predictionCol": "prediction",
         "probabilityCol": "probability",
         "rawPredictionCol": "rawPrediction",
         "seed": "1",
         "subsamplingRate": "1.0"
        },
        "tags": {
         "estimator_class": "pyspark.ml.classification.RandomForestClassifier",
         "estimator_name": "RandomForestClassifier",
         "mlflow.autologging": "pyspark.ml",
         "mlflow.parentRunId": "017f721c-2ad3-4940-bed5-a6aba8d9d713",
         "mlflow.rootRunId": "017f721c-2ad3-4940-bed5-a6aba8d9d713",
         "mlflow.runName": "bright_tomato_h6d71ht6",
         "mlflow.user": "4b3a56ea-6f42-450e-b7c3-fb2932c7ac32",
         "synapseml.experiment.artifactId": "def0e41b-bf2a-4c5c-8970-7f8f29d2e61c",
         "synapseml.experimentName": "experiment-pt-need-for-rehab",
         "synapseml.livy.id": "f8972434-73df-4ded-b1a2-609fbbc233f6",
         "synapseml.notebook.artifactId": "1f319080-0c8b-41ec-bd3a-1ac600f02c7b",
         "synapseml.user.id": "5ceefbea-2f12-43ef-82e1-44dd8fc7ee0b",
         "synapseml.user.name": "atnip1"
        }
       },
       "info": {
        "artifact_uri": "sds://onelakewestus.pbidedicated.windows.net/8ee4903a-6e90-4510-b3c2-424d07933817/def0e41b-bf2a-4c5c-8970-7f8f29d2e61c/1a1085d8-4580-452d-a569-99b2bb5f6017/artifacts",
        "end_time": 1723136004,
        "experiment_id": "c75cf239-8e7d-4523-abcb-9b0e7ded18d0",
        "lifecycle_stage": "active",
        "run_id": "1a1085d8-4580-452d-a569-99b2bb5f6017",
        "run_name": "",
        "run_uuid": "1a1085d8-4580-452d-a569-99b2bb5f6017",
        "start_time": 1723135799,
        "status": "FINISHED",
        "user_id": "7ebfac85-3ebb-440f-a743-e52052051f6a"
       },
       "inputs": {
        "dataset_inputs": []
       }
      }
     },
     "metadata": {},
     "output_type": "display_data"
    },
    {
     "data": {
      "application/vnd.mlflow.run-widget+json": {
       "data": {
        "metrics": {
         "avg_accuracy": 0.8041540415341786,
         "std_accuracy": 0.049819809608229064
        },
        "params": {
         "bootstrap": "True",
         "cacheNodeIds": "False",
         "checkpointInterval": "10",
         "featureSubsetStrategy": "auto",
         "featuresCol": "features",
         "impurity": "gini",
         "labelCol": "label",
         "leafCol": "",
         "maxBins": "32",
         "maxDepth": "16",
         "maxMemoryInMB": "256",
         "minInfoGain": "0.0",
         "minInstancesPerNode": "32",
         "minWeightFractionPerNode": "0.0",
         "numTrees": "20",
         "predictionCol": "prediction",
         "probabilityCol": "probability",
         "rawPredictionCol": "rawPrediction",
         "seed": "1",
         "subsamplingRate": "1.0"
        },
        "tags": {
         "estimator_class": "pyspark.ml.classification.RandomForestClassifier",
         "estimator_name": "RandomForestClassifier",
         "mlflow.autologging": "pyspark.ml",
         "mlflow.parentRunId": "017f721c-2ad3-4940-bed5-a6aba8d9d713",
         "mlflow.rootRunId": "017f721c-2ad3-4940-bed5-a6aba8d9d713",
         "mlflow.runName": "teal_library_z9s81r79",
         "mlflow.user": "4b3a56ea-6f42-450e-b7c3-fb2932c7ac32",
         "synapseml.experiment.artifactId": "def0e41b-bf2a-4c5c-8970-7f8f29d2e61c",
         "synapseml.experimentName": "experiment-pt-need-for-rehab",
         "synapseml.livy.id": "f8972434-73df-4ded-b1a2-609fbbc233f6",
         "synapseml.notebook.artifactId": "1f319080-0c8b-41ec-bd3a-1ac600f02c7b",
         "synapseml.user.id": "5ceefbea-2f12-43ef-82e1-44dd8fc7ee0b",
         "synapseml.user.name": "atnip1"
        }
       },
       "info": {
        "artifact_uri": "sds://onelakewestus.pbidedicated.windows.net/8ee4903a-6e90-4510-b3c2-424d07933817/def0e41b-bf2a-4c5c-8970-7f8f29d2e61c/4be671c0-2ce6-4c35-affe-1f4e5d2b3dcd/artifacts",
        "end_time": 1723136006,
        "experiment_id": "c75cf239-8e7d-4523-abcb-9b0e7ded18d0",
        "lifecycle_stage": "active",
        "run_id": "4be671c0-2ce6-4c35-affe-1f4e5d2b3dcd",
        "run_name": "",
        "run_uuid": "4be671c0-2ce6-4c35-affe-1f4e5d2b3dcd",
        "start_time": 1723135799,
        "status": "FINISHED",
        "user_id": "7ebfac85-3ebb-440f-a743-e52052051f6a"
       },
       "inputs": {
        "dataset_inputs": []
       }
      }
     },
     "metadata": {},
     "output_type": "display_data"
    },
    {
     "data": {
      "application/vnd.mlflow.run-widget+json": {
       "data": {
        "metrics": {},
        "params": {
         "MulticlassClassificationEvaluator.beta": "1.0",
         "MulticlassClassificationEvaluator.eps": "1e-15",
         "MulticlassClassificationEvaluator.labelCol": "label",
         "MulticlassClassificationEvaluator.metricLabel": "0.0",
         "MulticlassClassificationEvaluator.metricName": "accuracy",
         "MulticlassClassificationEvaluator.predictionCol": "prediction",
         "MulticlassClassificationEvaluator.probabilityCol": "probability",
         "best_RandomForestClassifier.maxDepth": "6",
         "best_RandomForestClassifier.minInstancesPerNode": "8",
         "collectSubModels": "False",
         "estimator": "RandomForestClassifier",
         "evaluator": "MulticlassClassificationEvaluator",
         "foldCol": "",
         "numFolds": "10",
         "parallelism": "6",
         "seed": "1"
        },
        "tags": {
         "estimator_class": "pyspark.ml.tuning.CrossValidator",
         "estimator_name": "CrossValidator",
         "mlflow.autologging": "pyspark.ml",
         "mlflow.rootRunId": "017f721c-2ad3-4940-bed5-a6aba8d9d713",
         "mlflow.runName": "sincere_cup_q26pljd2",
         "mlflow.user": "4b3a56ea-6f42-450e-b7c3-fb2932c7ac32",
         "synapseml.experiment.artifactId": "def0e41b-bf2a-4c5c-8970-7f8f29d2e61c",
         "synapseml.experimentName": "experiment-pt-need-for-rehab",
         "synapseml.livy.id": "f8972434-73df-4ded-b1a2-609fbbc233f6",
         "synapseml.notebook.artifactId": "1f319080-0c8b-41ec-bd3a-1ac600f02c7b",
         "synapseml.user.id": "5ceefbea-2f12-43ef-82e1-44dd8fc7ee0b",
         "synapseml.user.name": "atnip1"
        }
       },
       "info": {
        "artifact_uri": "sds://onelakewestus.pbidedicated.windows.net/8ee4903a-6e90-4510-b3c2-424d07933817/def0e41b-bf2a-4c5c-8970-7f8f29d2e61c/017f721c-2ad3-4940-bed5-a6aba8d9d713/artifacts",
        "end_time": 1723136035,
        "experiment_id": "c75cf239-8e7d-4523-abcb-9b0e7ded18d0",
        "lifecycle_stage": "active",
        "run_id": "017f721c-2ad3-4940-bed5-a6aba8d9d713",
        "run_name": "",
        "run_uuid": "017f721c-2ad3-4940-bed5-a6aba8d9d713",
        "start_time": 1723135799,
        "status": "FINISHED",
        "user_id": "7ebfac85-3ebb-440f-a743-e52052051f6a"
       },
       "inputs": {
        "dataset_inputs": []
       }
      }
     },
     "metadata": {},
     "output_type": "display_data"
    },
    {
     "name": "stdout",
     "output_type": "stream",
     "text": [
      "Max CV Score:   0.8288\n",
      "Optimal Depth:   6\n",
      "Optimal MinInst: 8\n"
     ]
    }
   ],
   "source": [
    "rforest = RandomForestClassifier(featuresCol='features', labelCol='label', numTrees=20, seed=1)\n",
    " \n",
    "param_grid = (ParamGridBuilder()\n",
    "              .addGrid(rforest.maxDepth, range(2, 18, 2) )\n",
    "              .addGrid(rforest.minInstancesPerNode, [4, 8, 16, 32])\n",
    "              ).build()\n",
    " \n",
    "cv = CrossValidator(estimator=rforest, estimatorParamMaps=param_grid, numFolds=10, \n",
    "                    evaluator=accuracy_eval, seed=1, parallelism=6)\n",
    " \n",
    "cv_model = cv.fit(train)\n",
    "\n",
    "opt_rf_model = cv_model.bestModel\n",
    "opt_maxDepth = opt_rf_model.getMaxDepth()\n",
    "opt_minInstancesPerNode = opt_rf_model.getMinInstancesPerNode()\n",
    "\n",
    "# mlflow.sklearn.log_model(opt_rf_model, \"random forest model\", signature = signature)\n",
    "\n",
    "print('Max CV Score:  ', round(max(cv_model.avgMetrics),4))\n",
    "print('Optimal Depth:  ', opt_maxDepth)\n",
    "print('Optimal MinInst:', opt_minInstancesPerNode)"
   ]
  },
  {
   "cell_type": "code",
   "execution_count": 12,
   "id": "8f2c3f52-ef43-4654-a864-521f0864cd0d",
   "metadata": {
    "microsoft": {
     "language": "python",
     "language_group": "synapse_pyspark"
    }
   },
   "outputs": [
    {
     "data": {
      "application/vnd.livy.statement-meta+json": {
       "execution_finish_time": "2024-08-08T16:54:25.1109112Z",
       "execution_start_time": "2024-08-08T16:54:24.23414Z",
       "livy_statement_state": "available",
       "normalized_state": "finished",
       "parent_msg_id": "77940338-9daa-4b24-923a-d59b2d4ca51c",
       "queued_time": "2024-08-08T16:49:01.8565957Z",
       "session_id": "f8972434-73df-4ded-b1a2-609fbbc233f6",
       "session_start_time": null,
       "spark_pool": null,
       "state": "finished",
       "statement_id": 14,
       "statement_ids": [
        14
       ]
      },
      "text/plain": [
       "StatementMeta(, f8972434-73df-4ded-b1a2-609fbbc233f6, 14, Finished, Available, Finished)"
      ]
     },
     "metadata": {},
     "output_type": "display_data"
    },
    {
     "data": {
      "image/png": "[encoded data removed]",
      "text/plain": [
       "<Figure size 640x480 with 1 Axes>"
      ]
     },
     "metadata": {},
     "output_type": "display_data"
    }
   ],
   "source": [
    "import matplotlib.pyplot as plt\n",
    "def graph_params(model): \n",
    "    model_params = model.getEstimatorParamMaps()\n",
    "    dt_cv_summary_list = []\n",
    "    for param_set, acc in zip(model_params, model.avgMetrics):\n",
    "        new_set = list(param_set.values()) + [acc]\n",
    "        dt_cv_summary_list.append(new_set)\n",
    "    cv_summary = pd.DataFrame(dt_cv_summary_list,\n",
    "                                columns=['maxDepth', 'minInst', 'acc'])\n",
    "    for mi in cv_summary.minInst.unique():\n",
    "        sel = cv_summary.minInst == mi\n",
    "        plt.plot(cv_summary.maxDepth[sel], cv_summary.acc[sel], label=mi)\n",
    "        plt.scatter(cv_summary.maxDepth[sel], cv_summary.acc[sel])\n",
    "    plt.legend()\n",
    "    plt.grid()\n",
    "    plt.xticks(range(4,26,2))\n",
    "    plt.xlabel('Max Depth')\n",
    "    plt.ylabel('Cross-Validation Score')\n",
    "    plt.show()\n",
    "\n",
    "graph_params(cv_model)"
   ]
  },
  {
   "cell_type": "code",
   "execution_count": 13,
   "id": "8ad1e5f0-ca8c-4fb7-9595-7b16f7706984",
   "metadata": {
    "microsoft": {
     "language": "python",
     "language_group": "synapse_pyspark"
    }
   },
   "outputs": [
    {
     "data": {
      "application/vnd.livy.statement-meta+json": {
       "execution_finish_time": "2024-08-08T16:54:30.811885Z",
       "execution_start_time": "2024-08-08T16:54:25.6485706Z",
       "livy_statement_state": "available",
       "normalized_state": "finished",
       "parent_msg_id": "63116ac9-f2de-4dcd-911b-6a39325a9a56",
       "queued_time": "2024-08-08T16:49:01.9070306Z",
       "session_id": "f8972434-73df-4ded-b1a2-609fbbc233f6",
       "session_start_time": null,
       "spark_pool": null,
       "state": "finished",
       "statement_id": 15,
       "statement_ids": [
        15
       ]
      },
      "text/plain": [
       "StatementMeta(, f8972434-73df-4ded-b1a2-609fbbc233f6, 15, Finished, Available, Finished)"
      ]
     },
     "metadata": {},
     "output_type": "display_data"
    },
    {
     "name": "stdout",
     "output_type": "stream",
     "text": [
      "+----------+-----+----+\n",
      "|need_rehab|count|prop|\n",
      "+----------+-----+----+\n",
      "|         1|  110|0.52|\n",
      "|         0|  101|0.48|\n",
      "+----------+-----+----+\n",
      "\n",
      "None\n",
      "Model Accuracy: 0.8151658767772512\n",
      "    0   1\n",
      "0  94  16\n",
      "1  23  78\n"
     ]
    },
    {
     "name": "stderr",
     "output_type": "stream",
     "text": [
      "/opt/spark/python/lib/pyspark.zip/pyspark/sql/context.py:157: FutureWarning: Deprecated in 3.0.0. Use SparkSession.builder.getOrCreate() instead.\n"
     ]
    }
   ],
   "source": [
    "from pyspark.mllib.evaluation import MulticlassMetrics\n",
    "def count_proportions(test_predictions):\n",
    "    N = test_predictions.count()\n",
    "    df = test_predictions.select('need_rehab').groupBy('need_rehab').agg(\n",
    "        expr('count(*) as count'), \n",
    "        expr(f'round(count(*)/{N},2) as prop')\n",
    "    ).show()\n",
    "    \n",
    "    return df\n",
    "def model_accuracy(model, test_set):\n",
    "    test_pred = model.transform(test_set)\n",
    "    pred_and_labels = test_pred.rdd.map(lambda x:(x['prediction'],float(x['label'])))\n",
    "    metrics = MulticlassMetrics(pred_and_labels)\n",
    "    \n",
    "    return metrics.accuracy\n",
    "\n",
    "def model_cm(model, test_set):\n",
    "    test_pred = model.transform(test_set)\n",
    "    pred_and_labels = test_pred.rdd.map(lambda x:(x['prediction'],float(x['label'])))\n",
    "    metrics = MulticlassMetrics(pred_and_labels)\n",
    "    cm = metrics.confusionMatrix().toArray().astype(int)\n",
    "    labels = range(0,2)\n",
    "    matrix = pd.DataFrame(\n",
    "        data=cm, \n",
    "        columns=labels,\n",
    "        index=labels\n",
    "    )\n",
    "    return matrix\n",
    "\n",
    "\n",
    "print(count_proportions(opt_rf_model.transform(test)))\n",
    "\n",
    "print(f'Model Accuracy: {model_accuracy(opt_rf_model, test)}')\n",
    "print(model_cm(opt_rf_model, test))"
   ]
  },
  {
   "cell_type": "code",
   "execution_count": 14,
   "id": "f597319d-bb3f-4217-b196-e617bcaea637",
   "metadata": {
    "microsoft": {
     "language": "python",
     "language_group": "synapse_pyspark"
    }
   },
   "outputs": [
    {
     "data": {
      "application/vnd.livy.statement-meta+json": {
       "execution_finish_time": "2024-08-08T16:54:31.7996888Z",
       "execution_start_time": "2024-08-08T16:54:31.514824Z",
       "livy_statement_state": "available",
       "normalized_state": "finished",
       "parent_msg_id": "db036389-2b42-4837-af06-96968ffc83fb",
       "queued_time": "2024-08-08T16:49:01.9795565Z",
       "session_id": "f8972434-73df-4ded-b1a2-609fbbc233f6",
       "session_start_time": null,
       "spark_pool": null,
       "state": "finished",
       "statement_id": 16,
       "statement_ids": [
        16
       ]
      },
      "text/plain": [
       "StatementMeta(, f8972434-73df-4ded-b1a2-609fbbc233f6, 16, Finished, Available, Finished)"
      ]
     },
     "metadata": {},
     "output_type": "display_data"
    }
   ],
   "source": [
    "def importances(numerical_ft, categorical_ft, model):\n",
    "    ft = numerical_ft+categorical_ft\n",
    "    importance = pd.DataFrame({\n",
    "        'features' : ft\n",
    "    })\n",
    "    importance['importance'] = 0.0\n",
    "    lst = list(model.featureImportances)\n",
    "    \n",
    "    for index, value in enumerate(lst):\n",
    "        importance.loc[index,'importance'] = value\n",
    "    return importance"
   ]
  },
  {
   "cell_type": "code",
   "execution_count": 15,
   "id": "75ae6f70-dd3d-48d9-8e09-5f0117b030ba",
   "metadata": {
    "microsoft": {
     "language": "python",
     "language_group": "synapse_pyspark"
    }
   },
   "outputs": [
    {
     "data": {
      "application/vnd.livy.statement-meta+json": {
       "execution_finish_time": "2024-08-08T16:54:32.6122641Z",
       "execution_start_time": "2024-08-08T16:54:32.3319252Z",
       "livy_statement_state": "available",
       "normalized_state": "finished",
       "parent_msg_id": "4f512283-1415-415d-93ec-af9b67830f2d",
       "queued_time": "2024-08-08T16:49:02.0267884Z",
       "session_id": "f8972434-73df-4ded-b1a2-609fbbc233f6",
       "session_start_time": null,
       "spark_pool": null,
       "state": "finished",
       "statement_id": 17,
       "statement_ids": [
        17
       ]
      },
      "text/plain": [
       "StatementMeta(, f8972434-73df-4ded-b1a2-609fbbc233f6, 17, Finished, Available, Finished)"
      ]
     },
     "metadata": {},
     "output_type": "display_data"
    },
    {
     "data": {
      "text/html": [
       "<div>\n",
       "<style scoped>\n",
       "    .dataframe tbody tr th:only-of-type {\n",
       "        vertical-align: middle;\n",
       "    }\n",
       "\n",
       "    .dataframe tbody tr th {\n",
       "        vertical-align: top;\n",
       "    }\n",
       "\n",
       "    .dataframe thead th {\n",
       "        text-align: right;\n",
       "    }\n",
       "</style>\n",
       "<table border=\"1\" class=\"dataframe\">\n",
       "  <thead>\n",
       "    <tr style=\"text-align: right;\">\n",
       "      <th></th>\n",
       "      <th>features</th>\n",
       "      <th>importance</th>\n",
       "    </tr>\n",
       "  </thead>\n",
       "  <tbody>\n",
       "    <tr>\n",
       "      <th>4</th>\n",
       "      <td>amb_distance</td>\n",
       "      <td>0.495262</td>\n",
       "    </tr>\n",
       "    <tr>\n",
       "      <th>11</th>\n",
       "      <td>prior_loc</td>\n",
       "      <td>0.176761</td>\n",
       "    </tr>\n",
       "    <tr>\n",
       "      <th>7</th>\n",
       "      <td>fusion</td>\n",
       "      <td>0.054348</td>\n",
       "    </tr>\n",
       "    <tr>\n",
       "      <th>3</th>\n",
       "      <td>num_falls</td>\n",
       "      <td>0.037643</td>\n",
       "    </tr>\n",
       "    <tr>\n",
       "      <th>16</th>\n",
       "      <td>stairs_assist</td>\n",
       "      <td>0.033342</td>\n",
       "    </tr>\n",
       "    <tr>\n",
       "      <th>14</th>\n",
       "      <td>sit_stand</td>\n",
       "      <td>0.031838</td>\n",
       "    </tr>\n",
       "    <tr>\n",
       "      <th>8</th>\n",
       "      <td>brace</td>\n",
       "      <td>0.028213</td>\n",
       "    </tr>\n",
       "    <tr>\n",
       "      <th>0</th>\n",
       "      <td>age</td>\n",
       "      <td>0.025492</td>\n",
       "    </tr>\n",
       "    <tr>\n",
       "      <th>12</th>\n",
       "      <td>pain</td>\n",
       "      <td>0.021696</td>\n",
       "    </tr>\n",
       "    <tr>\n",
       "      <th>15</th>\n",
       "      <td>amb_assist</td>\n",
       "      <td>0.020840</td>\n",
       "    </tr>\n",
       "    <tr>\n",
       "      <th>9</th>\n",
       "      <td>provider</td>\n",
       "      <td>0.020252</td>\n",
       "    </tr>\n",
       "    <tr>\n",
       "      <th>13</th>\n",
       "      <td>sup_sit</td>\n",
       "      <td>0.017875</td>\n",
       "    </tr>\n",
       "    <tr>\n",
       "      <th>1</th>\n",
       "      <td>ste</td>\n",
       "      <td>0.015221</td>\n",
       "    </tr>\n",
       "    <tr>\n",
       "      <th>10</th>\n",
       "      <td>ad</td>\n",
       "      <td>0.009679</td>\n",
       "    </tr>\n",
       "    <tr>\n",
       "      <th>2</th>\n",
       "      <td>hr</td>\n",
       "      <td>0.005848</td>\n",
       "    </tr>\n",
       "    <tr>\n",
       "      <th>5</th>\n",
       "      <td>num_stairs</td>\n",
       "      <td>0.003104</td>\n",
       "    </tr>\n",
       "    <tr>\n",
       "      <th>6</th>\n",
       "      <td>sex</td>\n",
       "      <td>0.002585</td>\n",
       "    </tr>\n",
       "  </tbody>\n",
       "</table>\n",
       "</div>"
      ],
      "text/plain": [
       "         features  importance\n",
       "4    amb_distance    0.495262\n",
       "11      prior_loc    0.176761\n",
       "7          fusion    0.054348\n",
       "3       num_falls    0.037643\n",
       "16  stairs_assist    0.033342\n",
       "14      sit_stand    0.031838\n",
       "8           brace    0.028213\n",
       "0             age    0.025492\n",
       "12           pain    0.021696\n",
       "15     amb_assist    0.020840\n",
       "9        provider    0.020252\n",
       "13        sup_sit    0.017875\n",
       "1             ste    0.015221\n",
       "10             ad    0.009679\n",
       "2              hr    0.005848\n",
       "5      num_stairs    0.003104\n",
       "6             sex    0.002585"
      ]
     },
     "execution_count": 50,
     "metadata": {},
     "output_type": "execute_result"
    }
   ],
   "source": [
    "importances(num_features, cat_features, opt_rf_model).sort_values('importance', ascending = False)"
   ]
  },
  {
   "cell_type": "markdown",
   "id": "6c5cd7aa-79d4-4b3b-a98b-840804362a71",
   "metadata": {},
   "source": [
    "It is important to remember that much of the data is completely random and almost nonsensical currently. We can predict that this will reduce importances of items we did not include in our assumptions when producing the random data. We can, however, see that ambulation distance as well as prior level of function have significant importances greater than the other features.\n",
    "\n",
    "Let's reduce the number of features to see if we can create a stronger model."
   ]
  },
  {
   "cell_type": "code",
   "execution_count": 16,
   "id": "f2225d4b-b909-46b1-a70e-60b56b08a690",
   "metadata": {
    "microsoft": {
     "language": "python",
     "language_group": "synapse_pyspark"
    }
   },
   "outputs": [
    {
     "data": {
      "application/vnd.livy.statement-meta+json": {
       "execution_finish_time": "2024-08-08T16:54:33.5877532Z",
       "execution_start_time": "2024-08-08T16:54:33.1927716Z",
       "livy_statement_state": "available",
       "normalized_state": "finished",
       "parent_msg_id": "d94bb048-b875-4571-a54b-5684adb8d875",
       "queued_time": "2024-08-08T16:49:02.1175863Z",
       "session_id": "f8972434-73df-4ded-b1a2-609fbbc233f6",
       "session_start_time": null,
       "spark_pool": null,
       "state": "finished",
       "statement_id": 18,
       "statement_ids": [
        18
       ]
      },
      "text/plain": [
       "StatementMeta(, f8972434-73df-4ded-b1a2-609fbbc233f6, 18, Finished, Available, Finished)"
      ]
     },
     "metadata": {},
     "output_type": "display_data"
    }
   ],
   "source": [
    "spark_df_reduced = spark_df.select('num_falls', 'amb_distance', 'fusion', 'prior_loc', 'pain', 'need_rehab')\n",
    "\n",
    "cat_features_reduced = ['fusion', 'prior_loc', 'pain']\n",
    "num_features_reduced = ['num_falls', 'amb_distance']\n",
    "\n",
    "ix_features_reduced = [c + '_ix' for c in cat_features_reduced]\n",
    " \n",
    "label_indexer = StringIndexer(inputCol='need_rehab', outputCol='label')\n",
    " \n",
    "feature_indexer = StringIndexer(inputCols=cat_features_reduced, outputCols=ix_features_reduced)\n",
    " \n",
    "assembler = VectorAssembler(inputCols=num_features_reduced + ix_features_reduced, outputCol='features')\n",
    "\n"
   ]
  },
  {
   "cell_type": "code",
   "execution_count": 17,
   "id": "292b1d9b-b5d1-4f08-883f-6488015f1349",
   "metadata": {
    "microsoft": {
     "language": "python",
     "language_group": "synapse_pyspark"
    }
   },
   "outputs": [
    {
     "data": {
      "application/vnd.livy.statement-meta+json": {
       "execution_finish_time": "2024-08-08T16:58:21.3792426Z",
       "execution_start_time": "2024-08-08T16:54:34.1287133Z",
       "livy_statement_state": "available",
       "normalized_state": "finished",
       "parent_msg_id": "eb544c14-aa7c-431f-8e98-11b1e33ac1bc",
       "queued_time": "2024-08-08T16:49:02.1481438Z",
       "session_id": "f8972434-73df-4ded-b1a2-609fbbc233f6",
       "session_start_time": null,
       "spark_pool": null,
       "state": "finished",
       "statement_id": 19,
       "statement_ids": [
        19
       ]
      },
      "text/plain": [
       "StatementMeta(, f8972434-73df-4ded-b1a2-609fbbc233f6, 19, Finished, Available, Finished)"
      ]
     },
     "metadata": {},
     "output_type": "display_data"
    },
    {
     "name": "stderr",
     "output_type": "stream",
     "text": [
      "2024-08-08:16:54:35,613 WARNING  [tracking_store.py:153] log_inputs not supported\n"
     ]
    },
    {
     "data": {
      "application/vnd.mlflow.run-widget+json": {
       "data": {
        "metrics": {},
        "params": {
         "StringIndexer_1.handleInvalid": "error",
         "StringIndexer_1.inputCol": "need_rehab",
         "StringIndexer_1.outputCol": "label",
         "StringIndexer_1.stringOrderType": "frequencyDesc",
         "StringIndexer_2.handleInvalid": "error",
         "StringIndexer_2.inputCols": "['fusion', 'prior_loc', 'pain']",
         "StringIndexer_2.outputCol": "StringIndexer_fa3270f2985e__output",
         "StringIndexer_2.outputCols": "['fusion_ix', 'prior_loc_ix', 'pain_ix']",
         "StringIndexer_2.stringOrderType": "frequencyDesc",
         "VectorAssembler.handleInvalid": "error",
         "VectorAssembler.inputCols": "['num_falls', 'amb_distance', 'fusion_ix', 'prior_loc_ix', 'pain_ix']",
         "VectorAssembler.outputCol": "features",
         "stages": "['StringIndexer_1', 'StringIndexer_2', 'VectorAssembler']"
        },
        "tags": {
         "estimator_class": "pyspark.ml.pipeline.Pipeline",
         "estimator_name": "Pipeline",
         "mlflow.autologging": "pyspark.ml",
         "mlflow.rootRunId": "5750d3c5-76bd-4847-bed4-62354fcbfd92",
         "mlflow.runName": "red_fowl_0d0t8nbp",
         "mlflow.user": "4b3a56ea-6f42-450e-b7c3-fb2932c7ac32",
         "synapseml.experiment.artifactId": "def0e41b-bf2a-4c5c-8970-7f8f29d2e61c",
         "synapseml.experimentName": "experiment-pt-need-for-rehab",
         "synapseml.livy.id": "f8972434-73df-4ded-b1a2-609fbbc233f6",
         "synapseml.notebook.artifactId": "1f319080-0c8b-41ec-bd3a-1ac600f02c7b",
         "synapseml.user.id": "5ceefbea-2f12-43ef-82e1-44dd8fc7ee0b",
         "synapseml.user.name": "atnip1"
        }
       },
       "info": {
        "artifact_uri": "sds://onelakewestus.pbidedicated.windows.net/8ee4903a-6e90-4510-b3c2-424d07933817/def0e41b-bf2a-4c5c-8970-7f8f29d2e61c/5750d3c5-76bd-4847-bed4-62354fcbfd92/artifacts",
        "end_time": 1723136090,
        "experiment_id": "c75cf239-8e7d-4523-abcb-9b0e7ded18d0",
        "lifecycle_stage": "active",
        "run_id": "5750d3c5-76bd-4847-bed4-62354fcbfd92",
        "run_name": "",
        "run_uuid": "5750d3c5-76bd-4847-bed4-62354fcbfd92",
        "start_time": 1723136074,
        "status": "FINISHED",
        "user_id": "7ebfac85-3ebb-440f-a743-e52052051f6a"
       },
       "inputs": {
        "dataset_inputs": []
       }
      }
     },
     "metadata": {},
     "output_type": "display_data"
    },
    {
     "name": "stderr",
     "output_type": "stream",
     "text": [
      "2024-08-08:16:54:51,897 WARNING  [tracking_store.py:153] log_inputs not supported\n"
     ]
    },
    {
     "data": {
      "application/vnd.mlflow.run-widget+json": {
       "data": {
        "metrics": {
         "avg_accuracy": 0.8056167279918288,
         "std_accuracy": 0.051054492064012136
        },
        "params": {
         "bootstrap": "True",
         "cacheNodeIds": "False",
         "checkpointInterval": "10",
         "featureSubsetStrategy": "auto",
         "featuresCol": "features",
         "impurity": "gini",
         "labelCol": "label",
         "leafCol": "",
         "maxBins": "32",
         "maxDepth": "2",
         "maxMemoryInMB": "256",
         "minInfoGain": "0.0",
         "minInstancesPerNode": "4",
         "minWeightFractionPerNode": "0.0",
         "numTrees": "20",
         "predictionCol": "prediction",
         "probabilityCol": "probability",
         "rawPredictionCol": "rawPrediction",
         "seed": "1",
         "subsamplingRate": "1.0"
        },
        "tags": {
         "estimator_class": "pyspark.ml.classification.RandomForestClassifier",
         "estimator_name": "RandomForestClassifier",
         "mlflow.autologging": "pyspark.ml",
         "mlflow.parentRunId": "4727684e-7f57-4b47-809a-c23b68bd145d",
         "mlflow.rootRunId": "4727684e-7f57-4b47-809a-c23b68bd145d",
         "mlflow.runName": "epic_hook_xyxxtxx9",
         "mlflow.user": "4b3a56ea-6f42-450e-b7c3-fb2932c7ac32",
         "synapseml.experiment.artifactId": "def0e41b-bf2a-4c5c-8970-7f8f29d2e61c",
         "synapseml.experimentName": "experiment-pt-need-for-rehab",
         "synapseml.livy.id": "f8972434-73df-4ded-b1a2-609fbbc233f6",
         "synapseml.notebook.artifactId": "1f319080-0c8b-41ec-bd3a-1ac600f02c7b",
         "synapseml.user.id": "5ceefbea-2f12-43ef-82e1-44dd8fc7ee0b",
         "synapseml.user.name": "atnip1"
        }
       },
       "info": {
        "artifact_uri": "sds://onelakewestus.pbidedicated.windows.net/8ee4903a-6e90-4510-b3c2-424d07933817/def0e41b-bf2a-4c5c-8970-7f8f29d2e61c/30e42681-c4f2-4827-bb69-72b3fd1dd1f4/artifacts",
        "end_time": 1723136214,
        "experiment_id": "c75cf239-8e7d-4523-abcb-9b0e7ded18d0",
        "lifecycle_stage": "active",
        "run_id": "30e42681-c4f2-4827-bb69-72b3fd1dd1f4",
        "run_name": "",
        "run_uuid": "30e42681-c4f2-4827-bb69-72b3fd1dd1f4",
        "start_time": 1723136090,
        "status": "FINISHED",
        "user_id": "7ebfac85-3ebb-440f-a743-e52052051f6a"
       },
       "inputs": {
        "dataset_inputs": []
       }
      }
     },
     "metadata": {},
     "output_type": "display_data"
    },
    {
     "data": {
      "application/vnd.mlflow.run-widget+json": {
       "data": {
        "metrics": {
         "avg_accuracy": 0.8017050374363027,
         "std_accuracy": 0.051207241610748015
        },
        "params": {
         "bootstrap": "True",
         "cacheNodeIds": "False",
         "checkpointInterval": "10",
         "featureSubsetStrategy": "auto",
         "featuresCol": "features",
         "impurity": "gini",
         "labelCol": "label",
         "leafCol": "",
         "maxBins": "32",
         "maxDepth": "2",
         "maxMemoryInMB": "256",
         "minInfoGain": "0.0",
         "minInstancesPerNode": "8",
         "minWeightFractionPerNode": "0.0",
         "numTrees": "20",
         "predictionCol": "prediction",
         "probabilityCol": "probability",
         "rawPredictionCol": "rawPrediction",
         "seed": "1",
         "subsamplingRate": "1.0"
        },
        "tags": {
         "estimator_class": "pyspark.ml.classification.RandomForestClassifier",
         "estimator_name": "RandomForestClassifier",
         "mlflow.autologging": "pyspark.ml",
         "mlflow.parentRunId": "4727684e-7f57-4b47-809a-c23b68bd145d",
         "mlflow.rootRunId": "4727684e-7f57-4b47-809a-c23b68bd145d",
         "mlflow.runName": "boring_chin_0qj89lmg",
         "mlflow.user": "4b3a56ea-6f42-450e-b7c3-fb2932c7ac32",
         "synapseml.experiment.artifactId": "def0e41b-bf2a-4c5c-8970-7f8f29d2e61c",
         "synapseml.experimentName": "experiment-pt-need-for-rehab",
         "synapseml.livy.id": "f8972434-73df-4ded-b1a2-609fbbc233f6",
         "synapseml.notebook.artifactId": "1f319080-0c8b-41ec-bd3a-1ac600f02c7b",
         "synapseml.user.id": "5ceefbea-2f12-43ef-82e1-44dd8fc7ee0b",
         "synapseml.user.name": "atnip1"
        }
       },
       "info": {
        "artifact_uri": "sds://onelakewestus.pbidedicated.windows.net/8ee4903a-6e90-4510-b3c2-424d07933817/def0e41b-bf2a-4c5c-8970-7f8f29d2e61c/09fa548e-8ace-493c-8d24-8dc54cbdc832/artifacts",
        "end_time": 1723136216,
        "experiment_id": "c75cf239-8e7d-4523-abcb-9b0e7ded18d0",
        "lifecycle_stage": "active",
        "run_id": "09fa548e-8ace-493c-8d24-8dc54cbdc832",
        "run_name": "",
        "run_uuid": "09fa548e-8ace-493c-8d24-8dc54cbdc832",
        "start_time": 1723136090,
        "status": "FINISHED",
        "user_id": "7ebfac85-3ebb-440f-a743-e52052051f6a"
       },
       "inputs": {
        "dataset_inputs": []
       }
      }
     },
     "metadata": {},
     "output_type": "display_data"
    },
    {
     "data": {
      "application/vnd.mlflow.run-widget+json": {
       "data": {
        "metrics": {
         "avg_accuracy": 0.8017050374363027,
         "std_accuracy": 0.051207241610748015
        },
        "params": {
         "bootstrap": "True",
         "cacheNodeIds": "False",
         "checkpointInterval": "10",
         "featureSubsetStrategy": "auto",
         "featuresCol": "features",
         "impurity": "gini",
         "labelCol": "label",
         "leafCol": "",
         "maxBins": "32",
         "maxDepth": "2",
         "maxMemoryInMB": "256",
         "minInfoGain": "0.0",
         "minInstancesPerNode": "16",
         "minWeightFractionPerNode": "0.0",
         "numTrees": "20",
         "predictionCol": "prediction",
         "probabilityCol": "probability",
         "rawPredictionCol": "rawPrediction",
         "seed": "1",
         "subsamplingRate": "1.0"
        },
        "tags": {
         "estimator_class": "pyspark.ml.classification.RandomForestClassifier",
         "estimator_name": "RandomForestClassifier",
         "mlflow.autologging": "pyspark.ml",
         "mlflow.parentRunId": "4727684e-7f57-4b47-809a-c23b68bd145d",
         "mlflow.rootRunId": "4727684e-7f57-4b47-809a-c23b68bd145d",
         "mlflow.runName": "amiable_endive_hgshgvgd",
         "mlflow.user": "4b3a56ea-6f42-450e-b7c3-fb2932c7ac32",
         "synapseml.experiment.artifactId": "def0e41b-bf2a-4c5c-8970-7f8f29d2e61c",
         "synapseml.experimentName": "experiment-pt-need-for-rehab",
         "synapseml.livy.id": "f8972434-73df-4ded-b1a2-609fbbc233f6",
         "synapseml.notebook.artifactId": "1f319080-0c8b-41ec-bd3a-1ac600f02c7b",
         "synapseml.user.id": "5ceefbea-2f12-43ef-82e1-44dd8fc7ee0b",
         "synapseml.user.name": "atnip1"
        }
       },
       "info": {
        "artifact_uri": "sds://onelakewestus.pbidedicated.windows.net/8ee4903a-6e90-4510-b3c2-424d07933817/def0e41b-bf2a-4c5c-8970-7f8f29d2e61c/07d377cb-9b74-4268-b86e-c8add30ec569/artifacts",
        "end_time": 1723136218,
        "experiment_id": "c75cf239-8e7d-4523-abcb-9b0e7ded18d0",
        "lifecycle_stage": "active",
        "run_id": "07d377cb-9b74-4268-b86e-c8add30ec569",
        "run_name": "",
        "run_uuid": "07d377cb-9b74-4268-b86e-c8add30ec569",
        "start_time": 1723136090,
        "status": "FINISHED",
        "user_id": "7ebfac85-3ebb-440f-a743-e52052051f6a"
       },
       "inputs": {
        "dataset_inputs": []
       }
      }
     },
     "metadata": {},
     "output_type": "display_data"
    },
    {
     "data": {
      "application/vnd.mlflow.run-widget+json": {
       "data": {
        "metrics": {
         "avg_accuracy": 0.7941322449320032,
         "std_accuracy": 0.05010273895982411
        },
        "params": {
         "bootstrap": "True",
         "cacheNodeIds": "False",
         "checkpointInterval": "10",
         "featureSubsetStrategy": "auto",
         "featuresCol": "features",
         "impurity": "gini",
         "labelCol": "label",
         "leafCol": "",
         "maxBins": "32",
         "maxDepth": "2",
         "maxMemoryInMB": "256",
         "minInfoGain": "0.0",
         "minInstancesPerNode": "32",
         "minWeightFractionPerNode": "0.0",
         "numTrees": "20",
         "predictionCol": "prediction",
         "probabilityCol": "probability",
         "rawPredictionCol": "rawPrediction",
         "seed": "1",
         "subsamplingRate": "1.0"
        },
        "tags": {
         "estimator_class": "pyspark.ml.classification.RandomForestClassifier",
         "estimator_name": "RandomForestClassifier",
         "mlflow.autologging": "pyspark.ml",
         "mlflow.parentRunId": "4727684e-7f57-4b47-809a-c23b68bd145d",
         "mlflow.rootRunId": "4727684e-7f57-4b47-809a-c23b68bd145d",
         "mlflow.runName": "keen_rose_c1yx7qnx",
         "mlflow.user": "4b3a56ea-6f42-450e-b7c3-fb2932c7ac32",
         "synapseml.experiment.artifactId": "def0e41b-bf2a-4c5c-8970-7f8f29d2e61c",
         "synapseml.experimentName": "experiment-pt-need-for-rehab",
         "synapseml.livy.id": "f8972434-73df-4ded-b1a2-609fbbc233f6",
         "synapseml.notebook.artifactId": "1f319080-0c8b-41ec-bd3a-1ac600f02c7b",
         "synapseml.user.id": "5ceefbea-2f12-43ef-82e1-44dd8fc7ee0b",
         "synapseml.user.name": "atnip1"
        }
       },
       "info": {
        "artifact_uri": "sds://onelakewestus.pbidedicated.windows.net/8ee4903a-6e90-4510-b3c2-424d07933817/def0e41b-bf2a-4c5c-8970-7f8f29d2e61c/58586b01-d1e3-4876-8da0-c2716b9b3a13/artifacts",
        "end_time": 1723136220,
        "experiment_id": "c75cf239-8e7d-4523-abcb-9b0e7ded18d0",
        "lifecycle_stage": "active",
        "run_id": "58586b01-d1e3-4876-8da0-c2716b9b3a13",
        "run_name": "",
        "run_uuid": "58586b01-d1e3-4876-8da0-c2716b9b3a13",
        "start_time": 1723136090,
        "status": "FINISHED",
        "user_id": "7ebfac85-3ebb-440f-a743-e52052051f6a"
       },
       "inputs": {
        "dataset_inputs": []
       }
      }
     },
     "metadata": {},
     "output_type": "display_data"
    },
    {
     "data": {
      "application/vnd.mlflow.run-widget+json": {
       "data": {
        "metrics": {
         "avg_accuracy": 0.8310343628212282,
         "std_accuracy": 0.04476856193084333
        },
        "params": {
         "bootstrap": "True",
         "cacheNodeIds": "False",
         "checkpointInterval": "10",
         "featureSubsetStrategy": "auto",
         "featuresCol": "features",
         "impurity": "gini",
         "labelCol": "label",
         "leafCol": "",
         "maxBins": "32",
         "maxDepth": "4",
         "maxMemoryInMB": "256",
         "minInfoGain": "0.0",
         "minInstancesPerNode": "4",
         "minWeightFractionPerNode": "0.0",
         "numTrees": "20",
         "predictionCol": "prediction",
         "probabilityCol": "probability",
         "rawPredictionCol": "rawPrediction",
         "seed": "1",
         "subsamplingRate": "1.0"
        },
        "tags": {
         "estimator_class": "pyspark.ml.classification.RandomForestClassifier",
         "estimator_name": "RandomForestClassifier",
         "mlflow.autologging": "pyspark.ml",
         "mlflow.parentRunId": "4727684e-7f57-4b47-809a-c23b68bd145d",
         "mlflow.rootRunId": "4727684e-7f57-4b47-809a-c23b68bd145d",
         "mlflow.runName": "hungry_fig_cm58hkr0",
         "mlflow.user": "4b3a56ea-6f42-450e-b7c3-fb2932c7ac32",
         "synapseml.experiment.artifactId": "def0e41b-bf2a-4c5c-8970-7f8f29d2e61c",
         "synapseml.experimentName": "experiment-pt-need-for-rehab",
         "synapseml.livy.id": "f8972434-73df-4ded-b1a2-609fbbc233f6",
         "synapseml.notebook.artifactId": "1f319080-0c8b-41ec-bd3a-1ac600f02c7b",
         "synapseml.user.id": "5ceefbea-2f12-43ef-82e1-44dd8fc7ee0b",
         "synapseml.user.name": "atnip1"
        }
       },
       "info": {
        "artifact_uri": "sds://onelakewestus.pbidedicated.windows.net/8ee4903a-6e90-4510-b3c2-424d07933817/def0e41b-bf2a-4c5c-8970-7f8f29d2e61c/0cb4c744-126c-4b90-ab3a-776633df2c42/artifacts",
        "end_time": 1723136222,
        "experiment_id": "c75cf239-8e7d-4523-abcb-9b0e7ded18d0",
        "lifecycle_stage": "active",
        "run_id": "0cb4c744-126c-4b90-ab3a-776633df2c42",
        "run_name": "",
        "run_uuid": "0cb4c744-126c-4b90-ab3a-776633df2c42",
        "start_time": 1723136090,
        "status": "FINISHED",
        "user_id": "7ebfac85-3ebb-440f-a743-e52052051f6a"
       },
       "inputs": {
        "dataset_inputs": []
       }
      }
     },
     "metadata": {},
     "output_type": "display_data"
    },
    {
     "data": {
      "application/vnd.mlflow.run-widget+json": {
       "data": {
        "metrics": {
         "avg_accuracy": 0.8323857141725796,
         "std_accuracy": 0.045558427007965176
        },
        "params": {
         "bootstrap": "True",
         "cacheNodeIds": "False",
         "checkpointInterval": "10",
         "featureSubsetStrategy": "auto",
         "featuresCol": "features",
         "impurity": "gini",
         "labelCol": "label",
         "leafCol": "",
         "maxBins": "32",
         "maxDepth": "4",
         "maxMemoryInMB": "256",
         "minInfoGain": "0.0",
         "minInstancesPerNode": "8",
         "minWeightFractionPerNode": "0.0",
         "numTrees": "20",
         "predictionCol": "prediction",
         "probabilityCol": "probability",
         "rawPredictionCol": "rawPrediction",
         "seed": "1",
         "subsamplingRate": "1.0"
        },
        "tags": {
         "estimator_class": "pyspark.ml.classification.RandomForestClassifier",
         "estimator_name": "RandomForestClassifier",
         "mlflow.autologging": "pyspark.ml",
         "mlflow.parentRunId": "4727684e-7f57-4b47-809a-c23b68bd145d",
         "mlflow.rootRunId": "4727684e-7f57-4b47-809a-c23b68bd145d",
         "mlflow.runName": "blue_bird_vcmpkcss",
         "mlflow.user": "4b3a56ea-6f42-450e-b7c3-fb2932c7ac32",
         "synapseml.experiment.artifactId": "def0e41b-bf2a-4c5c-8970-7f8f29d2e61c",
         "synapseml.experimentName": "experiment-pt-need-for-rehab",
         "synapseml.livy.id": "f8972434-73df-4ded-b1a2-609fbbc233f6",
         "synapseml.notebook.artifactId": "1f319080-0c8b-41ec-bd3a-1ac600f02c7b",
         "synapseml.user.id": "5ceefbea-2f12-43ef-82e1-44dd8fc7ee0b",
         "synapseml.user.name": "atnip1"
        }
       },
       "info": {
        "artifact_uri": "sds://onelakewestus.pbidedicated.windows.net/8ee4903a-6e90-4510-b3c2-424d07933817/def0e41b-bf2a-4c5c-8970-7f8f29d2e61c/867e4a18-3b54-4972-adfb-3b7c4818a51c/artifacts",
        "end_time": 1723136223,
        "experiment_id": "c75cf239-8e7d-4523-abcb-9b0e7ded18d0",
        "lifecycle_stage": "active",
        "run_id": "867e4a18-3b54-4972-adfb-3b7c4818a51c",
        "run_name": "",
        "run_uuid": "867e4a18-3b54-4972-adfb-3b7c4818a51c",
        "start_time": 1723136090,
        "status": "FINISHED",
        "user_id": "7ebfac85-3ebb-440f-a743-e52052051f6a"
       },
       "inputs": {
        "dataset_inputs": []
       }
      }
     },
     "metadata": {},
     "output_type": "display_data"
    },
    {
     "data": {
      "application/vnd.mlflow.run-widget+json": {
       "data": {
        "metrics": {
         "avg_accuracy": 0.8311952379821033,
         "std_accuracy": 0.0459827555566833
        },
        "params": {
         "bootstrap": "True",
         "cacheNodeIds": "False",
         "checkpointInterval": "10",
         "featureSubsetStrategy": "auto",
         "featuresCol": "features",
         "impurity": "gini",
         "labelCol": "label",
         "leafCol": "",
         "maxBins": "32",
         "maxDepth": "4",
         "maxMemoryInMB": "256",
         "minInfoGain": "0.0",
         "minInstancesPerNode": "16",
         "minWeightFractionPerNode": "0.0",
         "numTrees": "20",
         "predictionCol": "prediction",
         "probabilityCol": "probability",
         "rawPredictionCol": "rawPrediction",
         "seed": "1",
         "subsamplingRate": "1.0"
        },
        "tags": {
         "estimator_class": "pyspark.ml.classification.RandomForestClassifier",
         "estimator_name": "RandomForestClassifier",
         "mlflow.autologging": "pyspark.ml",
         "mlflow.parentRunId": "4727684e-7f57-4b47-809a-c23b68bd145d",
         "mlflow.rootRunId": "4727684e-7f57-4b47-809a-c23b68bd145d",
         "mlflow.runName": "plum_coconut_4jppmhx5",
         "mlflow.user": "4b3a56ea-6f42-450e-b7c3-fb2932c7ac32",
         "synapseml.experiment.artifactId": "def0e41b-bf2a-4c5c-8970-7f8f29d2e61c",
         "synapseml.experimentName": "experiment-pt-need-for-rehab",
         "synapseml.livy.id": "f8972434-73df-4ded-b1a2-609fbbc233f6",
         "synapseml.notebook.artifactId": "1f319080-0c8b-41ec-bd3a-1ac600f02c7b",
         "synapseml.user.id": "5ceefbea-2f12-43ef-82e1-44dd8fc7ee0b",
         "synapseml.user.name": "atnip1"
        }
       },
       "info": {
        "artifact_uri": "sds://onelakewestus.pbidedicated.windows.net/8ee4903a-6e90-4510-b3c2-424d07933817/def0e41b-bf2a-4c5c-8970-7f8f29d2e61c/97f992ff-fcae-4179-8ea4-2412f193a064/artifacts",
        "end_time": 1723136226,
        "experiment_id": "c75cf239-8e7d-4523-abcb-9b0e7ded18d0",
        "lifecycle_stage": "active",
        "run_id": "97f992ff-fcae-4179-8ea4-2412f193a064",
        "run_name": "",
        "run_uuid": "97f992ff-fcae-4179-8ea4-2412f193a064",
        "start_time": 1723136090,
        "status": "FINISHED",
        "user_id": "7ebfac85-3ebb-440f-a743-e52052051f6a"
       },
       "inputs": {
        "dataset_inputs": []
       }
      }
     },
     "metadata": {},
     "output_type": "display_data"
    },
    {
     "data": {
      "application/vnd.mlflow.run-widget+json": {
       "data": {
        "metrics": {
         "avg_accuracy": 0.8160767189141482,
         "std_accuracy": 0.047607602024360214
        },
        "params": {
         "bootstrap": "True",
         "cacheNodeIds": "False",
         "checkpointInterval": "10",
         "featureSubsetStrategy": "auto",
         "featuresCol": "features",
         "impurity": "gini",
         "labelCol": "label",
         "leafCol": "",
         "maxBins": "32",
         "maxDepth": "4",
         "maxMemoryInMB": "256",
         "minInfoGain": "0.0",
         "minInstancesPerNode": "32",
         "minWeightFractionPerNode": "0.0",
         "numTrees": "20",
         "predictionCol": "prediction",
         "probabilityCol": "probability",
         "rawPredictionCol": "rawPrediction",
         "seed": "1",
         "subsamplingRate": "1.0"
        },
        "tags": {
         "estimator_class": "pyspark.ml.classification.RandomForestClassifier",
         "estimator_name": "RandomForestClassifier",
         "mlflow.autologging": "pyspark.ml",
         "mlflow.parentRunId": "4727684e-7f57-4b47-809a-c23b68bd145d",
         "mlflow.rootRunId": "4727684e-7f57-4b47-809a-c23b68bd145d",
         "mlflow.runName": "joyful_giraffe_826pbkdk",
         "mlflow.user": "4b3a56ea-6f42-450e-b7c3-fb2932c7ac32",
         "synapseml.experiment.artifactId": "def0e41b-bf2a-4c5c-8970-7f8f29d2e61c",
         "synapseml.experimentName": "experiment-pt-need-for-rehab",
         "synapseml.livy.id": "f8972434-73df-4ded-b1a2-609fbbc233f6",
         "synapseml.notebook.artifactId": "1f319080-0c8b-41ec-bd3a-1ac600f02c7b",
         "synapseml.user.id": "5ceefbea-2f12-43ef-82e1-44dd8fc7ee0b",
         "synapseml.user.name": "atnip1"
        }
       },
       "info": {
        "artifact_uri": "sds://onelakewestus.pbidedicated.windows.net/8ee4903a-6e90-4510-b3c2-424d07933817/def0e41b-bf2a-4c5c-8970-7f8f29d2e61c/eeea1345-0b1c-4e0d-8b9e-18516b297ba2/artifacts",
        "end_time": 1723136227,
        "experiment_id": "c75cf239-8e7d-4523-abcb-9b0e7ded18d0",
        "lifecycle_stage": "active",
        "run_id": "eeea1345-0b1c-4e0d-8b9e-18516b297ba2",
        "run_name": "",
        "run_uuid": "eeea1345-0b1c-4e0d-8b9e-18516b297ba2",
        "start_time": 1723136090,
        "status": "FINISHED",
        "user_id": "7ebfac85-3ebb-440f-a743-e52052051f6a"
       },
       "inputs": {
        "dataset_inputs": []
       }
      }
     },
     "metadata": {},
     "output_type": "display_data"
    },
    {
     "data": {
      "application/vnd.mlflow.run-widget+json": {
       "data": {
        "metrics": {
         "avg_accuracy": 0.8235303857110866,
         "std_accuracy": 0.045777079891279784
        },
        "params": {
         "bootstrap": "True",
         "cacheNodeIds": "False",
         "checkpointInterval": "10",
         "featureSubsetStrategy": "auto",
         "featuresCol": "features",
         "impurity": "gini",
         "labelCol": "label",
         "leafCol": "",
         "maxBins": "32",
         "maxDepth": "6",
         "maxMemoryInMB": "256",
         "minInfoGain": "0.0",
         "minInstancesPerNode": "4",
         "minWeightFractionPerNode": "0.0",
         "numTrees": "20",
         "predictionCol": "prediction",
         "probabilityCol": "probability",
         "rawPredictionCol": "rawPrediction",
         "seed": "1",
         "subsamplingRate": "1.0"
        },
        "tags": {
         "estimator_class": "pyspark.ml.classification.RandomForestClassifier",
         "estimator_name": "RandomForestClassifier",
         "mlflow.autologging": "pyspark.ml",
         "mlflow.parentRunId": "4727684e-7f57-4b47-809a-c23b68bd145d",
         "mlflow.rootRunId": "4727684e-7f57-4b47-809a-c23b68bd145d",
         "mlflow.runName": "funny_soca_wr4v6s57",
         "mlflow.user": "4b3a56ea-6f42-450e-b7c3-fb2932c7ac32",
         "synapseml.experiment.artifactId": "def0e41b-bf2a-4c5c-8970-7f8f29d2e61c",
         "synapseml.experimentName": "experiment-pt-need-for-rehab",
         "synapseml.livy.id": "f8972434-73df-4ded-b1a2-609fbbc233f6",
         "synapseml.notebook.artifactId": "1f319080-0c8b-41ec-bd3a-1ac600f02c7b",
         "synapseml.user.id": "5ceefbea-2f12-43ef-82e1-44dd8fc7ee0b",
         "synapseml.user.name": "atnip1"
        }
       },
       "info": {
        "artifact_uri": "sds://onelakewestus.pbidedicated.windows.net/8ee4903a-6e90-4510-b3c2-424d07933817/def0e41b-bf2a-4c5c-8970-7f8f29d2e61c/77aff259-9f9d-410f-99d5-9758e23d302e/artifacts",
        "end_time": 1723136229,
        "experiment_id": "c75cf239-8e7d-4523-abcb-9b0e7ded18d0",
        "lifecycle_stage": "active",
        "run_id": "77aff259-9f9d-410f-99d5-9758e23d302e",
        "run_name": "",
        "run_uuid": "77aff259-9f9d-410f-99d5-9758e23d302e",
        "start_time": 1723136090,
        "status": "FINISHED",
        "user_id": "7ebfac85-3ebb-440f-a743-e52052051f6a"
       },
       "inputs": {
        "dataset_inputs": []
       }
      }
     },
     "metadata": {},
     "output_type": "display_data"
    },
    {
     "data": {
      "application/vnd.mlflow.run-widget+json": {
       "data": {
        "metrics": {
         "avg_accuracy": 0.8251779219647875,
         "std_accuracy": 0.0458325026716078
        },
        "params": {
         "bootstrap": "True",
         "cacheNodeIds": "False",
         "checkpointInterval": "10",
         "featureSubsetStrategy": "auto",
         "featuresCol": "features",
         "impurity": "gini",
         "labelCol": "label",
         "leafCol": "",
         "maxBins": "32",
         "maxDepth": "6",
         "maxMemoryInMB": "256",
         "minInfoGain": "0.0",
         "minInstancesPerNode": "8",
         "minWeightFractionPerNode": "0.0",
         "numTrees": "20",
         "predictionCol": "prediction",
         "probabilityCol": "probability",
         "rawPredictionCol": "rawPrediction",
         "seed": "1",
         "subsamplingRate": "1.0"
        },
        "tags": {
         "estimator_class": "pyspark.ml.classification.RandomForestClassifier",
         "estimator_name": "RandomForestClassifier",
         "mlflow.autologging": "pyspark.ml",
         "mlflow.parentRunId": "4727684e-7f57-4b47-809a-c23b68bd145d",
         "mlflow.rootRunId": "4727684e-7f57-4b47-809a-c23b68bd145d",
         "mlflow.runName": "amiable_insect_9p4d36t4",
         "mlflow.user": "4b3a56ea-6f42-450e-b7c3-fb2932c7ac32",
         "synapseml.experiment.artifactId": "def0e41b-bf2a-4c5c-8970-7f8f29d2e61c",
         "synapseml.experimentName": "experiment-pt-need-for-rehab",
         "synapseml.livy.id": "f8972434-73df-4ded-b1a2-609fbbc233f6",
         "synapseml.notebook.artifactId": "1f319080-0c8b-41ec-bd3a-1ac600f02c7b",
         "synapseml.user.id": "5ceefbea-2f12-43ef-82e1-44dd8fc7ee0b",
         "synapseml.user.name": "atnip1"
        }
       },
       "info": {
        "artifact_uri": "sds://onelakewestus.pbidedicated.windows.net/8ee4903a-6e90-4510-b3c2-424d07933817/def0e41b-bf2a-4c5c-8970-7f8f29d2e61c/6a14c55f-4792-4f05-8180-6b28e409447d/artifacts",
        "end_time": 1723136231,
        "experiment_id": "c75cf239-8e7d-4523-abcb-9b0e7ded18d0",
        "lifecycle_stage": "active",
        "run_id": "6a14c55f-4792-4f05-8180-6b28e409447d",
        "run_name": "",
        "run_uuid": "6a14c55f-4792-4f05-8180-6b28e409447d",
        "start_time": 1723136090,
        "status": "FINISHED",
        "user_id": "7ebfac85-3ebb-440f-a743-e52052051f6a"
       },
       "inputs": {
        "dataset_inputs": []
       }
      }
     },
     "metadata": {},
     "output_type": "display_data"
    },
    {
     "data": {
      "application/vnd.mlflow.run-widget+json": {
       "data": {
        "metrics": {
         "avg_accuracy": 0.8310274890643544,
         "std_accuracy": 0.051368162108251764
        },
        "params": {
         "bootstrap": "True",
         "cacheNodeIds": "False",
         "checkpointInterval": "10",
         "featureSubsetStrategy": "auto",
         "featuresCol": "features",
         "impurity": "gini",
         "labelCol": "label",
         "leafCol": "",
         "maxBins": "32",
         "maxDepth": "6",
         "maxMemoryInMB": "256",
         "minInfoGain": "0.0",
         "minInstancesPerNode": "16",
         "minWeightFractionPerNode": "0.0",
         "numTrees": "20",
         "predictionCol": "prediction",
         "probabilityCol": "probability",
         "rawPredictionCol": "rawPrediction",
         "seed": "1",
         "subsamplingRate": "1.0"
        },
        "tags": {
         "estimator_class": "pyspark.ml.classification.RandomForestClassifier",
         "estimator_name": "RandomForestClassifier",
         "mlflow.autologging": "pyspark.ml",
         "mlflow.parentRunId": "4727684e-7f57-4b47-809a-c23b68bd145d",
         "mlflow.rootRunId": "4727684e-7f57-4b47-809a-c23b68bd145d",
         "mlflow.runName": "goofy_piano_p97rhlvx",
         "mlflow.user": "4b3a56ea-6f42-450e-b7c3-fb2932c7ac32",
         "synapseml.experiment.artifactId": "def0e41b-bf2a-4c5c-8970-7f8f29d2e61c",
         "synapseml.experimentName": "experiment-pt-need-for-rehab",
         "synapseml.livy.id": "f8972434-73df-4ded-b1a2-609fbbc233f6",
         "synapseml.notebook.artifactId": "1f319080-0c8b-41ec-bd3a-1ac600f02c7b",
         "synapseml.user.id": "5ceefbea-2f12-43ef-82e1-44dd8fc7ee0b",
         "synapseml.user.name": "atnip1"
        }
       },
       "info": {
        "artifact_uri": "sds://onelakewestus.pbidedicated.windows.net/8ee4903a-6e90-4510-b3c2-424d07933817/def0e41b-bf2a-4c5c-8970-7f8f29d2e61c/a8404f7a-c1e2-4bdd-8583-b561c075ba72/artifacts",
        "end_time": 1723136233,
        "experiment_id": "c75cf239-8e7d-4523-abcb-9b0e7ded18d0",
        "lifecycle_stage": "active",
        "run_id": "a8404f7a-c1e2-4bdd-8583-b561c075ba72",
        "run_name": "",
        "run_uuid": "a8404f7a-c1e2-4bdd-8583-b561c075ba72",
        "start_time": 1723136090,
        "status": "FINISHED",
        "user_id": "7ebfac85-3ebb-440f-a743-e52052051f6a"
       },
       "inputs": {
        "dataset_inputs": []
       }
      }
     },
     "metadata": {},
     "output_type": "display_data"
    },
    {
     "data": {
      "application/vnd.mlflow.run-widget+json": {
       "data": {
        "metrics": {
         "avg_accuracy": 0.8198135287065584,
         "std_accuracy": 0.04493168026833954
        },
        "params": {
         "bootstrap": "True",
         "cacheNodeIds": "False",
         "checkpointInterval": "10",
         "featureSubsetStrategy": "auto",
         "featuresCol": "features",
         "impurity": "gini",
         "labelCol": "label",
         "leafCol": "",
         "maxBins": "32",
         "maxDepth": "6",
         "maxMemoryInMB": "256",
         "minInfoGain": "0.0",
         "minInstancesPerNode": "32",
         "minWeightFractionPerNode": "0.0",
         "numTrees": "20",
         "predictionCol": "prediction",
         "probabilityCol": "probability",
         "rawPredictionCol": "rawPrediction",
         "seed": "1",
         "subsamplingRate": "1.0"
        },
        "tags": {
         "estimator_class": "pyspark.ml.classification.RandomForestClassifier",
         "estimator_name": "RandomForestClassifier",
         "mlflow.autologging": "pyspark.ml",
         "mlflow.parentRunId": "4727684e-7f57-4b47-809a-c23b68bd145d",
         "mlflow.rootRunId": "4727684e-7f57-4b47-809a-c23b68bd145d",
         "mlflow.runName": "careful_circle_96w4wdjn",
         "mlflow.user": "4b3a56ea-6f42-450e-b7c3-fb2932c7ac32",
         "synapseml.experiment.artifactId": "def0e41b-bf2a-4c5c-8970-7f8f29d2e61c",
         "synapseml.experimentName": "experiment-pt-need-for-rehab",
         "synapseml.livy.id": "f8972434-73df-4ded-b1a2-609fbbc233f6",
         "synapseml.notebook.artifactId": "1f319080-0c8b-41ec-bd3a-1ac600f02c7b",
         "synapseml.user.id": "5ceefbea-2f12-43ef-82e1-44dd8fc7ee0b",
         "synapseml.user.name": "atnip1"
        }
       },
       "info": {
        "artifact_uri": "sds://onelakewestus.pbidedicated.windows.net/8ee4903a-6e90-4510-b3c2-424d07933817/def0e41b-bf2a-4c5c-8970-7f8f29d2e61c/4c82bb5d-b11a-4ec4-af45-890a6d3da872/artifacts",
        "end_time": 1723136235,
        "experiment_id": "c75cf239-8e7d-4523-abcb-9b0e7ded18d0",
        "lifecycle_stage": "active",
        "run_id": "4c82bb5d-b11a-4ec4-af45-890a6d3da872",
        "run_name": "",
        "run_uuid": "4c82bb5d-b11a-4ec4-af45-890a6d3da872",
        "start_time": 1723136090,
        "status": "FINISHED",
        "user_id": "7ebfac85-3ebb-440f-a743-e52052051f6a"
       },
       "inputs": {
        "dataset_inputs": []
       }
      }
     },
     "metadata": {},
     "output_type": "display_data"
    },
    {
     "data": {
      "application/vnd.mlflow.run-widget+json": {
       "data": {
        "metrics": {
         "avg_accuracy": 0.8225233624719925,
         "std_accuracy": 0.035421050398582773
        },
        "params": {
         "bootstrap": "True",
         "cacheNodeIds": "False",
         "checkpointInterval": "10",
         "featureSubsetStrategy": "auto",
         "featuresCol": "features",
         "impurity": "gini",
         "labelCol": "label",
         "leafCol": "",
         "maxBins": "32",
         "maxDepth": "8",
         "maxMemoryInMB": "256",
         "minInfoGain": "0.0",
         "minInstancesPerNode": "4",
         "minWeightFractionPerNode": "0.0",
         "numTrees": "20",
         "predictionCol": "prediction",
         "probabilityCol": "probability",
         "rawPredictionCol": "rawPrediction",
         "seed": "1",
         "subsamplingRate": "1.0"
        },
        "tags": {
         "estimator_class": "pyspark.ml.classification.RandomForestClassifier",
         "estimator_name": "RandomForestClassifier",
         "mlflow.autologging": "pyspark.ml",
         "mlflow.parentRunId": "4727684e-7f57-4b47-809a-c23b68bd145d",
         "mlflow.rootRunId": "4727684e-7f57-4b47-809a-c23b68bd145d",
         "mlflow.runName": "kind_tooth_cvfvs8zl",
         "mlflow.user": "4b3a56ea-6f42-450e-b7c3-fb2932c7ac32",
         "synapseml.experiment.artifactId": "def0e41b-bf2a-4c5c-8970-7f8f29d2e61c",
         "synapseml.experimentName": "experiment-pt-need-for-rehab",
         "synapseml.livy.id": "f8972434-73df-4ded-b1a2-609fbbc233f6",
         "synapseml.notebook.artifactId": "1f319080-0c8b-41ec-bd3a-1ac600f02c7b",
         "synapseml.user.id": "5ceefbea-2f12-43ef-82e1-44dd8fc7ee0b",
         "synapseml.user.name": "atnip1"
        }
       },
       "info": {
        "artifact_uri": "sds://onelakewestus.pbidedicated.windows.net/8ee4903a-6e90-4510-b3c2-424d07933817/def0e41b-bf2a-4c5c-8970-7f8f29d2e61c/d2a8896d-afef-4739-a8de-b922f9a5acdd/artifacts",
        "end_time": 1723136236,
        "experiment_id": "c75cf239-8e7d-4523-abcb-9b0e7ded18d0",
        "lifecycle_stage": "active",
        "run_id": "d2a8896d-afef-4739-a8de-b922f9a5acdd",
        "run_name": "",
        "run_uuid": "d2a8896d-afef-4739-a8de-b922f9a5acdd",
        "start_time": 1723136090,
        "status": "FINISHED",
        "user_id": "7ebfac85-3ebb-440f-a743-e52052051f6a"
       },
       "inputs": {
        "dataset_inputs": []
       }
      }
     },
     "metadata": {},
     "output_type": "display_data"
    },
    {
     "data": {
      "application/vnd.mlflow.run-widget+json": {
       "data": {
        "metrics": {
         "avg_accuracy": 0.8238580832184779,
         "std_accuracy": 0.041952652967677986
        },
        "params": {
         "bootstrap": "True",
         "cacheNodeIds": "False",
         "checkpointInterval": "10",
         "featureSubsetStrategy": "auto",
         "featuresCol": "features",
         "impurity": "gini",
         "labelCol": "label",
         "leafCol": "",
         "maxBins": "32",
         "maxDepth": "8",
         "maxMemoryInMB": "256",
         "minInfoGain": "0.0",
         "minInstancesPerNode": "8",
         "minWeightFractionPerNode": "0.0",
         "numTrees": "20",
         "predictionCol": "prediction",
         "probabilityCol": "probability",
         "rawPredictionCol": "rawPrediction",
         "seed": "1",
         "subsamplingRate": "1.0"
        },
        "tags": {
         "estimator_class": "pyspark.ml.classification.RandomForestClassifier",
         "estimator_name": "RandomForestClassifier",
         "mlflow.autologging": "pyspark.ml",
         "mlflow.parentRunId": "4727684e-7f57-4b47-809a-c23b68bd145d",
         "mlflow.rootRunId": "4727684e-7f57-4b47-809a-c23b68bd145d",
         "mlflow.runName": "plum_nerve_8tbn0hq3",
         "mlflow.user": "4b3a56ea-6f42-450e-b7c3-fb2932c7ac32",
         "synapseml.experiment.artifactId": "def0e41b-bf2a-4c5c-8970-7f8f29d2e61c",
         "synapseml.experimentName": "experiment-pt-need-for-rehab",
         "synapseml.livy.id": "f8972434-73df-4ded-b1a2-609fbbc233f6",
         "synapseml.notebook.artifactId": "1f319080-0c8b-41ec-bd3a-1ac600f02c7b",
         "synapseml.user.id": "5ceefbea-2f12-43ef-82e1-44dd8fc7ee0b",
         "synapseml.user.name": "atnip1"
        }
       },
       "info": {
        "artifact_uri": "sds://onelakewestus.pbidedicated.windows.net/8ee4903a-6e90-4510-b3c2-424d07933817/def0e41b-bf2a-4c5c-8970-7f8f29d2e61c/30ba94fb-c488-49b7-9783-8aafbc26aa3b/artifacts",
        "end_time": 1723136238,
        "experiment_id": "c75cf239-8e7d-4523-abcb-9b0e7ded18d0",
        "lifecycle_stage": "active",
        "run_id": "30ba94fb-c488-49b7-9783-8aafbc26aa3b",
        "run_name": "",
        "run_uuid": "30ba94fb-c488-49b7-9783-8aafbc26aa3b",
        "start_time": 1723136090,
        "status": "FINISHED",
        "user_id": "7ebfac85-3ebb-440f-a743-e52052051f6a"
       },
       "inputs": {
        "dataset_inputs": []
       }
      }
     },
     "metadata": {},
     "output_type": "display_data"
    },
    {
     "data": {
      "application/vnd.mlflow.run-widget+json": {
       "data": {
        "metrics": {
         "avg_accuracy": 0.8310274890643544,
         "std_accuracy": 0.051368162108251764
        },
        "params": {
         "bootstrap": "True",
         "cacheNodeIds": "False",
         "checkpointInterval": "10",
         "featureSubsetStrategy": "auto",
         "featuresCol": "features",
         "impurity": "gini",
         "labelCol": "label",
         "leafCol": "",
         "maxBins": "32",
         "maxDepth": "8",
         "maxMemoryInMB": "256",
         "minInfoGain": "0.0",
         "minInstancesPerNode": "16",
         "minWeightFractionPerNode": "0.0",
         "numTrees": "20",
         "predictionCol": "prediction",
         "probabilityCol": "probability",
         "rawPredictionCol": "rawPrediction",
         "seed": "1",
         "subsamplingRate": "1.0"
        },
        "tags": {
         "estimator_class": "pyspark.ml.classification.RandomForestClassifier",
         "estimator_name": "RandomForestClassifier",
         "mlflow.autologging": "pyspark.ml",
         "mlflow.parentRunId": "4727684e-7f57-4b47-809a-c23b68bd145d",
         "mlflow.rootRunId": "4727684e-7f57-4b47-809a-c23b68bd145d",
         "mlflow.runName": "neat_angle_j9nmhc4z",
         "mlflow.user": "4b3a56ea-6f42-450e-b7c3-fb2932c7ac32",
         "synapseml.experiment.artifactId": "def0e41b-bf2a-4c5c-8970-7f8f29d2e61c",
         "synapseml.experimentName": "experiment-pt-need-for-rehab",
         "synapseml.livy.id": "f8972434-73df-4ded-b1a2-609fbbc233f6",
         "synapseml.notebook.artifactId": "1f319080-0c8b-41ec-bd3a-1ac600f02c7b",
         "synapseml.user.id": "5ceefbea-2f12-43ef-82e1-44dd8fc7ee0b",
         "synapseml.user.name": "atnip1"
        }
       },
       "info": {
        "artifact_uri": "sds://onelakewestus.pbidedicated.windows.net/8ee4903a-6e90-4510-b3c2-424d07933817/def0e41b-bf2a-4c5c-8970-7f8f29d2e61c/0fc48168-c22e-4b82-9107-8dd7ff30df66/artifacts",
        "end_time": 1723136240,
        "experiment_id": "c75cf239-8e7d-4523-abcb-9b0e7ded18d0",
        "lifecycle_stage": "active",
        "run_id": "0fc48168-c22e-4b82-9107-8dd7ff30df66",
        "run_name": "",
        "run_uuid": "0fc48168-c22e-4b82-9107-8dd7ff30df66",
        "start_time": 1723136090,
        "status": "FINISHED",
        "user_id": "7ebfac85-3ebb-440f-a743-e52052051f6a"
       },
       "inputs": {
        "dataset_inputs": []
       }
      }
     },
     "metadata": {},
     "output_type": "display_data"
    },
    {
     "data": {
      "application/vnd.mlflow.run-widget+json": {
       "data": {
        "metrics": {
         "avg_accuracy": 0.8198135287065584,
         "std_accuracy": 0.04493168026833954
        },
        "params": {
         "bootstrap": "True",
         "cacheNodeIds": "False",
         "checkpointInterval": "10",
         "featureSubsetStrategy": "auto",
         "featuresCol": "features",
         "impurity": "gini",
         "labelCol": "label",
         "leafCol": "",
         "maxBins": "32",
         "maxDepth": "8",
         "maxMemoryInMB": "256",
         "minInfoGain": "0.0",
         "minInstancesPerNode": "32",
         "minWeightFractionPerNode": "0.0",
         "numTrees": "20",
         "predictionCol": "prediction",
         "probabilityCol": "probability",
         "rawPredictionCol": "rawPrediction",
         "seed": "1",
         "subsamplingRate": "1.0"
        },
        "tags": {
         "estimator_class": "pyspark.ml.classification.RandomForestClassifier",
         "estimator_name": "RandomForestClassifier",
         "mlflow.autologging": "pyspark.ml",
         "mlflow.parentRunId": "4727684e-7f57-4b47-809a-c23b68bd145d",
         "mlflow.rootRunId": "4727684e-7f57-4b47-809a-c23b68bd145d",
         "mlflow.runName": "cyan_oyster_hljzy4vt",
         "mlflow.user": "4b3a56ea-6f42-450e-b7c3-fb2932c7ac32",
         "synapseml.experiment.artifactId": "def0e41b-bf2a-4c5c-8970-7f8f29d2e61c",
         "synapseml.experimentName": "experiment-pt-need-for-rehab",
         "synapseml.livy.id": "f8972434-73df-4ded-b1a2-609fbbc233f6",
         "synapseml.notebook.artifactId": "1f319080-0c8b-41ec-bd3a-1ac600f02c7b",
         "synapseml.user.id": "5ceefbea-2f12-43ef-82e1-44dd8fc7ee0b",
         "synapseml.user.name": "atnip1"
        }
       },
       "info": {
        "artifact_uri": "sds://onelakewestus.pbidedicated.windows.net/8ee4903a-6e90-4510-b3c2-424d07933817/def0e41b-bf2a-4c5c-8970-7f8f29d2e61c/8c89a27c-f3dc-456e-9446-4e855a108a7e/artifacts",
        "end_time": 1723136241,
        "experiment_id": "c75cf239-8e7d-4523-abcb-9b0e7ded18d0",
        "lifecycle_stage": "active",
        "run_id": "8c89a27c-f3dc-456e-9446-4e855a108a7e",
        "run_name": "",
        "run_uuid": "8c89a27c-f3dc-456e-9446-4e855a108a7e",
        "start_time": 1723136090,
        "status": "FINISHED",
        "user_id": "7ebfac85-3ebb-440f-a743-e52052051f6a"
       },
       "inputs": {
        "dataset_inputs": []
       }
      }
     },
     "metadata": {},
     "output_type": "display_data"
    },
    {
     "data": {
      "application/vnd.mlflow.run-widget+json": {
       "data": {
        "metrics": {
         "avg_accuracy": 0.8200959866884523,
         "std_accuracy": 0.034567218198802326
        },
        "params": {
         "bootstrap": "True",
         "cacheNodeIds": "False",
         "checkpointInterval": "10",
         "featureSubsetStrategy": "auto",
         "featuresCol": "features",
         "impurity": "gini",
         "labelCol": "label",
         "leafCol": "",
         "maxBins": "32",
         "maxDepth": "10",
         "maxMemoryInMB": "256",
         "minInfoGain": "0.0",
         "minInstancesPerNode": "4",
         "minWeightFractionPerNode": "0.0",
         "numTrees": "20",
         "predictionCol": "prediction",
         "probabilityCol": "probability",
         "rawPredictionCol": "rawPrediction",
         "seed": "1",
         "subsamplingRate": "1.0"
        },
        "tags": {
         "estimator_class": "pyspark.ml.classification.RandomForestClassifier",
         "estimator_name": "RandomForestClassifier",
         "mlflow.autologging": "pyspark.ml",
         "mlflow.parentRunId": "4727684e-7f57-4b47-809a-c23b68bd145d",
         "mlflow.rootRunId": "4727684e-7f57-4b47-809a-c23b68bd145d",
         "mlflow.runName": "ivory_picture_8nr0dwvm",
         "mlflow.user": "4b3a56ea-6f42-450e-b7c3-fb2932c7ac32",
         "synapseml.experiment.artifactId": "def0e41b-bf2a-4c5c-8970-7f8f29d2e61c",
         "synapseml.experimentName": "experiment-pt-need-for-rehab",
         "synapseml.livy.id": "f8972434-73df-4ded-b1a2-609fbbc233f6",
         "synapseml.notebook.artifactId": "1f319080-0c8b-41ec-bd3a-1ac600f02c7b",
         "synapseml.user.id": "5ceefbea-2f12-43ef-82e1-44dd8fc7ee0b",
         "synapseml.user.name": "atnip1"
        }
       },
       "info": {
        "artifact_uri": "sds://onelakewestus.pbidedicated.windows.net/8ee4903a-6e90-4510-b3c2-424d07933817/def0e41b-bf2a-4c5c-8970-7f8f29d2e61c/6554d681-e869-451d-affb-5f74644ec285/artifacts",
        "end_time": 1723136243,
        "experiment_id": "c75cf239-8e7d-4523-abcb-9b0e7ded18d0",
        "lifecycle_stage": "active",
        "run_id": "6554d681-e869-451d-affb-5f74644ec285",
        "run_name": "",
        "run_uuid": "6554d681-e869-451d-affb-5f74644ec285",
        "start_time": 1723136090,
        "status": "FINISHED",
        "user_id": "7ebfac85-3ebb-440f-a743-e52052051f6a"
       },
       "inputs": {
        "dataset_inputs": []
       }
      }
     },
     "metadata": {},
     "output_type": "display_data"
    },
    {
     "data": {
      "application/vnd.mlflow.run-widget+json": {
       "data": {
        "metrics": {
         "avg_accuracy": 0.8224882202047793,
         "std_accuracy": 0.043529543020883826
        },
        "params": {
         "bootstrap": "True",
         "cacheNodeIds": "False",
         "checkpointInterval": "10",
         "featureSubsetStrategy": "auto",
         "featuresCol": "features",
         "impurity": "gini",
         "labelCol": "label",
         "leafCol": "",
         "maxBins": "32",
         "maxDepth": "10",
         "maxMemoryInMB": "256",
         "minInfoGain": "0.0",
         "minInstancesPerNode": "8",
         "minWeightFractionPerNode": "0.0",
         "numTrees": "20",
         "predictionCol": "prediction",
         "probabilityCol": "probability",
         "rawPredictionCol": "rawPrediction",
         "seed": "1",
         "subsamplingRate": "1.0"
        },
        "tags": {
         "estimator_class": "pyspark.ml.classification.RandomForestClassifier",
         "estimator_name": "RandomForestClassifier",
         "mlflow.autologging": "pyspark.ml",
         "mlflow.parentRunId": "4727684e-7f57-4b47-809a-c23b68bd145d",
         "mlflow.rootRunId": "4727684e-7f57-4b47-809a-c23b68bd145d",
         "mlflow.runName": "elated_basin_bhqzk8lg",
         "mlflow.user": "4b3a56ea-6f42-450e-b7c3-fb2932c7ac32",
         "synapseml.experiment.artifactId": "def0e41b-bf2a-4c5c-8970-7f8f29d2e61c",
         "synapseml.experimentName": "experiment-pt-need-for-rehab",
         "synapseml.livy.id": "f8972434-73df-4ded-b1a2-609fbbc233f6",
         "synapseml.notebook.artifactId": "1f319080-0c8b-41ec-bd3a-1ac600f02c7b",
         "synapseml.user.id": "5ceefbea-2f12-43ef-82e1-44dd8fc7ee0b",
         "synapseml.user.name": "atnip1"
        }
       },
       "info": {
        "artifact_uri": "sds://onelakewestus.pbidedicated.windows.net/8ee4903a-6e90-4510-b3c2-424d07933817/def0e41b-bf2a-4c5c-8970-7f8f29d2e61c/29b98c2e-08e8-4f65-a3f3-825464f6bdbc/artifacts",
        "end_time": 1723136245,
        "experiment_id": "c75cf239-8e7d-4523-abcb-9b0e7ded18d0",
        "lifecycle_stage": "active",
        "run_id": "29b98c2e-08e8-4f65-a3f3-825464f6bdbc",
        "run_name": "",
        "run_uuid": "29b98c2e-08e8-4f65-a3f3-825464f6bdbc",
        "start_time": 1723136090,
        "status": "FINISHED",
        "user_id": "7ebfac85-3ebb-440f-a743-e52052051f6a"
       },
       "inputs": {
        "dataset_inputs": []
       }
      }
     },
     "metadata": {},
     "output_type": "display_data"
    },
    {
     "data": {
      "application/vnd.mlflow.run-widget+json": {
       "data": {
        "metrics": {
         "avg_accuracy": 0.8310274890643544,
         "std_accuracy": 0.051368162108251764
        },
        "params": {
         "bootstrap": "True",
         "cacheNodeIds": "False",
         "checkpointInterval": "10",
         "featureSubsetStrategy": "auto",
         "featuresCol": "features",
         "impurity": "gini",
         "labelCol": "label",
         "leafCol": "",
         "maxBins": "32",
         "maxDepth": "10",
         "maxMemoryInMB": "256",
         "minInfoGain": "0.0",
         "minInstancesPerNode": "16",
         "minWeightFractionPerNode": "0.0",
         "numTrees": "20",
         "predictionCol": "prediction",
         "probabilityCol": "probability",
         "rawPredictionCol": "rawPrediction",
         "seed": "1",
         "subsamplingRate": "1.0"
        },
        "tags": {
         "estimator_class": "pyspark.ml.classification.RandomForestClassifier",
         "estimator_name": "RandomForestClassifier",
         "mlflow.autologging": "pyspark.ml",
         "mlflow.parentRunId": "4727684e-7f57-4b47-809a-c23b68bd145d",
         "mlflow.rootRunId": "4727684e-7f57-4b47-809a-c23b68bd145d",
         "mlflow.runName": "crimson_raisin_bkqrg739",
         "mlflow.user": "4b3a56ea-6f42-450e-b7c3-fb2932c7ac32",
         "synapseml.experiment.artifactId": "def0e41b-bf2a-4c5c-8970-7f8f29d2e61c",
         "synapseml.experimentName": "experiment-pt-need-for-rehab",
         "synapseml.livy.id": "f8972434-73df-4ded-b1a2-609fbbc233f6",
         "synapseml.notebook.artifactId": "1f319080-0c8b-41ec-bd3a-1ac600f02c7b",
         "synapseml.user.id": "5ceefbea-2f12-43ef-82e1-44dd8fc7ee0b",
         "synapseml.user.name": "atnip1"
        }
       },
       "info": {
        "artifact_uri": "sds://onelakewestus.pbidedicated.windows.net/8ee4903a-6e90-4510-b3c2-424d07933817/def0e41b-bf2a-4c5c-8970-7f8f29d2e61c/b41fb4a4-5607-4e6e-ae48-69d014c7f52d/artifacts",
        "end_time": 1723136246,
        "experiment_id": "c75cf239-8e7d-4523-abcb-9b0e7ded18d0",
        "lifecycle_stage": "active",
        "run_id": "b41fb4a4-5607-4e6e-ae48-69d014c7f52d",
        "run_name": "",
        "run_uuid": "b41fb4a4-5607-4e6e-ae48-69d014c7f52d",
        "start_time": 1723136090,
        "status": "FINISHED",
        "user_id": "7ebfac85-3ebb-440f-a743-e52052051f6a"
       },
       "inputs": {
        "dataset_inputs": []
       }
      }
     },
     "metadata": {},
     "output_type": "display_data"
    },
    {
     "data": {
      "application/vnd.mlflow.run-widget+json": {
       "data": {
        "metrics": {
         "avg_accuracy": 0.8198135287065584,
         "std_accuracy": 0.04493168026833954
        },
        "params": {
         "bootstrap": "True",
         "cacheNodeIds": "False",
         "checkpointInterval": "10",
         "featureSubsetStrategy": "auto",
         "featuresCol": "features",
         "impurity": "gini",
         "labelCol": "label",
         "leafCol": "",
         "maxBins": "32",
         "maxDepth": "10",
         "maxMemoryInMB": "256",
         "minInfoGain": "0.0",
         "minInstancesPerNode": "32",
         "minWeightFractionPerNode": "0.0",
         "numTrees": "20",
         "predictionCol": "prediction",
         "probabilityCol": "probability",
         "rawPredictionCol": "rawPrediction",
         "seed": "1",
         "subsamplingRate": "1.0"
        },
        "tags": {
         "estimator_class": "pyspark.ml.classification.RandomForestClassifier",
         "estimator_name": "RandomForestClassifier",
         "mlflow.autologging": "pyspark.ml",
         "mlflow.parentRunId": "4727684e-7f57-4b47-809a-c23b68bd145d",
         "mlflow.rootRunId": "4727684e-7f57-4b47-809a-c23b68bd145d",
         "mlflow.runName": "joyful_bird_pqct59m8",
         "mlflow.user": "4b3a56ea-6f42-450e-b7c3-fb2932c7ac32",
         "synapseml.experiment.artifactId": "def0e41b-bf2a-4c5c-8970-7f8f29d2e61c",
         "synapseml.experimentName": "experiment-pt-need-for-rehab",
         "synapseml.livy.id": "f8972434-73df-4ded-b1a2-609fbbc233f6",
         "synapseml.notebook.artifactId": "1f319080-0c8b-41ec-bd3a-1ac600f02c7b",
         "synapseml.user.id": "5ceefbea-2f12-43ef-82e1-44dd8fc7ee0b",
         "synapseml.user.name": "atnip1"
        }
       },
       "info": {
        "artifact_uri": "sds://onelakewestus.pbidedicated.windows.net/8ee4903a-6e90-4510-b3c2-424d07933817/def0e41b-bf2a-4c5c-8970-7f8f29d2e61c/75ec6f7a-1fba-4782-b8fb-015096d83d71/artifacts",
        "end_time": 1723136248,
        "experiment_id": "c75cf239-8e7d-4523-abcb-9b0e7ded18d0",
        "lifecycle_stage": "active",
        "run_id": "75ec6f7a-1fba-4782-b8fb-015096d83d71",
        "run_name": "",
        "run_uuid": "75ec6f7a-1fba-4782-b8fb-015096d83d71",
        "start_time": 1723136090,
        "status": "FINISHED",
        "user_id": "7ebfac85-3ebb-440f-a743-e52052051f6a"
       },
       "inputs": {
        "dataset_inputs": []
       }
      }
     },
     "metadata": {},
     "output_type": "display_data"
    },
    {
     "data": {
      "application/vnd.mlflow.run-widget+json": {
       "data": {
        "metrics": {
         "avg_accuracy": 0.8200959866884523,
         "std_accuracy": 0.034567218198802326
        },
        "params": {
         "bootstrap": "True",
         "cacheNodeIds": "False",
         "checkpointInterval": "10",
         "featureSubsetStrategy": "auto",
         "featuresCol": "features",
         "impurity": "gini",
         "labelCol": "label",
         "leafCol": "",
         "maxBins": "32",
         "maxDepth": "12",
         "maxMemoryInMB": "256",
         "minInfoGain": "0.0",
         "minInstancesPerNode": "4",
         "minWeightFractionPerNode": "0.0",
         "numTrees": "20",
         "predictionCol": "prediction",
         "probabilityCol": "probability",
         "rawPredictionCol": "rawPrediction",
         "seed": "1",
         "subsamplingRate": "1.0"
        },
        "tags": {
         "estimator_class": "pyspark.ml.classification.RandomForestClassifier",
         "estimator_name": "RandomForestClassifier",
         "mlflow.autologging": "pyspark.ml",
         "mlflow.parentRunId": "4727684e-7f57-4b47-809a-c23b68bd145d",
         "mlflow.rootRunId": "4727684e-7f57-4b47-809a-c23b68bd145d",
         "mlflow.runName": "mighty_duck_sqb820ss",
         "mlflow.user": "4b3a56ea-6f42-450e-b7c3-fb2932c7ac32",
         "synapseml.experiment.artifactId": "def0e41b-bf2a-4c5c-8970-7f8f29d2e61c",
         "synapseml.experimentName": "experiment-pt-need-for-rehab",
         "synapseml.livy.id": "f8972434-73df-4ded-b1a2-609fbbc233f6",
         "synapseml.notebook.artifactId": "1f319080-0c8b-41ec-bd3a-1ac600f02c7b",
         "synapseml.user.id": "5ceefbea-2f12-43ef-82e1-44dd8fc7ee0b",
         "synapseml.user.name": "atnip1"
        }
       },
       "info": {
        "artifact_uri": "sds://onelakewestus.pbidedicated.windows.net/8ee4903a-6e90-4510-b3c2-424d07933817/def0e41b-bf2a-4c5c-8970-7f8f29d2e61c/d073a53e-25a6-4e90-a12d-645c88adc953/artifacts",
        "end_time": 1723136250,
        "experiment_id": "c75cf239-8e7d-4523-abcb-9b0e7ded18d0",
        "lifecycle_stage": "active",
        "run_id": "d073a53e-25a6-4e90-a12d-645c88adc953",
        "run_name": "",
        "run_uuid": "d073a53e-25a6-4e90-a12d-645c88adc953",
        "start_time": 1723136090,
        "status": "FINISHED",
        "user_id": "7ebfac85-3ebb-440f-a743-e52052051f6a"
       },
       "inputs": {
        "dataset_inputs": []
       }
      }
     },
     "metadata": {},
     "output_type": "display_data"
    },
    {
     "data": {
      "application/vnd.mlflow.run-widget+json": {
       "data": {
        "metrics": {
         "avg_accuracy": 0.8224882202047793,
         "std_accuracy": 0.043529543020883826
        },
        "params": {
         "bootstrap": "True",
         "cacheNodeIds": "False",
         "checkpointInterval": "10",
         "featureSubsetStrategy": "auto",
         "featuresCol": "features",
         "impurity": "gini",
         "labelCol": "label",
         "leafCol": "",
         "maxBins": "32",
         "maxDepth": "12",
         "maxMemoryInMB": "256",
         "minInfoGain": "0.0",
         "minInstancesPerNode": "8",
         "minWeightFractionPerNode": "0.0",
         "numTrees": "20",
         "predictionCol": "prediction",
         "probabilityCol": "probability",
         "rawPredictionCol": "rawPrediction",
         "seed": "1",
         "subsamplingRate": "1.0"
        },
        "tags": {
         "estimator_class": "pyspark.ml.classification.RandomForestClassifier",
         "estimator_name": "RandomForestClassifier",
         "mlflow.autologging": "pyspark.ml",
         "mlflow.parentRunId": "4727684e-7f57-4b47-809a-c23b68bd145d",
         "mlflow.rootRunId": "4727684e-7f57-4b47-809a-c23b68bd145d",
         "mlflow.runName": "sharp_cake_j91d3yw8",
         "mlflow.user": "4b3a56ea-6f42-450e-b7c3-fb2932c7ac32",
         "synapseml.experiment.artifactId": "def0e41b-bf2a-4c5c-8970-7f8f29d2e61c",
         "synapseml.experimentName": "experiment-pt-need-for-rehab",
         "synapseml.livy.id": "f8972434-73df-4ded-b1a2-609fbbc233f6",
         "synapseml.notebook.artifactId": "1f319080-0c8b-41ec-bd3a-1ac600f02c7b",
         "synapseml.user.id": "5ceefbea-2f12-43ef-82e1-44dd8fc7ee0b",
         "synapseml.user.name": "atnip1"
        }
       },
       "info": {
        "artifact_uri": "sds://onelakewestus.pbidedicated.windows.net/8ee4903a-6e90-4510-b3c2-424d07933817/def0e41b-bf2a-4c5c-8970-7f8f29d2e61c/0d14ec9b-dd6f-45f1-8d19-7907c675e138/artifacts",
        "end_time": 1723136251,
        "experiment_id": "c75cf239-8e7d-4523-abcb-9b0e7ded18d0",
        "lifecycle_stage": "active",
        "run_id": "0d14ec9b-dd6f-45f1-8d19-7907c675e138",
        "run_name": "",
        "run_uuid": "0d14ec9b-dd6f-45f1-8d19-7907c675e138",
        "start_time": 1723136090,
        "status": "FINISHED",
        "user_id": "7ebfac85-3ebb-440f-a743-e52052051f6a"
       },
       "inputs": {
        "dataset_inputs": []
       }
      }
     },
     "metadata": {},
     "output_type": "display_data"
    },
    {
     "data": {
      "application/vnd.mlflow.run-widget+json": {
       "data": {
        "metrics": {
         "avg_accuracy": 0.8310274890643544,
         "std_accuracy": 0.051368162108251764
        },
        "params": {
         "bootstrap": "True",
         "cacheNodeIds": "False",
         "checkpointInterval": "10",
         "featureSubsetStrategy": "auto",
         "featuresCol": "features",
         "impurity": "gini",
         "labelCol": "label",
         "leafCol": "",
         "maxBins": "32",
         "maxDepth": "12",
         "maxMemoryInMB": "256",
         "minInfoGain": "0.0",
         "minInstancesPerNode": "16",
         "minWeightFractionPerNode": "0.0",
         "numTrees": "20",
         "predictionCol": "prediction",
         "probabilityCol": "probability",
         "rawPredictionCol": "rawPrediction",
         "seed": "1",
         "subsamplingRate": "1.0"
        },
        "tags": {
         "estimator_class": "pyspark.ml.classification.RandomForestClassifier",
         "estimator_name": "RandomForestClassifier",
         "mlflow.autologging": "pyspark.ml",
         "mlflow.parentRunId": "4727684e-7f57-4b47-809a-c23b68bd145d",
         "mlflow.rootRunId": "4727684e-7f57-4b47-809a-c23b68bd145d",
         "mlflow.runName": "mango_curtain_ts32qzr2",
         "mlflow.user": "4b3a56ea-6f42-450e-b7c3-fb2932c7ac32",
         "synapseml.experiment.artifactId": "def0e41b-bf2a-4c5c-8970-7f8f29d2e61c",
         "synapseml.experimentName": "experiment-pt-need-for-rehab",
         "synapseml.livy.id": "f8972434-73df-4ded-b1a2-609fbbc233f6",
         "synapseml.notebook.artifactId": "1f319080-0c8b-41ec-bd3a-1ac600f02c7b",
         "synapseml.user.id": "5ceefbea-2f12-43ef-82e1-44dd8fc7ee0b",
         "synapseml.user.name": "atnip1"
        }
       },
       "info": {
        "artifact_uri": "sds://onelakewestus.pbidedicated.windows.net/8ee4903a-6e90-4510-b3c2-424d07933817/def0e41b-bf2a-4c5c-8970-7f8f29d2e61c/f95d25c6-b08f-4bcf-b77d-6d6b389e2855/artifacts",
        "end_time": 1723136253,
        "experiment_id": "c75cf239-8e7d-4523-abcb-9b0e7ded18d0",
        "lifecycle_stage": "active",
        "run_id": "f95d25c6-b08f-4bcf-b77d-6d6b389e2855",
        "run_name": "",
        "run_uuid": "f95d25c6-b08f-4bcf-b77d-6d6b389e2855",
        "start_time": 1723136090,
        "status": "FINISHED",
        "user_id": "7ebfac85-3ebb-440f-a743-e52052051f6a"
       },
       "inputs": {
        "dataset_inputs": []
       }
      }
     },
     "metadata": {},
     "output_type": "display_data"
    },
    {
     "data": {
      "application/vnd.mlflow.run-widget+json": {
       "data": {
        "metrics": {
         "avg_accuracy": 0.8198135287065584,
         "std_accuracy": 0.04493168026833954
        },
        "params": {
         "bootstrap": "True",
         "cacheNodeIds": "False",
         "checkpointInterval": "10",
         "featureSubsetStrategy": "auto",
         "featuresCol": "features",
         "impurity": "gini",
         "labelCol": "label",
         "leafCol": "",
         "maxBins": "32",
         "maxDepth": "12",
         "maxMemoryInMB": "256",
         "minInfoGain": "0.0",
         "minInstancesPerNode": "32",
         "minWeightFractionPerNode": "0.0",
         "numTrees": "20",
         "predictionCol": "prediction",
         "probabilityCol": "probability",
         "rawPredictionCol": "rawPrediction",
         "seed": "1",
         "subsamplingRate": "1.0"
        },
        "tags": {
         "estimator_class": "pyspark.ml.classification.RandomForestClassifier",
         "estimator_name": "RandomForestClassifier",
         "mlflow.autologging": "pyspark.ml",
         "mlflow.parentRunId": "4727684e-7f57-4b47-809a-c23b68bd145d",
         "mlflow.rootRunId": "4727684e-7f57-4b47-809a-c23b68bd145d",
         "mlflow.runName": "honest_vinegar_jhc5yqpz",
         "mlflow.user": "4b3a56ea-6f42-450e-b7c3-fb2932c7ac32",
         "synapseml.experiment.artifactId": "def0e41b-bf2a-4c5c-8970-7f8f29d2e61c",
         "synapseml.experimentName": "experiment-pt-need-for-rehab",
         "synapseml.livy.id": "f8972434-73df-4ded-b1a2-609fbbc233f6",
         "synapseml.notebook.artifactId": "1f319080-0c8b-41ec-bd3a-1ac600f02c7b",
         "synapseml.user.id": "5ceefbea-2f12-43ef-82e1-44dd8fc7ee0b",
         "synapseml.user.name": "atnip1"
        }
       },
       "info": {
        "artifact_uri": "sds://onelakewestus.pbidedicated.windows.net/8ee4903a-6e90-4510-b3c2-424d07933817/def0e41b-bf2a-4c5c-8970-7f8f29d2e61c/4aa87d96-d37e-45bd-8926-d239891a179e/artifacts",
        "end_time": 1723136255,
        "experiment_id": "c75cf239-8e7d-4523-abcb-9b0e7ded18d0",
        "lifecycle_stage": "active",
        "run_id": "4aa87d96-d37e-45bd-8926-d239891a179e",
        "run_name": "",
        "run_uuid": "4aa87d96-d37e-45bd-8926-d239891a179e",
        "start_time": 1723136090,
        "status": "FINISHED",
        "user_id": "7ebfac85-3ebb-440f-a743-e52052051f6a"
       },
       "inputs": {
        "dataset_inputs": []
       }
      }
     },
     "metadata": {},
     "output_type": "display_data"
    },
    {
     "data": {
      "application/vnd.mlflow.run-widget+json": {
       "data": {
        "metrics": {
         "avg_accuracy": 0.8200959866884523,
         "std_accuracy": 0.034567218198802326
        },
        "params": {
         "bootstrap": "True",
         "cacheNodeIds": "False",
         "checkpointInterval": "10",
         "featureSubsetStrategy": "auto",
         "featuresCol": "features",
         "impurity": "gini",
         "labelCol": "label",
         "leafCol": "",
         "maxBins": "32",
         "maxDepth": "14",
         "maxMemoryInMB": "256",
         "minInfoGain": "0.0",
         "minInstancesPerNode": "4",
         "minWeightFractionPerNode": "0.0",
         "numTrees": "20",
         "predictionCol": "prediction",
         "probabilityCol": "probability",
         "rawPredictionCol": "rawPrediction",
         "seed": "1",
         "subsamplingRate": "1.0"
        },
        "tags": {
         "estimator_class": "pyspark.ml.classification.RandomForestClassifier",
         "estimator_name": "RandomForestClassifier",
         "mlflow.autologging": "pyspark.ml",
         "mlflow.parentRunId": "4727684e-7f57-4b47-809a-c23b68bd145d",
         "mlflow.rootRunId": "4727684e-7f57-4b47-809a-c23b68bd145d",
         "mlflow.runName": "bold_pen_hgswt1wb",
         "mlflow.user": "4b3a56ea-6f42-450e-b7c3-fb2932c7ac32",
         "synapseml.experiment.artifactId": "def0e41b-bf2a-4c5c-8970-7f8f29d2e61c",
         "synapseml.experimentName": "experiment-pt-need-for-rehab",
         "synapseml.livy.id": "f8972434-73df-4ded-b1a2-609fbbc233f6",
         "synapseml.notebook.artifactId": "1f319080-0c8b-41ec-bd3a-1ac600f02c7b",
         "synapseml.user.id": "5ceefbea-2f12-43ef-82e1-44dd8fc7ee0b",
         "synapseml.user.name": "atnip1"
        }
       },
       "info": {
        "artifact_uri": "sds://onelakewestus.pbidedicated.windows.net/8ee4903a-6e90-4510-b3c2-424d07933817/def0e41b-bf2a-4c5c-8970-7f8f29d2e61c/64d82325-2548-4383-a1bb-33d60c2278fc/artifacts",
        "end_time": 1723136257,
        "experiment_id": "c75cf239-8e7d-4523-abcb-9b0e7ded18d0",
        "lifecycle_stage": "active",
        "run_id": "64d82325-2548-4383-a1bb-33d60c2278fc",
        "run_name": "",
        "run_uuid": "64d82325-2548-4383-a1bb-33d60c2278fc",
        "start_time": 1723136090,
        "status": "FINISHED",
        "user_id": "7ebfac85-3ebb-440f-a743-e52052051f6a"
       },
       "inputs": {
        "dataset_inputs": []
       }
      }
     },
     "metadata": {},
     "output_type": "display_data"
    },
    {
     "data": {
      "application/vnd.mlflow.run-widget+json": {
       "data": {
        "metrics": {
         "avg_accuracy": 0.8224882202047793,
         "std_accuracy": 0.043529543020883826
        },
        "params": {
         "bootstrap": "True",
         "cacheNodeIds": "False",
         "checkpointInterval": "10",
         "featureSubsetStrategy": "auto",
         "featuresCol": "features",
         "impurity": "gini",
         "labelCol": "label",
         "leafCol": "",
         "maxBins": "32",
         "maxDepth": "14",
         "maxMemoryInMB": "256",
         "minInfoGain": "0.0",
         "minInstancesPerNode": "8",
         "minWeightFractionPerNode": "0.0",
         "numTrees": "20",
         "predictionCol": "prediction",
         "probabilityCol": "probability",
         "rawPredictionCol": "rawPrediction",
         "seed": "1",
         "subsamplingRate": "1.0"
        },
        "tags": {
         "estimator_class": "pyspark.ml.classification.RandomForestClassifier",
         "estimator_name": "RandomForestClassifier",
         "mlflow.autologging": "pyspark.ml",
         "mlflow.parentRunId": "4727684e-7f57-4b47-809a-c23b68bd145d",
         "mlflow.rootRunId": "4727684e-7f57-4b47-809a-c23b68bd145d",
         "mlflow.runName": "sweet_fennel_n3th24p7",
         "mlflow.user": "4b3a56ea-6f42-450e-b7c3-fb2932c7ac32",
         "synapseml.experiment.artifactId": "def0e41b-bf2a-4c5c-8970-7f8f29d2e61c",
         "synapseml.experimentName": "experiment-pt-need-for-rehab",
         "synapseml.livy.id": "f8972434-73df-4ded-b1a2-609fbbc233f6",
         "synapseml.notebook.artifactId": "1f319080-0c8b-41ec-bd3a-1ac600f02c7b",
         "synapseml.user.id": "5ceefbea-2f12-43ef-82e1-44dd8fc7ee0b",
         "synapseml.user.name": "atnip1"
        }
       },
       "info": {
        "artifact_uri": "sds://onelakewestus.pbidedicated.windows.net/8ee4903a-6e90-4510-b3c2-424d07933817/def0e41b-bf2a-4c5c-8970-7f8f29d2e61c/2cd55843-8978-4093-9214-29930effb1a1/artifacts",
        "end_time": 1723136258,
        "experiment_id": "c75cf239-8e7d-4523-abcb-9b0e7ded18d0",
        "lifecycle_stage": "active",
        "run_id": "2cd55843-8978-4093-9214-29930effb1a1",
        "run_name": "",
        "run_uuid": "2cd55843-8978-4093-9214-29930effb1a1",
        "start_time": 1723136090,
        "status": "FINISHED",
        "user_id": "7ebfac85-3ebb-440f-a743-e52052051f6a"
       },
       "inputs": {
        "dataset_inputs": []
       }
      }
     },
     "metadata": {},
     "output_type": "display_data"
    },
    {
     "data": {
      "application/vnd.mlflow.run-widget+json": {
       "data": {
        "metrics": {
         "avg_accuracy": 0.8310274890643544,
         "std_accuracy": 0.051368162108251764
        },
        "params": {
         "bootstrap": "True",
         "cacheNodeIds": "False",
         "checkpointInterval": "10",
         "featureSubsetStrategy": "auto",
         "featuresCol": "features",
         "impurity": "gini",
         "labelCol": "label",
         "leafCol": "",
         "maxBins": "32",
         "maxDepth": "14",
         "maxMemoryInMB": "256",
         "minInfoGain": "0.0",
         "minInstancesPerNode": "16",
         "minWeightFractionPerNode": "0.0",
         "numTrees": "20",
         "predictionCol": "prediction",
         "probabilityCol": "probability",
         "rawPredictionCol": "rawPrediction",
         "seed": "1",
         "subsamplingRate": "1.0"
        },
        "tags": {
         "estimator_class": "pyspark.ml.classification.RandomForestClassifier",
         "estimator_name": "RandomForestClassifier",
         "mlflow.autologging": "pyspark.ml",
         "mlflow.parentRunId": "4727684e-7f57-4b47-809a-c23b68bd145d",
         "mlflow.rootRunId": "4727684e-7f57-4b47-809a-c23b68bd145d",
         "mlflow.runName": "lime_soca_n770y7rw",
         "mlflow.user": "4b3a56ea-6f42-450e-b7c3-fb2932c7ac32",
         "synapseml.experiment.artifactId": "def0e41b-bf2a-4c5c-8970-7f8f29d2e61c",
         "synapseml.experimentName": "experiment-pt-need-for-rehab",
         "synapseml.livy.id": "f8972434-73df-4ded-b1a2-609fbbc233f6",
         "synapseml.notebook.artifactId": "1f319080-0c8b-41ec-bd3a-1ac600f02c7b",
         "synapseml.user.id": "5ceefbea-2f12-43ef-82e1-44dd8fc7ee0b",
         "synapseml.user.name": "atnip1"
        }
       },
       "info": {
        "artifact_uri": "sds://onelakewestus.pbidedicated.windows.net/8ee4903a-6e90-4510-b3c2-424d07933817/def0e41b-bf2a-4c5c-8970-7f8f29d2e61c/355dea97-86a2-46e6-8f1b-415e4a43561b/artifacts",
        "end_time": 1723136260,
        "experiment_id": "c75cf239-8e7d-4523-abcb-9b0e7ded18d0",
        "lifecycle_stage": "active",
        "run_id": "355dea97-86a2-46e6-8f1b-415e4a43561b",
        "run_name": "",
        "run_uuid": "355dea97-86a2-46e6-8f1b-415e4a43561b",
        "start_time": 1723136090,
        "status": "FINISHED",
        "user_id": "7ebfac85-3ebb-440f-a743-e52052051f6a"
       },
       "inputs": {
        "dataset_inputs": []
       }
      }
     },
     "metadata": {},
     "output_type": "display_data"
    },
    {
     "data": {
      "application/vnd.mlflow.run-widget+json": {
       "data": {
        "metrics": {
         "avg_accuracy": 0.8198135287065584,
         "std_accuracy": 0.04493168026833954
        },
        "params": {
         "bootstrap": "True",
         "cacheNodeIds": "False",
         "checkpointInterval": "10",
         "featureSubsetStrategy": "auto",
         "featuresCol": "features",
         "impurity": "gini",
         "labelCol": "label",
         "leafCol": "",
         "maxBins": "32",
         "maxDepth": "14",
         "maxMemoryInMB": "256",
         "minInfoGain": "0.0",
         "minInstancesPerNode": "32",
         "minWeightFractionPerNode": "0.0",
         "numTrees": "20",
         "predictionCol": "prediction",
         "probabilityCol": "probability",
         "rawPredictionCol": "rawPrediction",
         "seed": "1",
         "subsamplingRate": "1.0"
        },
        "tags": {
         "estimator_class": "pyspark.ml.classification.RandomForestClassifier",
         "estimator_name": "RandomForestClassifier",
         "mlflow.autologging": "pyspark.ml",
         "mlflow.parentRunId": "4727684e-7f57-4b47-809a-c23b68bd145d",
         "mlflow.rootRunId": "4727684e-7f57-4b47-809a-c23b68bd145d",
         "mlflow.runName": "helpful_yuca_9lfds3jy",
         "mlflow.user": "4b3a56ea-6f42-450e-b7c3-fb2932c7ac32",
         "synapseml.experiment.artifactId": "def0e41b-bf2a-4c5c-8970-7f8f29d2e61c",
         "synapseml.experimentName": "experiment-pt-need-for-rehab",
         "synapseml.livy.id": "f8972434-73df-4ded-b1a2-609fbbc233f6",
         "synapseml.notebook.artifactId": "1f319080-0c8b-41ec-bd3a-1ac600f02c7b",
         "synapseml.user.id": "5ceefbea-2f12-43ef-82e1-44dd8fc7ee0b",
         "synapseml.user.name": "atnip1"
        }
       },
       "info": {
        "artifact_uri": "sds://onelakewestus.pbidedicated.windows.net/8ee4903a-6e90-4510-b3c2-424d07933817/def0e41b-bf2a-4c5c-8970-7f8f29d2e61c/9cf09d17-8a7d-4cb2-872c-bf16329d6ebb/artifacts",
        "end_time": 1723136262,
        "experiment_id": "c75cf239-8e7d-4523-abcb-9b0e7ded18d0",
        "lifecycle_stage": "active",
        "run_id": "9cf09d17-8a7d-4cb2-872c-bf16329d6ebb",
        "run_name": "",
        "run_uuid": "9cf09d17-8a7d-4cb2-872c-bf16329d6ebb",
        "start_time": 1723136090,
        "status": "FINISHED",
        "user_id": "7ebfac85-3ebb-440f-a743-e52052051f6a"
       },
       "inputs": {
        "dataset_inputs": []
       }
      }
     },
     "metadata": {},
     "output_type": "display_data"
    },
    {
     "data": {
      "application/vnd.mlflow.run-widget+json": {
       "data": {
        "metrics": {
         "avg_accuracy": 0.8200959866884523,
         "std_accuracy": 0.034567218198802326
        },
        "params": {
         "bootstrap": "True",
         "cacheNodeIds": "False",
         "checkpointInterval": "10",
         "featureSubsetStrategy": "auto",
         "featuresCol": "features",
         "impurity": "gini",
         "labelCol": "label",
         "leafCol": "",
         "maxBins": "32",
         "maxDepth": "16",
         "maxMemoryInMB": "256",
         "minInfoGain": "0.0",
         "minInstancesPerNode": "4",
         "minWeightFractionPerNode": "0.0",
         "numTrees": "20",
         "predictionCol": "prediction",
         "probabilityCol": "probability",
         "rawPredictionCol": "rawPrediction",
         "seed": "1",
         "subsamplingRate": "1.0"
        },
        "tags": {
         "estimator_class": "pyspark.ml.classification.RandomForestClassifier",
         "estimator_name": "RandomForestClassifier",
         "mlflow.autologging": "pyspark.ml",
         "mlflow.parentRunId": "4727684e-7f57-4b47-809a-c23b68bd145d",
         "mlflow.rootRunId": "4727684e-7f57-4b47-809a-c23b68bd145d",
         "mlflow.runName": "purple_zebra_3x7xt00b",
         "mlflow.user": "4b3a56ea-6f42-450e-b7c3-fb2932c7ac32",
         "synapseml.experiment.artifactId": "def0e41b-bf2a-4c5c-8970-7f8f29d2e61c",
         "synapseml.experimentName": "experiment-pt-need-for-rehab",
         "synapseml.livy.id": "f8972434-73df-4ded-b1a2-609fbbc233f6",
         "synapseml.notebook.artifactId": "1f319080-0c8b-41ec-bd3a-1ac600f02c7b",
         "synapseml.user.id": "5ceefbea-2f12-43ef-82e1-44dd8fc7ee0b",
         "synapseml.user.name": "atnip1"
        }
       },
       "info": {
        "artifact_uri": "sds://onelakewestus.pbidedicated.windows.net/8ee4903a-6e90-4510-b3c2-424d07933817/def0e41b-bf2a-4c5c-8970-7f8f29d2e61c/d715ae4d-c58c-4432-ba68-a50d7ed3cbf1/artifacts",
        "end_time": 1723136264,
        "experiment_id": "c75cf239-8e7d-4523-abcb-9b0e7ded18d0",
        "lifecycle_stage": "active",
        "run_id": "d715ae4d-c58c-4432-ba68-a50d7ed3cbf1",
        "run_name": "",
        "run_uuid": "d715ae4d-c58c-4432-ba68-a50d7ed3cbf1",
        "start_time": 1723136090,
        "status": "FINISHED",
        "user_id": "7ebfac85-3ebb-440f-a743-e52052051f6a"
       },
       "inputs": {
        "dataset_inputs": []
       }
      }
     },
     "metadata": {},
     "output_type": "display_data"
    },
    {
     "data": {
      "application/vnd.mlflow.run-widget+json": {
       "data": {
        "metrics": {
         "avg_accuracy": 0.8224882202047793,
         "std_accuracy": 0.043529543020883826
        },
        "params": {
         "bootstrap": "True",
         "cacheNodeIds": "False",
         "checkpointInterval": "10",
         "featureSubsetStrategy": "auto",
         "featuresCol": "features",
         "impurity": "gini",
         "labelCol": "label",
         "leafCol": "",
         "maxBins": "32",
         "maxDepth": "16",
         "maxMemoryInMB": "256",
         "minInfoGain": "0.0",
         "minInstancesPerNode": "8",
         "minWeightFractionPerNode": "0.0",
         "numTrees": "20",
         "predictionCol": "prediction",
         "probabilityCol": "probability",
         "rawPredictionCol": "rawPrediction",
         "seed": "1",
         "subsamplingRate": "1.0"
        },
        "tags": {
         "estimator_class": "pyspark.ml.classification.RandomForestClassifier",
         "estimator_name": "RandomForestClassifier",
         "mlflow.autologging": "pyspark.ml",
         "mlflow.parentRunId": "4727684e-7f57-4b47-809a-c23b68bd145d",
         "mlflow.rootRunId": "4727684e-7f57-4b47-809a-c23b68bd145d",
         "mlflow.runName": "zen_parcel_rmbxv303",
         "mlflow.user": "4b3a56ea-6f42-450e-b7c3-fb2932c7ac32",
         "synapseml.experiment.artifactId": "def0e41b-bf2a-4c5c-8970-7f8f29d2e61c",
         "synapseml.experimentName": "experiment-pt-need-for-rehab",
         "synapseml.livy.id": "f8972434-73df-4ded-b1a2-609fbbc233f6",
         "synapseml.notebook.artifactId": "1f319080-0c8b-41ec-bd3a-1ac600f02c7b",
         "synapseml.user.id": "5ceefbea-2f12-43ef-82e1-44dd8fc7ee0b",
         "synapseml.user.name": "atnip1"
        }
       },
       "info": {
        "artifact_uri": "sds://onelakewestus.pbidedicated.windows.net/8ee4903a-6e90-4510-b3c2-424d07933817/def0e41b-bf2a-4c5c-8970-7f8f29d2e61c/656cad62-de42-4154-8964-a0615eb360c3/artifacts",
        "end_time": 1723136265,
        "experiment_id": "c75cf239-8e7d-4523-abcb-9b0e7ded18d0",
        "lifecycle_stage": "active",
        "run_id": "656cad62-de42-4154-8964-a0615eb360c3",
        "run_name": "",
        "run_uuid": "656cad62-de42-4154-8964-a0615eb360c3",
        "start_time": 1723136090,
        "status": "FINISHED",
        "user_id": "7ebfac85-3ebb-440f-a743-e52052051f6a"
       },
       "inputs": {
        "dataset_inputs": []
       }
      }
     },
     "metadata": {},
     "output_type": "display_data"
    },
    {
     "data": {
      "application/vnd.mlflow.run-widget+json": {
       "data": {
        "metrics": {
         "avg_accuracy": 0.8310274890643544,
         "std_accuracy": 0.051368162108251764
        },
        "params": {
         "bootstrap": "True",
         "cacheNodeIds": "False",
         "checkpointInterval": "10",
         "featureSubsetStrategy": "auto",
         "featuresCol": "features",
         "impurity": "gini",
         "labelCol": "label",
         "leafCol": "",
         "maxBins": "32",
         "maxDepth": "16",
         "maxMemoryInMB": "256",
         "minInfoGain": "0.0",
         "minInstancesPerNode": "16",
         "minWeightFractionPerNode": "0.0",
         "numTrees": "20",
         "predictionCol": "prediction",
         "probabilityCol": "probability",
         "rawPredictionCol": "rawPrediction",
         "seed": "1",
         "subsamplingRate": "1.0"
        },
        "tags": {
         "estimator_class": "pyspark.ml.classification.RandomForestClassifier",
         "estimator_name": "RandomForestClassifier",
         "mlflow.autologging": "pyspark.ml",
         "mlflow.parentRunId": "4727684e-7f57-4b47-809a-c23b68bd145d",
         "mlflow.rootRunId": "4727684e-7f57-4b47-809a-c23b68bd145d",
         "mlflow.runName": "yellow_seed_917ygfqf",
         "mlflow.user": "4b3a56ea-6f42-450e-b7c3-fb2932c7ac32",
         "synapseml.experiment.artifactId": "def0e41b-bf2a-4c5c-8970-7f8f29d2e61c",
         "synapseml.experimentName": "experiment-pt-need-for-rehab",
         "synapseml.livy.id": "f8972434-73df-4ded-b1a2-609fbbc233f6",
         "synapseml.notebook.artifactId": "1f319080-0c8b-41ec-bd3a-1ac600f02c7b",
         "synapseml.user.id": "5ceefbea-2f12-43ef-82e1-44dd8fc7ee0b",
         "synapseml.user.name": "atnip1"
        }
       },
       "info": {
        "artifact_uri": "sds://onelakewestus.pbidedicated.windows.net/8ee4903a-6e90-4510-b3c2-424d07933817/def0e41b-bf2a-4c5c-8970-7f8f29d2e61c/f2f83764-5310-4783-b9ea-7352626189b4/artifacts",
        "end_time": 1723136267,
        "experiment_id": "c75cf239-8e7d-4523-abcb-9b0e7ded18d0",
        "lifecycle_stage": "active",
        "run_id": "f2f83764-5310-4783-b9ea-7352626189b4",
        "run_name": "",
        "run_uuid": "f2f83764-5310-4783-b9ea-7352626189b4",
        "start_time": 1723136090,
        "status": "FINISHED",
        "user_id": "7ebfac85-3ebb-440f-a743-e52052051f6a"
       },
       "inputs": {
        "dataset_inputs": []
       }
      }
     },
     "metadata": {},
     "output_type": "display_data"
    },
    {
     "data": {
      "application/vnd.mlflow.run-widget+json": {
       "data": {
        "metrics": {
         "avg_accuracy": 0.8198135287065584,
         "std_accuracy": 0.04493168026833954
        },
        "params": {
         "bootstrap": "True",
         "cacheNodeIds": "False",
         "checkpointInterval": "10",
         "featureSubsetStrategy": "auto",
         "featuresCol": "features",
         "impurity": "gini",
         "labelCol": "label",
         "leafCol": "",
         "maxBins": "32",
         "maxDepth": "16",
         "maxMemoryInMB": "256",
         "minInfoGain": "0.0",
         "minInstancesPerNode": "32",
         "minWeightFractionPerNode": "0.0",
         "numTrees": "20",
         "predictionCol": "prediction",
         "probabilityCol": "probability",
         "rawPredictionCol": "rawPrediction",
         "seed": "1",
         "subsamplingRate": "1.0"
        },
        "tags": {
         "estimator_class": "pyspark.ml.classification.RandomForestClassifier",
         "estimator_name": "RandomForestClassifier",
         "mlflow.autologging": "pyspark.ml",
         "mlflow.parentRunId": "4727684e-7f57-4b47-809a-c23b68bd145d",
         "mlflow.rootRunId": "4727684e-7f57-4b47-809a-c23b68bd145d",
         "mlflow.runName": "sharp_glass_3y8bzdpr",
         "mlflow.user": "4b3a56ea-6f42-450e-b7c3-fb2932c7ac32",
         "synapseml.experiment.artifactId": "def0e41b-bf2a-4c5c-8970-7f8f29d2e61c",
         "synapseml.experimentName": "experiment-pt-need-for-rehab",
         "synapseml.livy.id": "f8972434-73df-4ded-b1a2-609fbbc233f6",
         "synapseml.notebook.artifactId": "1f319080-0c8b-41ec-bd3a-1ac600f02c7b",
         "synapseml.user.id": "5ceefbea-2f12-43ef-82e1-44dd8fc7ee0b",
         "synapseml.user.name": "atnip1"
        }
       },
       "info": {
        "artifact_uri": "sds://onelakewestus.pbidedicated.windows.net/8ee4903a-6e90-4510-b3c2-424d07933817/def0e41b-bf2a-4c5c-8970-7f8f29d2e61c/4abc8d37-09b5-422a-94a5-0b45b53fab6e/artifacts",
        "end_time": 1723136269,
        "experiment_id": "c75cf239-8e7d-4523-abcb-9b0e7ded18d0",
        "lifecycle_stage": "active",
        "run_id": "4abc8d37-09b5-422a-94a5-0b45b53fab6e",
        "run_name": "",
        "run_uuid": "4abc8d37-09b5-422a-94a5-0b45b53fab6e",
        "start_time": 1723136090,
        "status": "FINISHED",
        "user_id": "7ebfac85-3ebb-440f-a743-e52052051f6a"
       },
       "inputs": {
        "dataset_inputs": []
       }
      }
     },
     "metadata": {},
     "output_type": "display_data"
    },
    {
     "data": {
      "application/vnd.mlflow.run-widget+json": {
       "data": {
        "metrics": {},
        "params": {
         "MulticlassClassificationEvaluator.beta": "1.0",
         "MulticlassClassificationEvaluator.eps": "1e-15",
         "MulticlassClassificationEvaluator.labelCol": "label",
         "MulticlassClassificationEvaluator.metricLabel": "0.0",
         "MulticlassClassificationEvaluator.metricName": "accuracy",
         "MulticlassClassificationEvaluator.predictionCol": "prediction",
         "MulticlassClassificationEvaluator.probabilityCol": "probability",
         "best_RandomForestClassifier.maxDepth": "4",
         "best_RandomForestClassifier.minInstancesPerNode": "8",
         "collectSubModels": "False",
         "estimator": "RandomForestClassifier",
         "evaluator": "MulticlassClassificationEvaluator",
         "foldCol": "",
         "numFolds": "10",
         "parallelism": "6",
         "seed": "1"
        },
        "tags": {
         "estimator_class": "pyspark.ml.tuning.CrossValidator",
         "estimator_name": "CrossValidator",
         "mlflow.autologging": "pyspark.ml",
         "mlflow.rootRunId": "4727684e-7f57-4b47-809a-c23b68bd145d",
         "mlflow.runName": "orange_window_ysz8y7pp",
         "mlflow.user": "4b3a56ea-6f42-450e-b7c3-fb2932c7ac32",
         "synapseml.experiment.artifactId": "def0e41b-bf2a-4c5c-8970-7f8f29d2e61c",
         "synapseml.experimentName": "experiment-pt-need-for-rehab",
         "synapseml.livy.id": "f8972434-73df-4ded-b1a2-609fbbc233f6",
         "synapseml.notebook.artifactId": "1f319080-0c8b-41ec-bd3a-1ac600f02c7b",
         "synapseml.user.id": "5ceefbea-2f12-43ef-82e1-44dd8fc7ee0b",
         "synapseml.user.name": "atnip1"
        }
       },
       "info": {
        "artifact_uri": "sds://onelakewestus.pbidedicated.windows.net/8ee4903a-6e90-4510-b3c2-424d07933817/def0e41b-bf2a-4c5c-8970-7f8f29d2e61c/4727684e-7f57-4b47-809a-c23b68bd145d/artifacts",
        "end_time": 1723136296,
        "experiment_id": "c75cf239-8e7d-4523-abcb-9b0e7ded18d0",
        "lifecycle_stage": "active",
        "run_id": "4727684e-7f57-4b47-809a-c23b68bd145d",
        "run_name": "",
        "run_uuid": "4727684e-7f57-4b47-809a-c23b68bd145d",
        "start_time": 1723136090,
        "status": "FINISHED",
        "user_id": "7ebfac85-3ebb-440f-a743-e52052051f6a"
       },
       "inputs": {
        "dataset_inputs": []
       }
      }
     },
     "metadata": {},
     "output_type": "display_data"
    },
    {
     "name": "stdout",
     "output_type": "stream",
     "text": [
      "Max CV Score:   0.8324\n",
      "Optimal Depth:   4\n",
      "Optimal MinInst: 8\n"
     ]
    }
   ],
   "source": [
    "pipeline = Pipeline(stages=[label_indexer, feature_indexer, assembler]).fit(spark_df_reduced)\n",
    "spark_df_pipeline_reduced = pipeline.transform(spark_df_reduced)\n",
    "\n",
    "train_reduced, test_reduced = spark_df_pipeline_reduced.randomSplit([0.8, 0.2], seed=1)\n",
    "\n",
    "accuracy_eval = MulticlassClassificationEvaluator(\n",
    "    predictionCol='prediction', labelCol='label', metricName='accuracy')\n",
    "\n",
    "rforest = RandomForestClassifier(featuresCol='features', labelCol='label', numTrees=20, seed=1)\n",
    " \n",
    "param_grid = (ParamGridBuilder()\n",
    "              .addGrid(rforest.maxDepth, range(2, 18, 2) )\n",
    "              .addGrid(rforest.minInstancesPerNode, [4, 8, 16, 32])\n",
    "              ).build()\n",
    " \n",
    "cv_reduced = CrossValidator(estimator=rforest, estimatorParamMaps=param_grid, numFolds=10, \n",
    "                    evaluator=accuracy_eval, seed=1, parallelism=6)\n",
    " \n",
    "cv_model_reduced = cv_reduced.fit(train_reduced)\n",
    " \n",
    "opt_rf_model_reduced = cv_model_reduced.bestModel\n",
    "opt_maxDepth_reduced = opt_rf_model_reduced.getMaxDepth()\n",
    "opt_minInstancesPerNode_reduced = opt_rf_model_reduced.getMinInstancesPerNode()\n",
    "\n",
    "print('Max CV Score:  ', round(max(cv_model_reduced.avgMetrics),4))\n",
    "print('Optimal Depth:  ', opt_maxDepth_reduced)\n",
    "print('Optimal MinInst:', opt_minInstancesPerNode_reduced)"
   ]
  },
  {
   "cell_type": "code",
   "execution_count": 18,
   "id": "9675fe20-d974-4969-a052-f071a831fdfc",
   "metadata": {
    "microsoft": {
     "language": "python",
     "language_group": "synapse_pyspark"
    }
   },
   "outputs": [
    {
     "data": {
      "application/vnd.livy.statement-meta+json": {
       "execution_finish_time": "2024-08-08T16:58:22.2020988Z",
       "execution_start_time": "2024-08-08T16:58:21.918765Z",
       "livy_statement_state": "available",
       "normalized_state": "finished",
       "parent_msg_id": "10bc22d6-5a83-41a3-8703-1333592df825",
       "queued_time": "2024-08-08T16:49:02.223259Z",
       "session_id": "f8972434-73df-4ded-b1a2-609fbbc233f6",
       "session_start_time": null,
       "spark_pool": null,
       "state": "finished",
       "statement_id": 20,
       "statement_ids": [
        20
       ]
      },
      "text/plain": [
       "StatementMeta(, f8972434-73df-4ded-b1a2-609fbbc233f6, 20, Finished, Available, Finished)"
      ]
     },
     "metadata": {},
     "output_type": "display_data"
    },
    {
     "data": {
      "image/png": "[encoded data removed]",
      "text/plain": [
       "<Figure size 640x480 with 1 Axes>"
      ]
     },
     "metadata": {},
     "output_type": "display_data"
    }
   ],
   "source": [
    "graph_params(cv_model_reduced)"
   ]
  },
  {
   "cell_type": "code",
   "execution_count": 19,
   "id": "aa103d2a-daa5-4a25-864b-0dabbff2a12f",
   "metadata": {
    "microsoft": {
     "language": "python",
     "language_group": "synapse_pyspark"
    }
   },
   "outputs": [
    {
     "data": {
      "application/vnd.livy.statement-meta+json": {
       "execution_finish_time": "2024-08-08T16:58:27.7284221Z",
       "execution_start_time": "2024-08-08T16:58:22.729319Z",
       "livy_statement_state": "available",
       "normalized_state": "finished",
       "parent_msg_id": "40c68bf0-d9b7-43cd-b162-dc8d67fb8b7f",
       "queued_time": "2024-08-08T16:49:02.2702317Z",
       "session_id": "f8972434-73df-4ded-b1a2-609fbbc233f6",
       "session_start_time": null,
       "spark_pool": null,
       "state": "finished",
       "statement_id": 21,
       "statement_ids": [
        21
       ]
      },
      "text/plain": [
       "StatementMeta(, f8972434-73df-4ded-b1a2-609fbbc233f6, 21, Finished, Available, Finished)"
      ]
     },
     "metadata": {},
     "output_type": "display_data"
    },
    {
     "name": "stdout",
     "output_type": "stream",
     "text": [
      "+----------+-----+----+\n",
      "|need_rehab|count|prop|\n",
      "+----------+-----+----+\n",
      "|         1|  112|0.53|\n",
      "|         0|   99|0.47|\n",
      "+----------+-----+----+\n",
      "\n",
      "None\n",
      "Model Accuracy: 0.8483412322274881\n",
      "     0   1\n",
      "0  101  11\n",
      "1   21  78\n"
     ]
    },
    {
     "name": "stderr",
     "output_type": "stream",
     "text": [
      "/opt/spark/python/lib/pyspark.zip/pyspark/sql/context.py:157: FutureWarning: Deprecated in 3.0.0. Use SparkSession.builder.getOrCreate() instead.\n"
     ]
    }
   ],
   "source": [
    "print(count_proportions(opt_rf_model_reduced.transform(test_reduced)))\n",
    "print(f'Model Accuracy: {model_accuracy(opt_rf_model_reduced, test_reduced)}')\n",
    "print(model_cm(opt_rf_model_reduced, test_reduced))"
   ]
  },
  {
   "cell_type": "code",
   "execution_count": 20,
   "id": "40fb39c7-b51a-47d6-b5c3-9f11aa04e511",
   "metadata": {
    "microsoft": {
     "language": "python",
     "language_group": "synapse_pyspark"
    }
   },
   "outputs": [
    {
     "data": {
      "application/vnd.livy.statement-meta+json": {
       "execution_finish_time": "2024-08-08T16:58:28.5533193Z",
       "execution_start_time": "2024-08-08T16:58:28.2980684Z",
       "livy_statement_state": "available",
       "normalized_state": "finished",
       "parent_msg_id": "eb8484dd-d9ca-4638-917e-15ea5302bb00",
       "queued_time": "2024-08-08T16:49:02.3193726Z",
       "session_id": "f8972434-73df-4ded-b1a2-609fbbc233f6",
       "session_start_time": null,
       "spark_pool": null,
       "state": "finished",
       "statement_id": 22,
       "statement_ids": [
        22
       ]
      },
      "text/plain": [
       "StatementMeta(, f8972434-73df-4ded-b1a2-609fbbc233f6, 22, Finished, Available, Finished)"
      ]
     },
     "metadata": {},
     "output_type": "display_data"
    },
    {
     "data": {
      "text/html": [
       "<div>\n",
       "<style scoped>\n",
       "    .dataframe tbody tr th:only-of-type {\n",
       "        vertical-align: middle;\n",
       "    }\n",
       "\n",
       "    .dataframe tbody tr th {\n",
       "        vertical-align: top;\n",
       "    }\n",
       "\n",
       "    .dataframe thead th {\n",
       "        text-align: right;\n",
       "    }\n",
       "</style>\n",
       "<table border=\"1\" class=\"dataframe\">\n",
       "  <thead>\n",
       "    <tr style=\"text-align: right;\">\n",
       "      <th></th>\n",
       "      <th>features</th>\n",
       "      <th>importance</th>\n",
       "    </tr>\n",
       "  </thead>\n",
       "  <tbody>\n",
       "    <tr>\n",
       "      <th>1</th>\n",
       "      <td>amb_distance</td>\n",
       "      <td>0.647757</td>\n",
       "    </tr>\n",
       "    <tr>\n",
       "      <th>3</th>\n",
       "      <td>prior_loc</td>\n",
       "      <td>0.251046</td>\n",
       "    </tr>\n",
       "    <tr>\n",
       "      <th>4</th>\n",
       "      <td>pain</td>\n",
       "      <td>0.037036</td>\n",
       "    </tr>\n",
       "    <tr>\n",
       "      <th>2</th>\n",
       "      <td>fusion</td>\n",
       "      <td>0.033819</td>\n",
       "    </tr>\n",
       "    <tr>\n",
       "      <th>0</th>\n",
       "      <td>num_falls</td>\n",
       "      <td>0.030342</td>\n",
       "    </tr>\n",
       "  </tbody>\n",
       "</table>\n",
       "</div>"
      ],
      "text/plain": [
       "       features  importance\n",
       "1  amb_distance    0.647757\n",
       "3     prior_loc    0.251046\n",
       "4          pain    0.037036\n",
       "2        fusion    0.033819\n",
       "0     num_falls    0.030342"
      ]
     },
     "execution_count": 65,
     "metadata": {},
     "output_type": "execute_result"
    }
   ],
   "source": [
    "importances(num_features_reduced, cat_features_reduced, opt_rf_model_reduced).sort_values('importance', ascending= False)"
   ]
  }
 ],
 "metadata": {
  "dependencies": {
   "lakehouse": {
    "default_lakehouse": "e88fef1f-d55a-4f2c-bad7-9ecc1cafd638",
    "default_lakehouse_name": "PT_evals_lakehouse",
    "default_lakehouse_workspace_id": "8ee4903a-6e90-4510-b3c2-424d07933817"
   }
  },
  "kernel_info": {
   "name": "synapse_pyspark"
  },
  "kernelspec": {
   "display_name": "Python 3 (ipykernel)",
   "language": "python",
   "name": "python3"
  },
  "language_info": {
   "codemirror_mode": {
    "name": "ipython",
    "version": 3
   },
   "file_extension": ".py",
   "mimetype": "text/x-python",
   "name": "python",
   "nbconvert_exporter": "python",
   "pygments_lexer": "ipython3",
   "version": "3.11.5"
  },
  "microsoft": {
   "language": "python",
   "language_group": "synapse_pyspark",
   "ms_spell_check": {
    "ms_spell_check_language": "en"
   }
  },
  "nteract": {
   "version": "nteract-front-end@1.0.0"
  },
  "spark_compute": {
   "compute_id": "/trident/default"
  },
  "widgets": {}
 },
 "nbformat": 4,
 "nbformat_minor": 5
}
