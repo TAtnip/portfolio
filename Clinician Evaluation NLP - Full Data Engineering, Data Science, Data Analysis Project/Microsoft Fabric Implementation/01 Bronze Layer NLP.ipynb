{
 "cells": [
  {
   "cell_type": "markdown",
   "id": "a4bc5cee-5176-4979-aeed-1ae3460e3370",
   "metadata": {
    "microsoft": {
     "language": "python",
     "language_group": "synapse_pyspark"
    },
    "nteract": {
     "transient": {
      "deleting": false
     }
    }
   },
   "source": [
    "# Bronze Layer - Data Collection from PT Evaluations"
   ]
  },
  {
   "cell_type": "code",
   "execution_count": 4,
   "id": "5d158822-1607-4ae0-8643-ba20b64d0286",
   "metadata": {
    "microsoft": {
     "language": "python",
     "language_group": "synapse_pyspark"
    }
   },
   "outputs": [
    {
     "data": {
      "application/vnd.livy.statement-meta+json": {
       "execution_finish_time": "2024-08-09T14:53:03.0750339Z",
       "execution_start_time": "2024-08-09T14:53:02.1783702Z",
       "livy_statement_state": "available",
       "normalized_state": "finished",
       "parent_msg_id": "80f0574d-7891-4897-b786-89ee303f8673",
       "queued_time": "2024-08-09T14:53:01.5177845Z",
       "session_id": "13ab6e47-def1-4253-9e4e-d67e1a4d87c6",
       "session_start_time": null,
       "spark_pool": null,
       "state": "finished",
       "statement_id": 8,
       "statement_ids": [
        8
       ]
      },
      "text/plain": [
       "StatementMeta(, 13ab6e47-def1-4253-9e4e-d67e1a4d87c6, 8, Finished, Available, Finished)"
      ]
     },
     "metadata": {},
     "output_type": "display_data"
    }
   ],
   "source": [
    "import numpy as np\n",
    "import pandas as pd\n",
    "import requests\n",
    "from azure.storage.blob import BlobServiceClient\n",
    "from datetime import datetime\n",
    "\n",
    "\n",
    "connection_string = \"\"\n",
    "container_name = \"\"\n",
    "\n",
    "# Initialize the BlobServiceClient\n",
    "blob_service_client = BlobServiceClient.from_connection_string(connection_string)\n",
    "container_client = blob_service_client.get_container_client(container_name)\n",
    "blobs_to_load = []\n",
    "eval_date = []\n",
    "\n",
    "for blob in container_client.list_blobs():\n",
    "    if blob.creation_time and blob.creation_time.strftime(\"%Y-%m-%d\") >= last_added_date:\n",
    "        blobs_to_load.append(blob.name)\n",
    "        eval_date.append(blob.creation_time.strftime(\"%Y-%m-%d\"))\n",
    "\n",
    "\n",
    "\n",
    "# instream of blob text\n",
    "def read_blob_to_string(blob_name: str) -> str:\n",
    "    blob_url = f\"https://{blob_service_client.account_name}.blob.core.windows.net/{container_name}/{blob_name}\"\n",
    "    response = requests.get(blob_url)\n",
    "    return response.text\n"
   ]
  },
  {
   "cell_type": "code",
   "execution_count": 5,
   "id": "383980b9-9325-4c3d-971a-16e940c5eb54",
   "metadata": {
    "collapsed": false,
    "jupyter": {
     "outputs_hidden": false,
     "source_hidden": false
    },
    "microsoft": {
     "language": "python",
     "language_group": "synapse_pyspark"
    },
    "nteract": {
     "transient": {
      "deleting": false
     }
    }
   },
   "outputs": [
    {
     "data": {
      "application/vnd.livy.statement-meta+json": {
       "execution_finish_time": "2024-08-09T14:53:10.3322593Z",
       "execution_start_time": "2024-08-09T14:53:05.4630914Z",
       "livy_statement_state": "available",
       "normalized_state": "finished",
       "parent_msg_id": "9b4f669f-3708-449d-bad9-a0841f468a79",
       "queued_time": "2024-08-09T14:53:04.9005253Z",
       "session_id": "13ab6e47-def1-4253-9e4e-d67e1a4d87c6",
       "session_start_time": null,
       "spark_pool": null,
       "state": "finished",
       "statement_id": 9,
       "statement_ids": [
        9
       ]
      },
      "text/plain": [
       "StatementMeta(, 13ab6e47-def1-4253-9e4e-d67e1a4d87c6, 9, Finished, Available, Finished)"
      ]
     },
     "metadata": {},
     "output_type": "display_data"
    }
   ],
   "source": [
    "# Feature information\n",
    "\n",
    "age_sex = []\n",
    "fusion = []\n",
    "ordering_provider = []\n",
    "brace = []\n",
    "pain = []\n",
    "plof = []\n",
    "mobility = []\n",
    "\n",
    "# Process each blob\n",
    "for blob in blobs_to_load:\n",
    "    \n",
    "    # Read the blob content\n",
    "    content = read_blob_to_string(blob)\n",
    "    lines = content.split('\\n')    \n",
    "    collect_plof = False\n",
    "    collect_mobility = False\n",
    "    curr_mobility = []\n",
    "    curr_plof = []\n",
    "    \n",
    "    ## Initial data collection from evaluations\n",
    "    for line in lines:\n",
    "        line = line.lower()\n",
    "        if line.startswith('reason for admission:'):\n",
    "            fusion.append(line.split('reason for admission:')[1].strip())\n",
    "        if line.startswith('ordered by:'):\n",
    "            ordering_provider.append(line.split('ordered by:')[1].strip())\n",
    "        if line.startswith('precautions:'):\n",
    "            brace.append(line.split('precautions:')[1].strip())\n",
    "        if line.startswith('subjective:'):\n",
    "            pain.append(line.split('subjective:')[1].strip())\n",
    "        if line.startswith('living situation/prior level of function:'):\n",
    "            collect_plof = True\n",
    "            curr_plof.append(line.split('living situation/prior level of function:')[1].strip())\n",
    "            continue\n",
    "        if line.startswith(\"objective:\"):\n",
    "            collect_plof = False\n",
    "        if collect_plof:\n",
    "            curr_plof.append(line)\n",
    "        if line.startswith('appearance:'):\n",
    "            age_sex.append(line.split('appearance:')[1].strip())\n",
    "        if line.startswith('mobility assessment:'):\n",
    "            collect_mobility = True\n",
    "            continue\n",
    "        if line.startswith(\"assessment:\"):\n",
    "            collect_mobility = False\n",
    "        if collect_mobility:\n",
    "            curr_mobility.append(line)\n",
    "    mobility.append(''.join(curr_mobility))\n",
    "    plof.append(''.join(curr_plof))"
   ]
  },
  {
   "cell_type": "code",
   "execution_count": 7,
   "id": "972e4d54-1b02-4a00-aede-ee510c8d0ff9",
   "metadata": {
    "collapsed": false,
    "jupyter": {
     "outputs_hidden": false,
     "source_hidden": false
    },
    "microsoft": {
     "language": "python",
     "language_group": "synapse_pyspark"
    },
    "nteract": {
     "transient": {
      "deleting": false
     }
    }
   },
   "outputs": [
    {
     "data": {
      "application/vnd.livy.statement-meta+json": {
       "execution_finish_time": "2024-08-09T14:54:43.3770222Z",
       "execution_start_time": "2024-08-09T14:54:26.8180049Z",
       "livy_statement_state": "available",
       "normalized_state": "finished",
       "parent_msg_id": "de6ebfcc-68e8-4cbe-89a4-d29a199d8020",
       "queued_time": "2024-08-09T14:54:26.1739842Z",
       "session_id": "13ab6e47-def1-4253-9e4e-d67e1a4d87c6",
       "session_start_time": null,
       "spark_pool": null,
       "state": "finished",
       "statement_id": 11,
       "statement_ids": [
        11
       ]
      },
      "text/plain": [
       "StatementMeta(, 13ab6e47-def1-4253-9e4e-d67e1a4d87c6, 11, Finished, Available, Finished)"
      ]
     },
     "metadata": {},
     "output_type": "display_data"
    }
   ],
   "source": [
    "# DataFrame assembly\n",
    "columns = ['eval_date', 'age_sex', 'fusion', 'ordering_provider', 'brace', 'pain', 'plof', 'mobility']\n",
    "data = list(zip(eval_date, age_sex, fusion, ordering_provider, brace, pain, plof, mobility))\n",
    "df = spark.createDataFrame(data, schema = columns)\n",
    "\n",
    "df.write.mode('append').saveAsTable('bronze_layer_nlp')"
   ]
  }
 ],
 "metadata": {
  "dependencies": {
   "environment": {
    "environmentId": "bca2ff44-1629-4724-860f-6a970a7e3659",
    "workspaceId": "8ee4903a-6e90-4510-b3c2-424d07933817"
   },
   "lakehouse": {
    "default_lakehouse": "e88fef1f-d55a-4f2c-bad7-9ecc1cafd638",
    "default_lakehouse_name": "PT_evals_lakehouse",
    "default_lakehouse_workspace_id": "8ee4903a-6e90-4510-b3c2-424d07933817"
   }
  },
  "kernel_info": {
   "name": "synapse_pyspark"
  },
  "kernelspec": {
   "display_name": "Python 3 (ipykernel)",
   "language": "python",
   "name": "python3"
  },
  "language_info": {
   "codemirror_mode": {
    "name": "ipython",
    "version": 3
   },
   "file_extension": ".py",
   "mimetype": "text/x-python",
   "name": "python",
   "nbconvert_exporter": "python",
   "pygments_lexer": "ipython3",
   "version": "3.11.5"
  },
  "microsoft": {
   "language": "python",
   "language_group": "synapse_pyspark",
   "ms_spell_check": {
    "ms_spell_check_language": "en"
   }
  },
  "nteract": {
   "version": "nteract-front-end@1.0.0"
  },
  "spark_compute": {
   "compute_id": "/trident/default"
  },
  "widgets": {}
 },
 "nbformat": 4,
 "nbformat_minor": 5
}
