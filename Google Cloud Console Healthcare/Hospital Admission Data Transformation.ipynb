{
 "cells": [
  {
   "cell_type": "markdown",
   "id": "e04d617e",
   "metadata": {},
   "source": [
    "# Hospital Admission Data Analysis"
   ]
  },
  {
   "cell_type": "markdown",
   "id": "650acc8d",
   "metadata": {},
   "source": [
    "## Project Goals and Objectives:\n",
    "### 1) Create an effective ETL pipeline\n",
    "* Utilize Python and relevant packages (pandas, numpy, re) to extract and transform data\n",
    "* Build a Google Devian 11 Instance\n",
    "* Perform pipeline creation with Mage VM\n",
    "* Load onto Google Cloud Storage\n",
    "### 2) Build an easy to digest dashboard to showcase information\n",
    "* Use Looker Studio to build a visualization which gives clear insights into data presented\n",
    "### 3) Advise business decisions based on data presented\n",
    "* Use Google BigQuery to create logical conclusions based on data presented"
   ]
  },
  {
   "cell_type": "code",
   "execution_count": 1,
   "id": "db2f6d97",
   "metadata": {},
   "outputs": [
    {
     "name": "stdout",
     "output_type": "stream",
     "text": [
      "There are 0 duplicate rows in this dataset. There are also 0 null values in the dataset.\n"
     ]
    }
   ],
   "source": [
    "import pandas as pd\n",
    "import re as re\n",
    "\n",
    "## Load dataset into a DataFrame\n",
    "df = pd.read_csv('healthcare_dataset.csv')\n",
    "\n",
    "print(f'There are {len(df[df.duplicated()])} duplicate rows in this dataset. There are also {df.isnull().sum().sum()} null values in the dataset.')"
   ]
  },
  {
   "cell_type": "code",
   "execution_count": 2,
   "id": "01376256",
   "metadata": {},
   "outputs": [
    {
     "name": "stdout",
     "output_type": "stream",
     "text": [
      "<class 'pandas.core.frame.DataFrame'>\n",
      "RangeIndex: 10000 entries, 0 to 9999\n",
      "Data columns (total 15 columns):\n",
      " #   Column              Non-Null Count  Dtype  \n",
      "---  ------              --------------  -----  \n",
      " 0   Name                10000 non-null  object \n",
      " 1   Age                 10000 non-null  int64  \n",
      " 2   Gender              10000 non-null  object \n",
      " 3   Blood Type          10000 non-null  object \n",
      " 4   Medical Condition   10000 non-null  object \n",
      " 5   Date of Admission   10000 non-null  object \n",
      " 6   Doctor              10000 non-null  object \n",
      " 7   Hospital            10000 non-null  object \n",
      " 8   Insurance Provider  10000 non-null  object \n",
      " 9   Billing Amount      10000 non-null  float64\n",
      " 10  Room Number         10000 non-null  int64  \n",
      " 11  Admission Type      10000 non-null  object \n",
      " 12  Discharge Date      10000 non-null  object \n",
      " 13  Medication          10000 non-null  object \n",
      " 14  Test Results        10000 non-null  object \n",
      "dtypes: float64(1), int64(2), object(12)\n",
      "memory usage: 1.1+ MB\n"
     ]
    }
   ],
   "source": [
    "df.info()"
   ]
  },
  {
   "cell_type": "markdown",
   "id": "4acbf496",
   "metadata": {},
   "source": [
    "### From our data, we see that we do not have a suitable primary key which is simple, meaningless, and unique."
   ]
  },
  {
   "cell_type": "code",
   "execution_count": 3,
   "id": "09945667",
   "metadata": {},
   "outputs": [],
   "source": [
    "## Create a suitable primary key for each admission\n",
    "df['adm_id'] = df.index"
   ]
  },
  {
   "cell_type": "markdown",
   "id": "28043a27",
   "metadata": {},
   "source": [
    "### Our data includes dates which are not of correct type 'datetime'. We will convert these columns, as well as add a new column 'los' with this information which will represent length of stay in days. "
   ]
  },
  {
   "cell_type": "code",
   "execution_count": 4,
   "id": "e15eb7b0",
   "metadata": {},
   "outputs": [
    {
     "data": {
      "text/plain": [
       "0   14 days\n",
       "1   14 days\n",
       "2   30 days\n",
       "3    1 days\n",
       "4   24 days\n",
       "Name: los, dtype: timedelta64[ns]"
      ]
     },
     "execution_count": 4,
     "metadata": {},
     "output_type": "execute_result"
    }
   ],
   "source": [
    "## Convert relevant columns to type datetime\n",
    "df['Date of Admission'] = pd.to_datetime(df['Date of Admission'])\n",
    "df['Discharge Date'] = pd.to_datetime(df['Discharge Date'])\n",
    "\n",
    "## Create a length of stay column\n",
    "df['los'] = df['Discharge Date']-df['Date of Admission']\n",
    "df.los.head()"
   ]
  },
  {
   "cell_type": "markdown",
   "id": "3d12fb11",
   "metadata": {},
   "source": [
    "### When the length of stay column is created, it is recorded as 'x days'. We will convert this to an integer."
   ]
  },
  {
   "cell_type": "code",
   "execution_count": 5,
   "id": "8b0c5050",
   "metadata": {},
   "outputs": [
    {
     "data": {
      "text/plain": [
       "0    14\n",
       "1    14\n",
       "2    30\n",
       "3     1\n",
       "4    24\n",
       "Name: los, dtype: int64"
      ]
     },
     "execution_count": 5,
     "metadata": {},
     "output_type": "execute_result"
    }
   ],
   "source": [
    "## Convert the length of stay column to string type\n",
    "df['los'] = df['los'].astype(str)\n",
    "\n",
    "## Remove ' day' or ' days' from each record in length of stay\n",
    "def remove_days(word):\n",
    "    return re.sub(r'\\s\\b\\D+\\b',\"\",word)\n",
    "\n",
    "df['los'] = df['los'].apply(remove_days)\n",
    "df['los'] = df['los'].astype(int)\n",
    "\n",
    "df.los.head()"
   ]
  },
  {
   "cell_type": "markdown",
   "id": "fe541c5b",
   "metadata": {},
   "source": [
    "### We will rename our columns to be consistent and SQL friendly"
   ]
  },
  {
   "cell_type": "code",
   "execution_count": 6,
   "id": "93d6dd90",
   "metadata": {},
   "outputs": [],
   "source": [
    "df.rename(columns={'Name':'name',\n",
    "        'Age':'age',\n",
    "        'Gender':'gender',\n",
    "        'Blood Type':'blood_type',\n",
    "        'Medical Condition':'med_condition',\n",
    "        'Date of Admission':'adm_date',\n",
    "        'Doctor':'doctor',\n",
    "        'Hospital':'hospital',\n",
    "        'Insurance Provider':'ins_provider',\n",
    "        'Billing Amount':'billing_amt',\n",
    "        'Room Number':'room_number',\n",
    "        'Admission Type':'adm_type',\n",
    "        'Discharge Date':'dc_date',\n",
    "        'Medication':'medication',\n",
    "        'Test Results':'test_results'}, inplace=True)"
   ]
  },
  {
   "cell_type": "markdown",
   "id": "f0dd3215",
   "metadata": {},
   "source": [
    "### Let's round the billing amount to two decimal places."
   ]
  },
  {
   "cell_type": "code",
   "execution_count": 7,
   "id": "8a7d9135",
   "metadata": {
    "scrolled": true
   },
   "outputs": [
    {
     "data": {
      "text/html": [
       "<div>\n",
       "<style scoped>\n",
       "    .dataframe tbody tr th:only-of-type {\n",
       "        vertical-align: middle;\n",
       "    }\n",
       "\n",
       "    .dataframe tbody tr th {\n",
       "        vertical-align: top;\n",
       "    }\n",
       "\n",
       "    .dataframe thead th {\n",
       "        text-align: right;\n",
       "    }\n",
       "</style>\n",
       "<table border=\"1\" class=\"dataframe\">\n",
       "  <thead>\n",
       "    <tr style=\"text-align: right;\">\n",
       "      <th></th>\n",
       "      <th>name</th>\n",
       "      <th>age</th>\n",
       "      <th>gender</th>\n",
       "      <th>blood_type</th>\n",
       "      <th>med_condition</th>\n",
       "      <th>adm_date</th>\n",
       "      <th>doctor</th>\n",
       "      <th>hospital</th>\n",
       "      <th>ins_provider</th>\n",
       "      <th>billing_amt</th>\n",
       "      <th>room_number</th>\n",
       "      <th>adm_type</th>\n",
       "      <th>dc_date</th>\n",
       "      <th>medication</th>\n",
       "      <th>test_results</th>\n",
       "      <th>adm_id</th>\n",
       "      <th>los</th>\n",
       "    </tr>\n",
       "  </thead>\n",
       "  <tbody>\n",
       "    <tr>\n",
       "      <th>0</th>\n",
       "      <td>Tiffany Ramirez</td>\n",
       "      <td>81</td>\n",
       "      <td>Female</td>\n",
       "      <td>O-</td>\n",
       "      <td>Diabetes</td>\n",
       "      <td>2022-11-17</td>\n",
       "      <td>Patrick Parker</td>\n",
       "      <td>Wallace-Hamilton</td>\n",
       "      <td>Medicare</td>\n",
       "      <td>37490.98</td>\n",
       "      <td>146</td>\n",
       "      <td>Elective</td>\n",
       "      <td>2022-12-01</td>\n",
       "      <td>Aspirin</td>\n",
       "      <td>Inconclusive</td>\n",
       "      <td>0</td>\n",
       "      <td>14</td>\n",
       "    </tr>\n",
       "    <tr>\n",
       "      <th>1</th>\n",
       "      <td>Ruben Burns</td>\n",
       "      <td>35</td>\n",
       "      <td>Male</td>\n",
       "      <td>O+</td>\n",
       "      <td>Asthma</td>\n",
       "      <td>2023-06-01</td>\n",
       "      <td>Diane Jackson</td>\n",
       "      <td>Burke, Griffin and Cooper</td>\n",
       "      <td>UnitedHealthcare</td>\n",
       "      <td>47304.06</td>\n",
       "      <td>404</td>\n",
       "      <td>Emergency</td>\n",
       "      <td>2023-06-15</td>\n",
       "      <td>Lipitor</td>\n",
       "      <td>Normal</td>\n",
       "      <td>1</td>\n",
       "      <td>14</td>\n",
       "    </tr>\n",
       "    <tr>\n",
       "      <th>2</th>\n",
       "      <td>Chad Byrd</td>\n",
       "      <td>61</td>\n",
       "      <td>Male</td>\n",
       "      <td>B-</td>\n",
       "      <td>Obesity</td>\n",
       "      <td>2019-01-09</td>\n",
       "      <td>Paul Baker</td>\n",
       "      <td>Walton LLC</td>\n",
       "      <td>Medicare</td>\n",
       "      <td>36874.90</td>\n",
       "      <td>292</td>\n",
       "      <td>Emergency</td>\n",
       "      <td>2019-02-08</td>\n",
       "      <td>Lipitor</td>\n",
       "      <td>Normal</td>\n",
       "      <td>2</td>\n",
       "      <td>30</td>\n",
       "    </tr>\n",
       "    <tr>\n",
       "      <th>3</th>\n",
       "      <td>Antonio Frederick</td>\n",
       "      <td>49</td>\n",
       "      <td>Male</td>\n",
       "      <td>B-</td>\n",
       "      <td>Asthma</td>\n",
       "      <td>2020-05-02</td>\n",
       "      <td>Brian Chandler</td>\n",
       "      <td>Garcia Ltd</td>\n",
       "      <td>Medicare</td>\n",
       "      <td>23303.32</td>\n",
       "      <td>480</td>\n",
       "      <td>Urgent</td>\n",
       "      <td>2020-05-03</td>\n",
       "      <td>Penicillin</td>\n",
       "      <td>Abnormal</td>\n",
       "      <td>3</td>\n",
       "      <td>1</td>\n",
       "    </tr>\n",
       "    <tr>\n",
       "      <th>4</th>\n",
       "      <td>Mrs. Brandy Flowers</td>\n",
       "      <td>51</td>\n",
       "      <td>Male</td>\n",
       "      <td>O-</td>\n",
       "      <td>Arthritis</td>\n",
       "      <td>2021-07-09</td>\n",
       "      <td>Dustin Griffin</td>\n",
       "      <td>Jones, Brown and Murray</td>\n",
       "      <td>UnitedHealthcare</td>\n",
       "      <td>18086.34</td>\n",
       "      <td>477</td>\n",
       "      <td>Urgent</td>\n",
       "      <td>2021-08-02</td>\n",
       "      <td>Paracetamol</td>\n",
       "      <td>Normal</td>\n",
       "      <td>4</td>\n",
       "      <td>24</td>\n",
       "    </tr>\n",
       "  </tbody>\n",
       "</table>\n",
       "</div>"
      ],
      "text/plain": [
       "                  name  age  gender blood_type med_condition   adm_date  \\\n",
       "0      Tiffany Ramirez   81  Female         O-      Diabetes 2022-11-17   \n",
       "1          Ruben Burns   35    Male         O+        Asthma 2023-06-01   \n",
       "2            Chad Byrd   61    Male         B-       Obesity 2019-01-09   \n",
       "3    Antonio Frederick   49    Male         B-        Asthma 2020-05-02   \n",
       "4  Mrs. Brandy Flowers   51    Male         O-     Arthritis 2021-07-09   \n",
       "\n",
       "           doctor                   hospital      ins_provider  billing_amt  \\\n",
       "0  Patrick Parker           Wallace-Hamilton          Medicare     37490.98   \n",
       "1   Diane Jackson  Burke, Griffin and Cooper  UnitedHealthcare     47304.06   \n",
       "2      Paul Baker                 Walton LLC          Medicare     36874.90   \n",
       "3  Brian Chandler                 Garcia Ltd          Medicare     23303.32   \n",
       "4  Dustin Griffin    Jones, Brown and Murray  UnitedHealthcare     18086.34   \n",
       "\n",
       "   room_number   adm_type    dc_date   medication  test_results  adm_id  los  \n",
       "0          146   Elective 2022-12-01      Aspirin  Inconclusive       0   14  \n",
       "1          404  Emergency 2023-06-15      Lipitor        Normal       1   14  \n",
       "2          292  Emergency 2019-02-08      Lipitor        Normal       2   30  \n",
       "3          480     Urgent 2020-05-03   Penicillin      Abnormal       3    1  \n",
       "4          477     Urgent 2021-08-02  Paracetamol        Normal       4   24  "
      ]
     },
     "execution_count": 7,
     "metadata": {},
     "output_type": "execute_result"
    }
   ],
   "source": [
    "df['billing_amt'] = round(df['billing_amt'],2)\n",
    "df.head()"
   ]
  },
  {
   "cell_type": "markdown",
   "id": "42b17710",
   "metadata": {},
   "source": [
    "### We will now create a few dimension tables to assist in data analysis and visualization later."
   ]
  },
  {
   "cell_type": "code",
   "execution_count": 8,
   "id": "3e80007b",
   "metadata": {},
   "outputs": [
    {
     "name": "stdout",
     "output_type": "stream",
     "text": [
      "<class 'pandas.core.frame.DataFrame'>\n",
      "RangeIndex: 10000 entries, 0 to 9999\n",
      "Data columns (total 6 columns):\n",
      " #   Column        Non-Null Count  Dtype \n",
      "---  ------        --------------  ----- \n",
      " 0   person_id     10000 non-null  int64 \n",
      " 1   name          10000 non-null  object\n",
      " 2   age           10000 non-null  int64 \n",
      " 3   gender        10000 non-null  object\n",
      " 4   blood_type    10000 non-null  object\n",
      " 5   ins_provider  10000 non-null  object\n",
      "dtypes: int64(2), object(4)\n",
      "memory usage: 468.9+ KB\n"
     ]
    }
   ],
   "source": [
    "person_dim = df[['name','age','gender','blood_type','ins_provider']].drop_duplicates().reset_index(drop=True)\n",
    "person_dim['person_id'] = person_dim.index\n",
    "person_dim = person_dim[['person_id','name','age','gender','blood_type','ins_provider']]\n",
    "person_dim.info()"
   ]
  },
  {
   "cell_type": "code",
   "execution_count": 9,
   "id": "f3bccc61",
   "metadata": {
    "scrolled": true
   },
   "outputs": [],
   "source": [
    "medication_dim = df[['medication']].drop_duplicates().reset_index(drop=True)\n",
    "medication_dim['medication_id'] = medication_dim.index\n",
    "medication_dim = medication_dim[['medication_id','medication']]\n",
    "\n",
    "med_condition_dim = df[['med_condition']].drop_duplicates().reset_index(drop=True)\n",
    "med_condition_dim['med_condition_id'] = med_condition_dim.index\n",
    "med_condition_dim = med_condition_dim[['med_condition_id','med_condition']]"
   ]
  },
  {
   "cell_type": "markdown",
   "id": "83b29efa",
   "metadata": {},
   "source": [
    "### Dividing out our date columns will be helpful to answer questions related to date later."
   ]
  },
  {
   "cell_type": "code",
   "execution_count": 10,
   "id": "49ca8760",
   "metadata": {},
   "outputs": [],
   "source": [
    "adm_date_dim = df[['adm_date']].drop_duplicates().reset_index(drop=True)\n",
    "adm_date_dim['adm_date_year'] = adm_date_dim['adm_date'].dt.year\n",
    "adm_date_dim['adm_date_month'] = adm_date_dim['adm_date'].dt.month\n",
    "adm_date_dim['adm_date_day'] = adm_date_dim['adm_date'].dt.day\n",
    "adm_date_dim['adm_date_weekday'] = adm_date_dim['adm_date'].dt.weekday\n",
    "adm_date_dim['adm_date_id'] = adm_date_dim.index\n",
    "\n",
    "dc_date_dim = df[['dc_date']].drop_duplicates().reset_index(drop=True)\n",
    "dc_date_dim['dc_date_year'] = dc_date_dim['dc_date'].dt.year\n",
    "dc_date_dim['dc_date_month'] = dc_date_dim['dc_date'].dt.month\n",
    "dc_date_dim['dc_date_day'] = dc_date_dim['dc_date'].dt.day\n",
    "dc_date_dim['dc_date_weekday'] = dc_date_dim['dc_date'].dt.weekday\n",
    "dc_date_dim['dc_date_id'] = dc_date_dim.index"
   ]
  },
  {
   "cell_type": "markdown",
   "id": "d38b2528",
   "metadata": {},
   "source": [
    "### Let's create our final fact table."
   ]
  },
  {
   "cell_type": "code",
   "execution_count": 11,
   "id": "e9b80f55",
   "metadata": {},
   "outputs": [
    {
     "name": "stdout",
     "output_type": "stream",
     "text": [
      "<class 'pandas.core.frame.DataFrame'>\n",
      "RangeIndex: 10000 entries, 0 to 9999\n",
      "Data columns (total 12 columns):\n",
      " #   Column            Non-Null Count  Dtype  \n",
      "---  ------            --------------  -----  \n",
      " 0   adm_id            10000 non-null  int64  \n",
      " 1   person_id         10000 non-null  int64  \n",
      " 2   adm_date_id       10000 non-null  int64  \n",
      " 3   dc_date_id        10000 non-null  int64  \n",
      " 4   med_condition_id  10000 non-null  int64  \n",
      " 5   medication_id     10000 non-null  int64  \n",
      " 6   los               10000 non-null  int64  \n",
      " 7   doctor            10000 non-null  object \n",
      " 8   hospital          10000 non-null  object \n",
      " 9   billing_amt       10000 non-null  float64\n",
      " 10  room_number       10000 non-null  int64  \n",
      " 11  test_results      10000 non-null  object \n",
      "dtypes: float64(1), int64(8), object(3)\n",
      "memory usage: 937.6+ KB\n"
     ]
    }
   ],
   "source": [
    "fact_table = df.merge(person_dim, on=['name','gender','age','blood_type','ins_provider']) \\\n",
    "             .merge(adm_date_dim, on='adm_date') \\\n",
    "             .merge(dc_date_dim, on='dc_date') \\\n",
    "             .merge(med_condition_dim, on='med_condition') \\\n",
    "             .merge(medication_dim, on='medication') \\\n",
    "             [['adm_id','person_id',\n",
    "               'adm_date_id','dc_date_id','med_condition_id','medication_id','los','doctor',\n",
    "               'hospital','billing_amt','room_number','test_results']]\n",
    "\n",
    "\n",
    "fact_table.drop_duplicates().reset_index\n",
    "fact_table.info()"
   ]
  },
  {
   "cell_type": "markdown",
   "id": "92fb5f80",
   "metadata": {},
   "source": [
    "### We will take our transformations and load onto a Google Devian 11 Instance to create a pipeline with Mage VM to Google Cloud Storage. We can perform analysis and visualization with BigQuery and Looker Studio in Google Cloud Storage.\n"
   ]
  }
 ],
 "metadata": {
  "kernelspec": {
   "display_name": "Python 3 (ipykernel)",
   "language": "python",
   "name": "python3"
  },
  "language_info": {
   "codemirror_mode": {
    "name": "ipython",
    "version": 3
   },
   "file_extension": ".py",
   "mimetype": "text/x-python",
   "name": "python",
   "nbconvert_exporter": "python",
   "pygments_lexer": "ipython3",
   "version": "3.11.5"
  }
 },
 "nbformat": 4,
 "nbformat_minor": 5
}
